{
  "cells": [
    {
      "cell_type": "markdown",
      "metadata": {
        "id": "UawAiYlvmFur"
      },
      "source": [
        "## Develop a Deep Learning Based Churn Prediction Engine\n"
      ]
    },
    {
      "cell_type": "markdown",
      "metadata": {
        "id": "v59jaUY6mFuw"
      },
      "source": [
        "### Import required libraries"
      ]
    },
    {
      "cell_type": "code",
      "execution_count": null,
      "metadata": {
        "id": "mhnGkSRtmFuw"
      },
      "outputs": [],
      "source": [
        "import warnings\n",
        "warnings.filterwarnings('ignore')"
      ]
    },
    {
      "cell_type": "code",
      "execution_count": null,
      "metadata": {
        "id": "rkFiHfeVmFuy"
      },
      "outputs": [],
      "source": [
        "import pandas as pd\n",
        "import numpy as np\n",
        "import tensorflow as tf\n",
        "\n",
        "from sklearn.model_selection import train_test_split\n",
        "from sklearn.impute import SimpleImputer\n",
        "from sklearn_pandas import DataFrameMapper\n",
        "from sklearn.preprocessing import StandardScaler, OneHotEncoder\n",
        "from sklearn.metrics import accuracy_score,recall_score, precision_score, f1_score\n",
        "from sklearn.metrics import classification_report, confusion_matrix\n",
        "\n",
        "from tensorflow.keras.models import Sequential\n",
        "from tensorflow.keras import Input, Model\n",
        "from tensorflow.keras.layers import Dense, Dropout, Activation\n",
        "from tensorflow.keras.regularizers import l2, l1\n",
        "from tensorflow.keras.callbacks import EarlyStopping, ModelCheckpoint"
      ]
    },
    {
      "cell_type": "markdown",
      "metadata": {
        "id": "LMt2ujzdmFuy"
      },
      "source": [
        "#### Load and understand the data"
      ]
    },
    {
      "cell_type": "code",
      "execution_count": null,
      "metadata": {
        "id": "GhWvFOLfmFuz"
      },
      "outputs": [],
      "source": [
        "# Read the data\n",
        "data = pd.read_csv(\"TelcoChurn.csv\")"
      ]
    },
    {
      "cell_type": "code",
      "execution_count": null,
      "metadata": {
        "id": "Rhqr0odBmFuz",
        "outputId": "76820c10-df9a-4fa6-a012-b76c658a4f23"
      },
      "outputs": [
        {
          "data": {
            "text/plain": [
              "customerID           object\n",
              "gender               object\n",
              "SeniorCitizen         int64\n",
              "Partner              object\n",
              "Dependents           object\n",
              "tenure                int64\n",
              "PhoneService         object\n",
              "MultipleLines        object\n",
              "InternetService      object\n",
              "OnlineSecurity       object\n",
              "OnlineBackup         object\n",
              "DeviceProtection     object\n",
              "TechSupport          object\n",
              "StreamingTV          object\n",
              "StreamingMovies      object\n",
              "Contract             object\n",
              "PaperlessBilling     object\n",
              "PaymentMethod        object\n",
              "MonthlyCharges      float64\n",
              "TotalCharges         object\n",
              "Churn                object\n",
              "dtype: object"
            ]
          },
          "execution_count": 4,
          "metadata": {},
          "output_type": "execute_result"
        }
      ],
      "source": [
        "# Check the data types of the columns\n",
        "data.dtypes"
      ]
    },
    {
      "cell_type": "code",
      "execution_count": null,
      "metadata": {
        "id": "ujI92-WPmFu0",
        "outputId": "ddb9ad98-8de0-4256-e85d-29d2574ac080"
      },
      "outputs": [
        {
          "data": {
            "text/html": [
              "<div>\n",
              "<style scoped>\n",
              "    .dataframe tbody tr th:only-of-type {\n",
              "        vertical-align: middle;\n",
              "    }\n",
              "\n",
              "    .dataframe tbody tr th {\n",
              "        vertical-align: top;\n",
              "    }\n",
              "\n",
              "    .dataframe thead th {\n",
              "        text-align: right;\n",
              "    }\n",
              "</style>\n",
              "<table border=\"1\" class=\"dataframe\">\n",
              "  <thead>\n",
              "    <tr style=\"text-align: right;\">\n",
              "      <th></th>\n",
              "      <th>customerID</th>\n",
              "      <th>gender</th>\n",
              "      <th>SeniorCitizen</th>\n",
              "      <th>Partner</th>\n",
              "      <th>Dependents</th>\n",
              "      <th>tenure</th>\n",
              "      <th>PhoneService</th>\n",
              "      <th>MultipleLines</th>\n",
              "      <th>InternetService</th>\n",
              "      <th>OnlineSecurity</th>\n",
              "      <th>...</th>\n",
              "      <th>DeviceProtection</th>\n",
              "      <th>TechSupport</th>\n",
              "      <th>StreamingTV</th>\n",
              "      <th>StreamingMovies</th>\n",
              "      <th>Contract</th>\n",
              "      <th>PaperlessBilling</th>\n",
              "      <th>PaymentMethod</th>\n",
              "      <th>MonthlyCharges</th>\n",
              "      <th>TotalCharges</th>\n",
              "      <th>Churn</th>\n",
              "    </tr>\n",
              "  </thead>\n",
              "  <tbody>\n",
              "    <tr>\n",
              "      <th>count</th>\n",
              "      <td>7043</td>\n",
              "      <td>7043</td>\n",
              "      <td>7043.000000</td>\n",
              "      <td>7043</td>\n",
              "      <td>7043</td>\n",
              "      <td>7043.000000</td>\n",
              "      <td>7043</td>\n",
              "      <td>7043</td>\n",
              "      <td>7043</td>\n",
              "      <td>7043</td>\n",
              "      <td>...</td>\n",
              "      <td>7043</td>\n",
              "      <td>7043</td>\n",
              "      <td>7043</td>\n",
              "      <td>7043</td>\n",
              "      <td>7043</td>\n",
              "      <td>7043</td>\n",
              "      <td>7043</td>\n",
              "      <td>7043.000000</td>\n",
              "      <td>7043</td>\n",
              "      <td>7043</td>\n",
              "    </tr>\n",
              "    <tr>\n",
              "      <th>unique</th>\n",
              "      <td>7043</td>\n",
              "      <td>2</td>\n",
              "      <td>NaN</td>\n",
              "      <td>2</td>\n",
              "      <td>2</td>\n",
              "      <td>NaN</td>\n",
              "      <td>2</td>\n",
              "      <td>2</td>\n",
              "      <td>3</td>\n",
              "      <td>2</td>\n",
              "      <td>...</td>\n",
              "      <td>2</td>\n",
              "      <td>2</td>\n",
              "      <td>2</td>\n",
              "      <td>2</td>\n",
              "      <td>3</td>\n",
              "      <td>2</td>\n",
              "      <td>4</td>\n",
              "      <td>NaN</td>\n",
              "      <td>6531</td>\n",
              "      <td>2</td>\n",
              "    </tr>\n",
              "    <tr>\n",
              "      <th>top</th>\n",
              "      <td>6743-HHQPF</td>\n",
              "      <td>Male</td>\n",
              "      <td>NaN</td>\n",
              "      <td>No</td>\n",
              "      <td>No</td>\n",
              "      <td>NaN</td>\n",
              "      <td>Yes</td>\n",
              "      <td>No</td>\n",
              "      <td>Fiber optic</td>\n",
              "      <td>No</td>\n",
              "      <td>...</td>\n",
              "      <td>No</td>\n",
              "      <td>No</td>\n",
              "      <td>No</td>\n",
              "      <td>No</td>\n",
              "      <td>Month-to-month</td>\n",
              "      <td>Yes</td>\n",
              "      <td>Electronic check</td>\n",
              "      <td>NaN</td>\n",
              "      <td>20.2</td>\n",
              "      <td>No</td>\n",
              "    </tr>\n",
              "    <tr>\n",
              "      <th>freq</th>\n",
              "      <td>1</td>\n",
              "      <td>3555</td>\n",
              "      <td>NaN</td>\n",
              "      <td>3641</td>\n",
              "      <td>4933</td>\n",
              "      <td>NaN</td>\n",
              "      <td>6361</td>\n",
              "      <td>4072</td>\n",
              "      <td>3096</td>\n",
              "      <td>5024</td>\n",
              "      <td>...</td>\n",
              "      <td>4621</td>\n",
              "      <td>4999</td>\n",
              "      <td>4336</td>\n",
              "      <td>4311</td>\n",
              "      <td>3875</td>\n",
              "      <td>4171</td>\n",
              "      <td>2365</td>\n",
              "      <td>NaN</td>\n",
              "      <td>11</td>\n",
              "      <td>5174</td>\n",
              "    </tr>\n",
              "    <tr>\n",
              "      <th>mean</th>\n",
              "      <td>NaN</td>\n",
              "      <td>NaN</td>\n",
              "      <td>0.162147</td>\n",
              "      <td>NaN</td>\n",
              "      <td>NaN</td>\n",
              "      <td>32.371149</td>\n",
              "      <td>NaN</td>\n",
              "      <td>NaN</td>\n",
              "      <td>NaN</td>\n",
              "      <td>NaN</td>\n",
              "      <td>...</td>\n",
              "      <td>NaN</td>\n",
              "      <td>NaN</td>\n",
              "      <td>NaN</td>\n",
              "      <td>NaN</td>\n",
              "      <td>NaN</td>\n",
              "      <td>NaN</td>\n",
              "      <td>NaN</td>\n",
              "      <td>64.761692</td>\n",
              "      <td>NaN</td>\n",
              "      <td>NaN</td>\n",
              "    </tr>\n",
              "    <tr>\n",
              "      <th>std</th>\n",
              "      <td>NaN</td>\n",
              "      <td>NaN</td>\n",
              "      <td>0.368612</td>\n",
              "      <td>NaN</td>\n",
              "      <td>NaN</td>\n",
              "      <td>24.559481</td>\n",
              "      <td>NaN</td>\n",
              "      <td>NaN</td>\n",
              "      <td>NaN</td>\n",
              "      <td>NaN</td>\n",
              "      <td>...</td>\n",
              "      <td>NaN</td>\n",
              "      <td>NaN</td>\n",
              "      <td>NaN</td>\n",
              "      <td>NaN</td>\n",
              "      <td>NaN</td>\n",
              "      <td>NaN</td>\n",
              "      <td>NaN</td>\n",
              "      <td>30.090047</td>\n",
              "      <td>NaN</td>\n",
              "      <td>NaN</td>\n",
              "    </tr>\n",
              "    <tr>\n",
              "      <th>min</th>\n",
              "      <td>NaN</td>\n",
              "      <td>NaN</td>\n",
              "      <td>0.000000</td>\n",
              "      <td>NaN</td>\n",
              "      <td>NaN</td>\n",
              "      <td>0.000000</td>\n",
              "      <td>NaN</td>\n",
              "      <td>NaN</td>\n",
              "      <td>NaN</td>\n",
              "      <td>NaN</td>\n",
              "      <td>...</td>\n",
              "      <td>NaN</td>\n",
              "      <td>NaN</td>\n",
              "      <td>NaN</td>\n",
              "      <td>NaN</td>\n",
              "      <td>NaN</td>\n",
              "      <td>NaN</td>\n",
              "      <td>NaN</td>\n",
              "      <td>18.250000</td>\n",
              "      <td>NaN</td>\n",
              "      <td>NaN</td>\n",
              "    </tr>\n",
              "    <tr>\n",
              "      <th>25%</th>\n",
              "      <td>NaN</td>\n",
              "      <td>NaN</td>\n",
              "      <td>0.000000</td>\n",
              "      <td>NaN</td>\n",
              "      <td>NaN</td>\n",
              "      <td>9.000000</td>\n",
              "      <td>NaN</td>\n",
              "      <td>NaN</td>\n",
              "      <td>NaN</td>\n",
              "      <td>NaN</td>\n",
              "      <td>...</td>\n",
              "      <td>NaN</td>\n",
              "      <td>NaN</td>\n",
              "      <td>NaN</td>\n",
              "      <td>NaN</td>\n",
              "      <td>NaN</td>\n",
              "      <td>NaN</td>\n",
              "      <td>NaN</td>\n",
              "      <td>35.500000</td>\n",
              "      <td>NaN</td>\n",
              "      <td>NaN</td>\n",
              "    </tr>\n",
              "    <tr>\n",
              "      <th>50%</th>\n",
              "      <td>NaN</td>\n",
              "      <td>NaN</td>\n",
              "      <td>0.000000</td>\n",
              "      <td>NaN</td>\n",
              "      <td>NaN</td>\n",
              "      <td>29.000000</td>\n",
              "      <td>NaN</td>\n",
              "      <td>NaN</td>\n",
              "      <td>NaN</td>\n",
              "      <td>NaN</td>\n",
              "      <td>...</td>\n",
              "      <td>NaN</td>\n",
              "      <td>NaN</td>\n",
              "      <td>NaN</td>\n",
              "      <td>NaN</td>\n",
              "      <td>NaN</td>\n",
              "      <td>NaN</td>\n",
              "      <td>NaN</td>\n",
              "      <td>70.350000</td>\n",
              "      <td>NaN</td>\n",
              "      <td>NaN</td>\n",
              "    </tr>\n",
              "    <tr>\n",
              "      <th>75%</th>\n",
              "      <td>NaN</td>\n",
              "      <td>NaN</td>\n",
              "      <td>0.000000</td>\n",
              "      <td>NaN</td>\n",
              "      <td>NaN</td>\n",
              "      <td>55.000000</td>\n",
              "      <td>NaN</td>\n",
              "      <td>NaN</td>\n",
              "      <td>NaN</td>\n",
              "      <td>NaN</td>\n",
              "      <td>...</td>\n",
              "      <td>NaN</td>\n",
              "      <td>NaN</td>\n",
              "      <td>NaN</td>\n",
              "      <td>NaN</td>\n",
              "      <td>NaN</td>\n",
              "      <td>NaN</td>\n",
              "      <td>NaN</td>\n",
              "      <td>89.850000</td>\n",
              "      <td>NaN</td>\n",
              "      <td>NaN</td>\n",
              "    </tr>\n",
              "    <tr>\n",
              "      <th>max</th>\n",
              "      <td>NaN</td>\n",
              "      <td>NaN</td>\n",
              "      <td>1.000000</td>\n",
              "      <td>NaN</td>\n",
              "      <td>NaN</td>\n",
              "      <td>72.000000</td>\n",
              "      <td>NaN</td>\n",
              "      <td>NaN</td>\n",
              "      <td>NaN</td>\n",
              "      <td>NaN</td>\n",
              "      <td>...</td>\n",
              "      <td>NaN</td>\n",
              "      <td>NaN</td>\n",
              "      <td>NaN</td>\n",
              "      <td>NaN</td>\n",
              "      <td>NaN</td>\n",
              "      <td>NaN</td>\n",
              "      <td>NaN</td>\n",
              "      <td>118.750000</td>\n",
              "      <td>NaN</td>\n",
              "      <td>NaN</td>\n",
              "    </tr>\n",
              "  </tbody>\n",
              "</table>\n",
              "<p>11 rows × 21 columns</p>\n",
              "</div>"
            ],
            "text/plain": [
              "        customerID gender  SeniorCitizen Partner Dependents       tenure  \\\n",
              "count         7043   7043    7043.000000    7043       7043  7043.000000   \n",
              "unique        7043      2            NaN       2          2          NaN   \n",
              "top     6743-HHQPF   Male            NaN      No         No          NaN   \n",
              "freq             1   3555            NaN    3641       4933          NaN   \n",
              "mean           NaN    NaN       0.162147     NaN        NaN    32.371149   \n",
              "std            NaN    NaN       0.368612     NaN        NaN    24.559481   \n",
              "min            NaN    NaN       0.000000     NaN        NaN     0.000000   \n",
              "25%            NaN    NaN       0.000000     NaN        NaN     9.000000   \n",
              "50%            NaN    NaN       0.000000     NaN        NaN    29.000000   \n",
              "75%            NaN    NaN       0.000000     NaN        NaN    55.000000   \n",
              "max            NaN    NaN       1.000000     NaN        NaN    72.000000   \n",
              "\n",
              "       PhoneService MultipleLines InternetService OnlineSecurity  ...  \\\n",
              "count          7043          7043            7043           7043  ...   \n",
              "unique            2             2               3              2  ...   \n",
              "top             Yes            No     Fiber optic             No  ...   \n",
              "freq           6361          4072            3096           5024  ...   \n",
              "mean            NaN           NaN             NaN            NaN  ...   \n",
              "std             NaN           NaN             NaN            NaN  ...   \n",
              "min             NaN           NaN             NaN            NaN  ...   \n",
              "25%             NaN           NaN             NaN            NaN  ...   \n",
              "50%             NaN           NaN             NaN            NaN  ...   \n",
              "75%             NaN           NaN             NaN            NaN  ...   \n",
              "max             NaN           NaN             NaN            NaN  ...   \n",
              "\n",
              "       DeviceProtection TechSupport StreamingTV StreamingMovies  \\\n",
              "count              7043        7043        7043            7043   \n",
              "unique                2           2           2               2   \n",
              "top                  No          No          No              No   \n",
              "freq               4621        4999        4336            4311   \n",
              "mean                NaN         NaN         NaN             NaN   \n",
              "std                 NaN         NaN         NaN             NaN   \n",
              "min                 NaN         NaN         NaN             NaN   \n",
              "25%                 NaN         NaN         NaN             NaN   \n",
              "50%                 NaN         NaN         NaN             NaN   \n",
              "75%                 NaN         NaN         NaN             NaN   \n",
              "max                 NaN         NaN         NaN             NaN   \n",
              "\n",
              "              Contract PaperlessBilling     PaymentMethod MonthlyCharges  \\\n",
              "count             7043             7043              7043    7043.000000   \n",
              "unique               3                2                 4            NaN   \n",
              "top     Month-to-month              Yes  Electronic check            NaN   \n",
              "freq              3875             4171              2365            NaN   \n",
              "mean               NaN              NaN               NaN      64.761692   \n",
              "std                NaN              NaN               NaN      30.090047   \n",
              "min                NaN              NaN               NaN      18.250000   \n",
              "25%                NaN              NaN               NaN      35.500000   \n",
              "50%                NaN              NaN               NaN      70.350000   \n",
              "75%                NaN              NaN               NaN      89.850000   \n",
              "max                NaN              NaN               NaN     118.750000   \n",
              "\n",
              "        TotalCharges Churn  \n",
              "count           7043  7043  \n",
              "unique          6531     2  \n",
              "top             20.2    No  \n",
              "freq              11  5174  \n",
              "mean             NaN   NaN  \n",
              "std              NaN   NaN  \n",
              "min              NaN   NaN  \n",
              "25%              NaN   NaN  \n",
              "50%              NaN   NaN  \n",
              "75%              NaN   NaN  \n",
              "max              NaN   NaN  \n",
              "\n",
              "[11 rows x 21 columns]"
            ]
          },
          "execution_count": 5,
          "metadata": {},
          "output_type": "execute_result"
        }
      ],
      "source": [
        "# See the summary statistics\n",
        "data.describe(include='all')"
      ]
    },
    {
      "cell_type": "code",
      "execution_count": null,
      "metadata": {
        "id": "tRMOIJkSmFu1"
      },
      "outputs": [],
      "source": [
        "# Read the data\n",
        "data = pd.read_csv(\"TelcoChurn.csv\", na_values=' ')"
      ]
    },
    {
      "cell_type": "code",
      "execution_count": null,
      "metadata": {
        "id": "d7n7MUPimFu1",
        "outputId": "1a50c5ad-ee82-4cb5-c402-7942d61d8f64"
      },
      "outputs": [
        {
          "data": {
            "text/plain": [
              "(7043, 21)"
            ]
          },
          "execution_count": 7,
          "metadata": {},
          "output_type": "execute_result"
        }
      ],
      "source": [
        "# # Display the shape of the data\n",
        "data.shape"
      ]
    },
    {
      "cell_type": "code",
      "execution_count": null,
      "metadata": {
        "id": "vVpoiI6NmFu2",
        "outputId": "7d65f5ef-8ab5-445a-f28d-1e08ad311538"
      },
      "outputs": [
        {
          "data": {
            "text/html": [
              "<div>\n",
              "<style scoped>\n",
              "    .dataframe tbody tr th:only-of-type {\n",
              "        vertical-align: middle;\n",
              "    }\n",
              "\n",
              "    .dataframe tbody tr th {\n",
              "        vertical-align: top;\n",
              "    }\n",
              "\n",
              "    .dataframe thead th {\n",
              "        text-align: right;\n",
              "    }\n",
              "</style>\n",
              "<table border=\"1\" class=\"dataframe\">\n",
              "  <thead>\n",
              "    <tr style=\"text-align: right;\">\n",
              "      <th></th>\n",
              "      <th>customerID</th>\n",
              "      <th>gender</th>\n",
              "      <th>SeniorCitizen</th>\n",
              "      <th>Partner</th>\n",
              "      <th>Dependents</th>\n",
              "      <th>tenure</th>\n",
              "      <th>PhoneService</th>\n",
              "      <th>MultipleLines</th>\n",
              "      <th>InternetService</th>\n",
              "      <th>OnlineSecurity</th>\n",
              "      <th>...</th>\n",
              "      <th>DeviceProtection</th>\n",
              "      <th>TechSupport</th>\n",
              "      <th>StreamingTV</th>\n",
              "      <th>StreamingMovies</th>\n",
              "      <th>Contract</th>\n",
              "      <th>PaperlessBilling</th>\n",
              "      <th>PaymentMethod</th>\n",
              "      <th>MonthlyCharges</th>\n",
              "      <th>TotalCharges</th>\n",
              "      <th>Churn</th>\n",
              "    </tr>\n",
              "  </thead>\n",
              "  <tbody>\n",
              "    <tr>\n",
              "      <th>0</th>\n",
              "      <td>7590-VHVEG</td>\n",
              "      <td>Female</td>\n",
              "      <td>0</td>\n",
              "      <td>Yes</td>\n",
              "      <td>No</td>\n",
              "      <td>1</td>\n",
              "      <td>No</td>\n",
              "      <td>No</td>\n",
              "      <td>DSL</td>\n",
              "      <td>No</td>\n",
              "      <td>...</td>\n",
              "      <td>No</td>\n",
              "      <td>No</td>\n",
              "      <td>No</td>\n",
              "      <td>No</td>\n",
              "      <td>Month-to-month</td>\n",
              "      <td>Yes</td>\n",
              "      <td>Electronic check</td>\n",
              "      <td>29.85</td>\n",
              "      <td>29.85</td>\n",
              "      <td>No</td>\n",
              "    </tr>\n",
              "    <tr>\n",
              "      <th>1</th>\n",
              "      <td>5575-GNVDE</td>\n",
              "      <td>Male</td>\n",
              "      <td>0</td>\n",
              "      <td>No</td>\n",
              "      <td>No</td>\n",
              "      <td>34</td>\n",
              "      <td>Yes</td>\n",
              "      <td>No</td>\n",
              "      <td>DSL</td>\n",
              "      <td>Yes</td>\n",
              "      <td>...</td>\n",
              "      <td>Yes</td>\n",
              "      <td>No</td>\n",
              "      <td>No</td>\n",
              "      <td>No</td>\n",
              "      <td>One year</td>\n",
              "      <td>No</td>\n",
              "      <td>Mailed check</td>\n",
              "      <td>56.95</td>\n",
              "      <td>1889.50</td>\n",
              "      <td>No</td>\n",
              "    </tr>\n",
              "    <tr>\n",
              "      <th>2</th>\n",
              "      <td>3668-QPYBK</td>\n",
              "      <td>Male</td>\n",
              "      <td>0</td>\n",
              "      <td>No</td>\n",
              "      <td>No</td>\n",
              "      <td>2</td>\n",
              "      <td>Yes</td>\n",
              "      <td>No</td>\n",
              "      <td>DSL</td>\n",
              "      <td>Yes</td>\n",
              "      <td>...</td>\n",
              "      <td>No</td>\n",
              "      <td>No</td>\n",
              "      <td>No</td>\n",
              "      <td>No</td>\n",
              "      <td>Month-to-month</td>\n",
              "      <td>Yes</td>\n",
              "      <td>Mailed check</td>\n",
              "      <td>53.85</td>\n",
              "      <td>108.15</td>\n",
              "      <td>Yes</td>\n",
              "    </tr>\n",
              "    <tr>\n",
              "      <th>3</th>\n",
              "      <td>7795-CFOCW</td>\n",
              "      <td>Male</td>\n",
              "      <td>0</td>\n",
              "      <td>No</td>\n",
              "      <td>No</td>\n",
              "      <td>45</td>\n",
              "      <td>No</td>\n",
              "      <td>No</td>\n",
              "      <td>DSL</td>\n",
              "      <td>Yes</td>\n",
              "      <td>...</td>\n",
              "      <td>Yes</td>\n",
              "      <td>Yes</td>\n",
              "      <td>No</td>\n",
              "      <td>No</td>\n",
              "      <td>One year</td>\n",
              "      <td>No</td>\n",
              "      <td>Bank transfer (automatic)</td>\n",
              "      <td>42.30</td>\n",
              "      <td>1840.75</td>\n",
              "      <td>No</td>\n",
              "    </tr>\n",
              "    <tr>\n",
              "      <th>4</th>\n",
              "      <td>9237-HQITU</td>\n",
              "      <td>Female</td>\n",
              "      <td>0</td>\n",
              "      <td>No</td>\n",
              "      <td>No</td>\n",
              "      <td>2</td>\n",
              "      <td>Yes</td>\n",
              "      <td>No</td>\n",
              "      <td>Fiber optic</td>\n",
              "      <td>No</td>\n",
              "      <td>...</td>\n",
              "      <td>No</td>\n",
              "      <td>No</td>\n",
              "      <td>No</td>\n",
              "      <td>No</td>\n",
              "      <td>Month-to-month</td>\n",
              "      <td>Yes</td>\n",
              "      <td>Electronic check</td>\n",
              "      <td>70.70</td>\n",
              "      <td>151.65</td>\n",
              "      <td>Yes</td>\n",
              "    </tr>\n",
              "  </tbody>\n",
              "</table>\n",
              "<p>5 rows × 21 columns</p>\n",
              "</div>"
            ],
            "text/plain": [
              "   customerID  gender  SeniorCitizen Partner Dependents  tenure PhoneService  \\\n",
              "0  7590-VHVEG  Female              0     Yes         No       1           No   \n",
              "1  5575-GNVDE    Male              0      No         No      34          Yes   \n",
              "2  3668-QPYBK    Male              0      No         No       2          Yes   \n",
              "3  7795-CFOCW    Male              0      No         No      45           No   \n",
              "4  9237-HQITU  Female              0      No         No       2          Yes   \n",
              "\n",
              "  MultipleLines InternetService OnlineSecurity  ... DeviceProtection  \\\n",
              "0            No             DSL             No  ...               No   \n",
              "1            No             DSL            Yes  ...              Yes   \n",
              "2            No             DSL            Yes  ...               No   \n",
              "3            No             DSL            Yes  ...              Yes   \n",
              "4            No     Fiber optic             No  ...               No   \n",
              "\n",
              "  TechSupport StreamingTV StreamingMovies        Contract PaperlessBilling  \\\n",
              "0          No          No              No  Month-to-month              Yes   \n",
              "1          No          No              No        One year               No   \n",
              "2          No          No              No  Month-to-month              Yes   \n",
              "3         Yes          No              No        One year               No   \n",
              "4          No          No              No  Month-to-month              Yes   \n",
              "\n",
              "               PaymentMethod MonthlyCharges  TotalCharges  Churn  \n",
              "0           Electronic check          29.85         29.85     No  \n",
              "1               Mailed check          56.95       1889.50     No  \n",
              "2               Mailed check          53.85        108.15    Yes  \n",
              "3  Bank transfer (automatic)          42.30       1840.75     No  \n",
              "4           Electronic check          70.70        151.65    Yes  \n",
              "\n",
              "[5 rows x 21 columns]"
            ]
          },
          "execution_count": 8,
          "metadata": {},
          "output_type": "execute_result"
        }
      ],
      "source": [
        "# Display top 5 rows\n",
        "data.head()"
      ]
    },
    {
      "cell_type": "code",
      "execution_count": null,
      "metadata": {
        "id": "0VW9x6WmmFu2",
        "outputId": "6a96bad6-1482-4cc5-8d1a-6110e1fcb53a"
      },
      "outputs": [
        {
          "data": {
            "text/html": [
              "<div>\n",
              "<style scoped>\n",
              "    .dataframe tbody tr th:only-of-type {\n",
              "        vertical-align: middle;\n",
              "    }\n",
              "\n",
              "    .dataframe tbody tr th {\n",
              "        vertical-align: top;\n",
              "    }\n",
              "\n",
              "    .dataframe thead th {\n",
              "        text-align: right;\n",
              "    }\n",
              "</style>\n",
              "<table border=\"1\" class=\"dataframe\">\n",
              "  <thead>\n",
              "    <tr style=\"text-align: right;\">\n",
              "      <th></th>\n",
              "      <th>customerID</th>\n",
              "      <th>gender</th>\n",
              "      <th>SeniorCitizen</th>\n",
              "      <th>Partner</th>\n",
              "      <th>Dependents</th>\n",
              "      <th>tenure</th>\n",
              "      <th>PhoneService</th>\n",
              "      <th>MultipleLines</th>\n",
              "      <th>InternetService</th>\n",
              "      <th>OnlineSecurity</th>\n",
              "      <th>...</th>\n",
              "      <th>DeviceProtection</th>\n",
              "      <th>TechSupport</th>\n",
              "      <th>StreamingTV</th>\n",
              "      <th>StreamingMovies</th>\n",
              "      <th>Contract</th>\n",
              "      <th>PaperlessBilling</th>\n",
              "      <th>PaymentMethod</th>\n",
              "      <th>MonthlyCharges</th>\n",
              "      <th>TotalCharges</th>\n",
              "      <th>Churn</th>\n",
              "    </tr>\n",
              "  </thead>\n",
              "  <tbody>\n",
              "    <tr>\n",
              "      <th>count</th>\n",
              "      <td>7043</td>\n",
              "      <td>7043</td>\n",
              "      <td>7043.000000</td>\n",
              "      <td>7043</td>\n",
              "      <td>7043</td>\n",
              "      <td>7043.000000</td>\n",
              "      <td>7043</td>\n",
              "      <td>7043</td>\n",
              "      <td>7043</td>\n",
              "      <td>7043</td>\n",
              "      <td>...</td>\n",
              "      <td>7043</td>\n",
              "      <td>7043</td>\n",
              "      <td>7043</td>\n",
              "      <td>7043</td>\n",
              "      <td>7043</td>\n",
              "      <td>7043</td>\n",
              "      <td>7043</td>\n",
              "      <td>7043.000000</td>\n",
              "      <td>7032.000000</td>\n",
              "      <td>7043</td>\n",
              "    </tr>\n",
              "    <tr>\n",
              "      <th>unique</th>\n",
              "      <td>7043</td>\n",
              "      <td>2</td>\n",
              "      <td>NaN</td>\n",
              "      <td>2</td>\n",
              "      <td>2</td>\n",
              "      <td>NaN</td>\n",
              "      <td>2</td>\n",
              "      <td>2</td>\n",
              "      <td>3</td>\n",
              "      <td>2</td>\n",
              "      <td>...</td>\n",
              "      <td>2</td>\n",
              "      <td>2</td>\n",
              "      <td>2</td>\n",
              "      <td>2</td>\n",
              "      <td>3</td>\n",
              "      <td>2</td>\n",
              "      <td>4</td>\n",
              "      <td>NaN</td>\n",
              "      <td>NaN</td>\n",
              "      <td>2</td>\n",
              "    </tr>\n",
              "    <tr>\n",
              "      <th>top</th>\n",
              "      <td>6743-HHQPF</td>\n",
              "      <td>Male</td>\n",
              "      <td>NaN</td>\n",
              "      <td>No</td>\n",
              "      <td>No</td>\n",
              "      <td>NaN</td>\n",
              "      <td>Yes</td>\n",
              "      <td>No</td>\n",
              "      <td>Fiber optic</td>\n",
              "      <td>No</td>\n",
              "      <td>...</td>\n",
              "      <td>No</td>\n",
              "      <td>No</td>\n",
              "      <td>No</td>\n",
              "      <td>No</td>\n",
              "      <td>Month-to-month</td>\n",
              "      <td>Yes</td>\n",
              "      <td>Electronic check</td>\n",
              "      <td>NaN</td>\n",
              "      <td>NaN</td>\n",
              "      <td>No</td>\n",
              "    </tr>\n",
              "    <tr>\n",
              "      <th>freq</th>\n",
              "      <td>1</td>\n",
              "      <td>3555</td>\n",
              "      <td>NaN</td>\n",
              "      <td>3641</td>\n",
              "      <td>4933</td>\n",
              "      <td>NaN</td>\n",
              "      <td>6361</td>\n",
              "      <td>4072</td>\n",
              "      <td>3096</td>\n",
              "      <td>5024</td>\n",
              "      <td>...</td>\n",
              "      <td>4621</td>\n",
              "      <td>4999</td>\n",
              "      <td>4336</td>\n",
              "      <td>4311</td>\n",
              "      <td>3875</td>\n",
              "      <td>4171</td>\n",
              "      <td>2365</td>\n",
              "      <td>NaN</td>\n",
              "      <td>NaN</td>\n",
              "      <td>5174</td>\n",
              "    </tr>\n",
              "    <tr>\n",
              "      <th>mean</th>\n",
              "      <td>NaN</td>\n",
              "      <td>NaN</td>\n",
              "      <td>0.162147</td>\n",
              "      <td>NaN</td>\n",
              "      <td>NaN</td>\n",
              "      <td>32.371149</td>\n",
              "      <td>NaN</td>\n",
              "      <td>NaN</td>\n",
              "      <td>NaN</td>\n",
              "      <td>NaN</td>\n",
              "      <td>...</td>\n",
              "      <td>NaN</td>\n",
              "      <td>NaN</td>\n",
              "      <td>NaN</td>\n",
              "      <td>NaN</td>\n",
              "      <td>NaN</td>\n",
              "      <td>NaN</td>\n",
              "      <td>NaN</td>\n",
              "      <td>64.761692</td>\n",
              "      <td>2283.300441</td>\n",
              "      <td>NaN</td>\n",
              "    </tr>\n",
              "    <tr>\n",
              "      <th>std</th>\n",
              "      <td>NaN</td>\n",
              "      <td>NaN</td>\n",
              "      <td>0.368612</td>\n",
              "      <td>NaN</td>\n",
              "      <td>NaN</td>\n",
              "      <td>24.559481</td>\n",
              "      <td>NaN</td>\n",
              "      <td>NaN</td>\n",
              "      <td>NaN</td>\n",
              "      <td>NaN</td>\n",
              "      <td>...</td>\n",
              "      <td>NaN</td>\n",
              "      <td>NaN</td>\n",
              "      <td>NaN</td>\n",
              "      <td>NaN</td>\n",
              "      <td>NaN</td>\n",
              "      <td>NaN</td>\n",
              "      <td>NaN</td>\n",
              "      <td>30.090047</td>\n",
              "      <td>2266.771362</td>\n",
              "      <td>NaN</td>\n",
              "    </tr>\n",
              "    <tr>\n",
              "      <th>min</th>\n",
              "      <td>NaN</td>\n",
              "      <td>NaN</td>\n",
              "      <td>0.000000</td>\n",
              "      <td>NaN</td>\n",
              "      <td>NaN</td>\n",
              "      <td>0.000000</td>\n",
              "      <td>NaN</td>\n",
              "      <td>NaN</td>\n",
              "      <td>NaN</td>\n",
              "      <td>NaN</td>\n",
              "      <td>...</td>\n",
              "      <td>NaN</td>\n",
              "      <td>NaN</td>\n",
              "      <td>NaN</td>\n",
              "      <td>NaN</td>\n",
              "      <td>NaN</td>\n",
              "      <td>NaN</td>\n",
              "      <td>NaN</td>\n",
              "      <td>18.250000</td>\n",
              "      <td>18.800000</td>\n",
              "      <td>NaN</td>\n",
              "    </tr>\n",
              "    <tr>\n",
              "      <th>25%</th>\n",
              "      <td>NaN</td>\n",
              "      <td>NaN</td>\n",
              "      <td>0.000000</td>\n",
              "      <td>NaN</td>\n",
              "      <td>NaN</td>\n",
              "      <td>9.000000</td>\n",
              "      <td>NaN</td>\n",
              "      <td>NaN</td>\n",
              "      <td>NaN</td>\n",
              "      <td>NaN</td>\n",
              "      <td>...</td>\n",
              "      <td>NaN</td>\n",
              "      <td>NaN</td>\n",
              "      <td>NaN</td>\n",
              "      <td>NaN</td>\n",
              "      <td>NaN</td>\n",
              "      <td>NaN</td>\n",
              "      <td>NaN</td>\n",
              "      <td>35.500000</td>\n",
              "      <td>401.450000</td>\n",
              "      <td>NaN</td>\n",
              "    </tr>\n",
              "    <tr>\n",
              "      <th>50%</th>\n",
              "      <td>NaN</td>\n",
              "      <td>NaN</td>\n",
              "      <td>0.000000</td>\n",
              "      <td>NaN</td>\n",
              "      <td>NaN</td>\n",
              "      <td>29.000000</td>\n",
              "      <td>NaN</td>\n",
              "      <td>NaN</td>\n",
              "      <td>NaN</td>\n",
              "      <td>NaN</td>\n",
              "      <td>...</td>\n",
              "      <td>NaN</td>\n",
              "      <td>NaN</td>\n",
              "      <td>NaN</td>\n",
              "      <td>NaN</td>\n",
              "      <td>NaN</td>\n",
              "      <td>NaN</td>\n",
              "      <td>NaN</td>\n",
              "      <td>70.350000</td>\n",
              "      <td>1397.475000</td>\n",
              "      <td>NaN</td>\n",
              "    </tr>\n",
              "    <tr>\n",
              "      <th>75%</th>\n",
              "      <td>NaN</td>\n",
              "      <td>NaN</td>\n",
              "      <td>0.000000</td>\n",
              "      <td>NaN</td>\n",
              "      <td>NaN</td>\n",
              "      <td>55.000000</td>\n",
              "      <td>NaN</td>\n",
              "      <td>NaN</td>\n",
              "      <td>NaN</td>\n",
              "      <td>NaN</td>\n",
              "      <td>...</td>\n",
              "      <td>NaN</td>\n",
              "      <td>NaN</td>\n",
              "      <td>NaN</td>\n",
              "      <td>NaN</td>\n",
              "      <td>NaN</td>\n",
              "      <td>NaN</td>\n",
              "      <td>NaN</td>\n",
              "      <td>89.850000</td>\n",
              "      <td>3794.737500</td>\n",
              "      <td>NaN</td>\n",
              "    </tr>\n",
              "    <tr>\n",
              "      <th>max</th>\n",
              "      <td>NaN</td>\n",
              "      <td>NaN</td>\n",
              "      <td>1.000000</td>\n",
              "      <td>NaN</td>\n",
              "      <td>NaN</td>\n",
              "      <td>72.000000</td>\n",
              "      <td>NaN</td>\n",
              "      <td>NaN</td>\n",
              "      <td>NaN</td>\n",
              "      <td>NaN</td>\n",
              "      <td>...</td>\n",
              "      <td>NaN</td>\n",
              "      <td>NaN</td>\n",
              "      <td>NaN</td>\n",
              "      <td>NaN</td>\n",
              "      <td>NaN</td>\n",
              "      <td>NaN</td>\n",
              "      <td>NaN</td>\n",
              "      <td>118.750000</td>\n",
              "      <td>8684.800000</td>\n",
              "      <td>NaN</td>\n",
              "    </tr>\n",
              "  </tbody>\n",
              "</table>\n",
              "<p>11 rows × 21 columns</p>\n",
              "</div>"
            ],
            "text/plain": [
              "        customerID gender  SeniorCitizen Partner Dependents       tenure  \\\n",
              "count         7043   7043    7043.000000    7043       7043  7043.000000   \n",
              "unique        7043      2            NaN       2          2          NaN   \n",
              "top     6743-HHQPF   Male            NaN      No         No          NaN   \n",
              "freq             1   3555            NaN    3641       4933          NaN   \n",
              "mean           NaN    NaN       0.162147     NaN        NaN    32.371149   \n",
              "std            NaN    NaN       0.368612     NaN        NaN    24.559481   \n",
              "min            NaN    NaN       0.000000     NaN        NaN     0.000000   \n",
              "25%            NaN    NaN       0.000000     NaN        NaN     9.000000   \n",
              "50%            NaN    NaN       0.000000     NaN        NaN    29.000000   \n",
              "75%            NaN    NaN       0.000000     NaN        NaN    55.000000   \n",
              "max            NaN    NaN       1.000000     NaN        NaN    72.000000   \n",
              "\n",
              "       PhoneService MultipleLines InternetService OnlineSecurity  ...  \\\n",
              "count          7043          7043            7043           7043  ...   \n",
              "unique            2             2               3              2  ...   \n",
              "top             Yes            No     Fiber optic             No  ...   \n",
              "freq           6361          4072            3096           5024  ...   \n",
              "mean            NaN           NaN             NaN            NaN  ...   \n",
              "std             NaN           NaN             NaN            NaN  ...   \n",
              "min             NaN           NaN             NaN            NaN  ...   \n",
              "25%             NaN           NaN             NaN            NaN  ...   \n",
              "50%             NaN           NaN             NaN            NaN  ...   \n",
              "75%             NaN           NaN             NaN            NaN  ...   \n",
              "max             NaN           NaN             NaN            NaN  ...   \n",
              "\n",
              "       DeviceProtection TechSupport StreamingTV StreamingMovies  \\\n",
              "count              7043        7043        7043            7043   \n",
              "unique                2           2           2               2   \n",
              "top                  No          No          No              No   \n",
              "freq               4621        4999        4336            4311   \n",
              "mean                NaN         NaN         NaN             NaN   \n",
              "std                 NaN         NaN         NaN             NaN   \n",
              "min                 NaN         NaN         NaN             NaN   \n",
              "25%                 NaN         NaN         NaN             NaN   \n",
              "50%                 NaN         NaN         NaN             NaN   \n",
              "75%                 NaN         NaN         NaN             NaN   \n",
              "max                 NaN         NaN         NaN             NaN   \n",
              "\n",
              "              Contract PaperlessBilling     PaymentMethod MonthlyCharges  \\\n",
              "count             7043             7043              7043    7043.000000   \n",
              "unique               3                2                 4            NaN   \n",
              "top     Month-to-month              Yes  Electronic check            NaN   \n",
              "freq              3875             4171              2365            NaN   \n",
              "mean               NaN              NaN               NaN      64.761692   \n",
              "std                NaN              NaN               NaN      30.090047   \n",
              "min                NaN              NaN               NaN      18.250000   \n",
              "25%                NaN              NaN               NaN      35.500000   \n",
              "50%                NaN              NaN               NaN      70.350000   \n",
              "75%                NaN              NaN               NaN      89.850000   \n",
              "max                NaN              NaN               NaN     118.750000   \n",
              "\n",
              "        TotalCharges  Churn  \n",
              "count    7032.000000   7043  \n",
              "unique           NaN      2  \n",
              "top              NaN     No  \n",
              "freq             NaN   5174  \n",
              "mean     2283.300441    NaN  \n",
              "std      2266.771362    NaN  \n",
              "min        18.800000    NaN  \n",
              "25%       401.450000    NaN  \n",
              "50%      1397.475000    NaN  \n",
              "75%      3794.737500    NaN  \n",
              "max      8684.800000    NaN  \n",
              "\n",
              "[11 rows x 21 columns]"
            ]
          },
          "execution_count": 9,
          "metadata": {},
          "output_type": "execute_result"
        }
      ],
      "source": [
        "# See the summary statistics\n",
        "data.describe(include='all')"
      ]
    },
    {
      "cell_type": "code",
      "execution_count": null,
      "metadata": {
        "id": "Z6LmydJnmFu3",
        "outputId": "9fcc4e7c-7578-4227-9b1f-37d686453de0"
      },
      "outputs": [
        {
          "data": {
            "text/plain": [
              "customerID           object\n",
              "gender               object\n",
              "SeniorCitizen         int64\n",
              "Partner              object\n",
              "Dependents           object\n",
              "tenure                int64\n",
              "PhoneService         object\n",
              "MultipleLines        object\n",
              "InternetService      object\n",
              "OnlineSecurity       object\n",
              "OnlineBackup         object\n",
              "DeviceProtection     object\n",
              "TechSupport          object\n",
              "StreamingTV          object\n",
              "StreamingMovies      object\n",
              "Contract             object\n",
              "PaperlessBilling     object\n",
              "PaymentMethod        object\n",
              "MonthlyCharges      float64\n",
              "TotalCharges        float64\n",
              "Churn                object\n",
              "dtype: object"
            ]
          },
          "execution_count": 10,
          "metadata": {},
          "output_type": "execute_result"
        }
      ],
      "source": [
        "# Check the data types of the columns\n",
        "data.dtypes"
      ]
    },
    {
      "cell_type": "code",
      "execution_count": null,
      "metadata": {
        "id": "lOXyUjOimFu3",
        "outputId": "fdda3b19-a432-42ec-9489-dc6d841ca74f"
      },
      "outputs": [
        {
          "data": {
            "text/plain": [
              "customerID          7043\n",
              "gender                 2\n",
              "SeniorCitizen          2\n",
              "Partner                2\n",
              "Dependents             2\n",
              "tenure                73\n",
              "PhoneService           2\n",
              "MultipleLines          2\n",
              "InternetService        3\n",
              "OnlineSecurity         2\n",
              "OnlineBackup           2\n",
              "DeviceProtection       2\n",
              "TechSupport            2\n",
              "StreamingTV            2\n",
              "StreamingMovies        2\n",
              "Contract               3\n",
              "PaperlessBilling       2\n",
              "PaymentMethod          4\n",
              "MonthlyCharges      1585\n",
              "TotalCharges        6530\n",
              "Churn                  2\n",
              "dtype: int64"
            ]
          },
          "execution_count": 11,
          "metadata": {},
          "output_type": "execute_result"
        }
      ],
      "source": [
        "# Check the number of unique levels in each column\n",
        "data.nunique()"
      ]
    },
    {
      "cell_type": "markdown",
      "metadata": {
        "id": "oZb30nQFmFu4"
      },
      "source": [
        "##### Check the distribution of target variable"
      ]
    },
    {
      "cell_type": "code",
      "execution_count": null,
      "metadata": {
        "id": "PE7OhvlRmFu4",
        "outputId": "cce80107-1bd8-4181-d826-ec8b7d2278b3"
      },
      "outputs": [
        {
          "name": "stdout",
          "output_type": "stream",
          "text": [
            "No     73.463013\n",
            "Yes    26.536987\n",
            "Name: Churn, dtype: float64\n"
          ]
        }
      ],
      "source": [
        "# Let's see if there is a class imbalance in the target variable\n",
        "print(data['Churn'].value_counts(normalize = True)*100)"
      ]
    },
    {
      "cell_type": "code",
      "execution_count": null,
      "metadata": {
        "id": "NrKEdntZmFu4",
        "outputId": "c9a2a8ec-2124-4033-95bb-16bb197fec77"
      },
      "outputs": [
        {
          "data": {
            "text/plain": [
              "customerID           0\n",
              "gender               0\n",
              "SeniorCitizen        0\n",
              "Partner              0\n",
              "Dependents           0\n",
              "tenure               0\n",
              "PhoneService         0\n",
              "MultipleLines        0\n",
              "InternetService      0\n",
              "OnlineSecurity       0\n",
              "OnlineBackup         0\n",
              "DeviceProtection     0\n",
              "TechSupport          0\n",
              "StreamingTV          0\n",
              "StreamingMovies      0\n",
              "Contract             0\n",
              "PaperlessBilling     0\n",
              "PaymentMethod        0\n",
              "MonthlyCharges       0\n",
              "TotalCharges        11\n",
              "Churn                0\n",
              "dtype: int64"
            ]
          },
          "execution_count": 13,
          "metadata": {},
          "output_type": "execute_result"
        }
      ],
      "source": [
        "# Check if there are any NA values in the data\n",
        "data.isna().sum()"
      ]
    },
    {
      "cell_type": "markdown",
      "metadata": {
        "id": "zi7VIjzzmFu5"
      },
      "source": [
        "### Observations:\n",
        "\n",
        "**On Type conversions:**\n",
        "\n",
        "- Columns like customerID can be removed from the analysis\n",
        "- The column 'SeniorCitizen' is a categorical column by its nature with 'Yes' as 1, and No as 0. So it should be converted into Categorical type\n",
        "\n",
        "**On Missingness of data:**\n",
        " The data has few missing values in column TotalCharges\n",
        "\n",
        "**On the class imbalance in the target attribute**\n",
        "There are more instances where the customers didn't churn than those that have customers churned out. Class imbalance is slightly present."
      ]
    },
    {
      "cell_type": "markdown",
      "metadata": {
        "id": "b-kXAoOvmFu5"
      },
      "source": [
        "## Data Pre-processing"
      ]
    },
    {
      "cell_type": "code",
      "execution_count": null,
      "metadata": {
        "id": "K_5FSfxEmFu6"
      },
      "outputs": [],
      "source": [
        "# Remove customerID\n",
        "data.drop(['customerID'], axis = 1, inplace=True)"
      ]
    },
    {
      "cell_type": "markdown",
      "metadata": {
        "id": "rR67jye6mFu6"
      },
      "source": [
        "### Type Conversions"
      ]
    },
    {
      "cell_type": "code",
      "execution_count": null,
      "metadata": {
        "id": "b1aOo5FbmFu6"
      },
      "outputs": [],
      "source": [
        "# Convert 'SeniorCitizen' column into categorical\n",
        "data['SeniorCitizen']= data['SeniorCitizen'].astype('category')"
      ]
    },
    {
      "cell_type": "code",
      "execution_count": null,
      "metadata": {
        "id": "M3XHDlOBmFu6",
        "outputId": "d5f38c0a-0ed9-490b-b0c2-cc4c3a12dd88"
      },
      "outputs": [
        {
          "data": {
            "text/plain": [
              "gender                object\n",
              "SeniorCitizen       category\n",
              "Partner               object\n",
              "Dependents            object\n",
              "tenure                 int64\n",
              "PhoneService          object\n",
              "MultipleLines         object\n",
              "InternetService       object\n",
              "OnlineSecurity        object\n",
              "OnlineBackup          object\n",
              "DeviceProtection      object\n",
              "TechSupport           object\n",
              "StreamingTV           object\n",
              "StreamingMovies       object\n",
              "Contract              object\n",
              "PaperlessBilling      object\n",
              "PaymentMethod         object\n",
              "MonthlyCharges       float64\n",
              "TotalCharges         float64\n",
              "Churn                 object\n",
              "dtype: object"
            ]
          },
          "execution_count": 16,
          "metadata": {},
          "output_type": "execute_result"
        }
      ],
      "source": [
        "data.dtypes"
      ]
    },
    {
      "cell_type": "markdown",
      "metadata": {
        "id": "wEFFbj41mFu6"
      },
      "source": [
        "#### Preparing Data for Model building"
      ]
    },
    {
      "cell_type": "code",
      "execution_count": null,
      "metadata": {
        "id": "15Khrk1GmFu7",
        "outputId": "b613bfe9-2027-46b7-a40a-f192eee76e8b"
      },
      "outputs": [
        {
          "data": {
            "text/plain": [
              "0    0.73463\n",
              "1    0.26537\n",
              "Name: Churn, dtype: float64"
            ]
          },
          "execution_count": 17,
          "metadata": {},
          "output_type": "execute_result"
        }
      ],
      "source": [
        "data['Churn'] = data['Churn'].replace(to_replace=['No', 'Yes'], value=[0, 1])\n",
        "data['Churn'].value_counts(normalize=True)"
      ]
    },
    {
      "cell_type": "markdown",
      "metadata": {
        "id": "C9Ac1qtamFu7"
      },
      "source": [
        "### Split the data into train and test sets\n"
      ]
    },
    {
      "cell_type": "code",
      "execution_count": null,
      "metadata": {
        "id": "hQ9-yQ9vmFu7",
        "outputId": "a1abfc5a-7d1d-45f1-82df-fd5d5e1dde55"
      },
      "outputs": [
        {
          "name": "stdout",
          "output_type": "stream",
          "text": [
            "(5634, 19) (1409, 19)\n"
          ]
        }
      ],
      "source": [
        "X = data.loc[:, data.columns != 'Churn']\n",
        "y = data['Churn']\n",
        "X_train, X_test, y_train, y_test = train_test_split(X, y,test_size=0.20, random_state=111, stratify = y)\n",
        "print(X_train.shape, X_test.shape)"
      ]
    },
    {
      "cell_type": "code",
      "execution_count": null,
      "metadata": {
        "id": "ea6RcRvemFu7",
        "outputId": "c1da49d9-350d-4da5-8b3c-e451c747ed21"
      },
      "outputs": [
        {
          "name": "stdout",
          "output_type": "stream",
          "text": [
            "Train data\n",
            "0    73.464679\n",
            "1    26.535321\n",
            "Name: Churn, dtype: float64\n",
            "\n",
            "\n",
            "Test data\n",
            "0    73.456352\n",
            "1    26.543648\n",
            "Name: Churn, dtype: float64\n"
          ]
        }
      ],
      "source": [
        "# Check the Train and Test data distribution\n",
        "print(\"Train data\")\n",
        "print(y_train.value_counts(normalize=True)*100)\n",
        "print(\"\\n\")\n",
        "print(\"Test data\")\n",
        "print(y_test.value_counts(normalize=True)*100)"
      ]
    },
    {
      "cell_type": "markdown",
      "metadata": {
        "id": "mhXLf6cyZJ9t"
      },
      "source": [
        "### Split the attributes into numerical and categorical types"
      ]
    },
    {
      "cell_type": "code",
      "execution_count": null,
      "metadata": {
        "id": "TZcDgxEVmFu8",
        "outputId": "05b7813c-0a0c-4d49-c8b7-76aa944497cc"
      },
      "outputs": [
        {
          "data": {
            "text/plain": [
              "gender                object\n",
              "SeniorCitizen       category\n",
              "Partner               object\n",
              "Dependents            object\n",
              "tenure                 int64\n",
              "PhoneService          object\n",
              "MultipleLines         object\n",
              "InternetService       object\n",
              "OnlineSecurity        object\n",
              "OnlineBackup          object\n",
              "DeviceProtection      object\n",
              "TechSupport           object\n",
              "StreamingTV           object\n",
              "StreamingMovies       object\n",
              "Contract              object\n",
              "PaperlessBilling      object\n",
              "PaymentMethod         object\n",
              "MonthlyCharges       float64\n",
              "TotalCharges         float64\n",
              "dtype: object"
            ]
          },
          "execution_count": 20,
          "metadata": {},
          "output_type": "execute_result"
        }
      ],
      "source": [
        "X_train.dtypes"
      ]
    },
    {
      "cell_type": "code",
      "execution_count": null,
      "metadata": {
        "colab": {
          "base_uri": "https://localhost:8080/",
          "height": 34
        },
        "id": "lyFFCBJ-ZMtL",
        "outputId": "faaff1f8-3369-4cfb-839e-7154666213f6"
      },
      "outputs": [
        {
          "data": {
            "text/plain": [
              "Index(['tenure', 'MonthlyCharges', 'TotalCharges'], dtype='object')"
            ]
          },
          "execution_count": 21,
          "metadata": {},
          "output_type": "execute_result"
        }
      ],
      "source": [
        "num_attr=X_train.select_dtypes(['int64','float64']).columns\n",
        "num_attr"
      ]
    },
    {
      "cell_type": "code",
      "execution_count": null,
      "metadata": {
        "colab": {
          "base_uri": "https://localhost:8080/",
          "height": 84
        },
        "id": "v77MaP0MZMw1",
        "outputId": "df106421-0e5a-4b31-f4ad-5f6562113816"
      },
      "outputs": [
        {
          "data": {
            "text/plain": [
              "Index(['gender', 'SeniorCitizen', 'Partner', 'Dependents', 'PhoneService',\n",
              "       'MultipleLines', 'InternetService', 'OnlineSecurity', 'OnlineBackup',\n",
              "       'DeviceProtection', 'TechSupport', 'StreamingTV', 'StreamingMovies',\n",
              "       'Contract', 'PaperlessBilling', 'PaymentMethod'],\n",
              "      dtype='object')"
            ]
          },
          "execution_count": 22,
          "metadata": {},
          "output_type": "execute_result"
        }
      ],
      "source": [
        "cat_attr = X_train.select_dtypes(['category', 'object']).columns\n",
        "cat_attr"
      ]
    },
    {
      "cell_type": "markdown",
      "metadata": {
        "id": "78FZr8TCEtJP"
      },
      "source": [
        "## Imputing missing values with median for numerical attributes"
      ]
    },
    {
      "cell_type": "code",
      "execution_count": null,
      "metadata": {
        "id": "MElasrMwaRX-"
      },
      "outputs": [],
      "source": [
        "imputer = SimpleImputer(strategy='median')\n",
        "\n",
        "imputer = imputer.fit(X_train[num_attr])\n",
        "X_train[num_attr] = imputer.transform(X_train[num_attr])\n",
        "X_test[num_attr] = imputer.transform(X_test[num_attr])"
      ]
    },
    {
      "cell_type": "code",
      "execution_count": null,
      "metadata": {
        "id": "As_X3r_zmFu8",
        "outputId": "b916db69-0653-4245-a922-f00fd7443b1e"
      },
      "outputs": [
        {
          "data": {
            "text/plain": [
              "array([  29.  ,   70.45, 1399.35])"
            ]
          },
          "execution_count": 24,
          "metadata": {},
          "output_type": "execute_result"
        }
      ],
      "source": [
        "imputer.statistics_"
      ]
    },
    {
      "cell_type": "markdown",
      "metadata": {
        "id": "ylMlegX3mFu9"
      },
      "source": [
        "### Imputing missing values with mode for categorical attributes"
      ]
    },
    {
      "cell_type": "code",
      "execution_count": null,
      "metadata": {
        "id": "M8qkcZOodt4S"
      },
      "outputs": [],
      "source": [
        "imputer = SimpleImputer(strategy='most_frequent')\n",
        "\n",
        "imputer = imputer.fit(X_train[cat_attr])\n",
        "X_train[cat_attr] = imputer.transform(X_train[cat_attr])\n",
        "X_test[cat_attr] = imputer.transform(X_test[cat_attr])"
      ]
    },
    {
      "cell_type": "code",
      "execution_count": null,
      "metadata": {
        "id": "RDC4WlpWmFu9",
        "outputId": "0d95abe1-cb50-4410-f4b7-650b246a9e92"
      },
      "outputs": [
        {
          "data": {
            "text/plain": [
              "array(['Male', 0, 'No', 'No', 'Yes', 'No', 'Fiber optic', 'No', 'No',\n",
              "       'No', 'No', 'No', 'No', 'Month-to-month', 'Yes',\n",
              "       'Electronic check'], dtype=object)"
            ]
          },
          "execution_count": 26,
          "metadata": {},
          "output_type": "execute_result"
        }
      ],
      "source": [
        "imputer.statistics_"
      ]
    },
    {
      "cell_type": "markdown",
      "metadata": {
        "id": "HC6ewXEwFoqn"
      },
      "source": [
        "### Standardizing the numerical attributes and One-hot encoding categorical attributes"
      ]
    },
    {
      "cell_type": "code",
      "execution_count": null,
      "metadata": {
        "id": "T4RqfYZmmFu9"
      },
      "outputs": [],
      "source": [
        "# DataFrameMapper, a class for mapping pandas data frame columns to different sklearn transformations\n",
        "mapper = DataFrameMapper(\n",
        "  [([continuous_col], StandardScaler()) for continuous_col in num_attr] +\n",
        "  [([categorical_col], OneHotEncoder(handle_unknown='error')) for categorical_col in cat_attr]\n",
        ", df_out=True)"
      ]
    },
    {
      "cell_type": "code",
      "execution_count": null,
      "metadata": {
        "id": "9w6AssLImFu9"
      },
      "outputs": [],
      "source": [
        "mapper.fit(X_train)\n",
        "X_train = mapper.transform(X_train)\n",
        "X_test = mapper.transform(X_test)"
      ]
    },
    {
      "cell_type": "code",
      "execution_count": null,
      "metadata": {
        "colab": {
          "base_uri": "https://localhost:8080/",
          "height": 166
        },
        "id": "ajRRfQHPmFu-",
        "outputId": "1edb0d22-251b-4121-958f-a9649de05e16"
      },
      "outputs": [
        {
          "output_type": "error",
          "ename": "NameError",
          "evalue": "ignored",
          "traceback": [
            "\u001b[0;31m---------------------------------------------------------------------------\u001b[0m",
            "\u001b[0;31mNameError\u001b[0m                                 Traceback (most recent call last)",
            "\u001b[0;32m<ipython-input-1-cfe048ae5269>\u001b[0m in \u001b[0;36m<module>\u001b[0;34m\u001b[0m\n\u001b[0;32m----> 1\u001b[0;31m \u001b[0mX_train\u001b[0m\u001b[0;34m.\u001b[0m\u001b[0mhead\u001b[0m\u001b[0;34m(\u001b[0m\u001b[0;36m10\u001b[0m\u001b[0;34m)\u001b[0m\u001b[0;34m\u001b[0m\u001b[0;34m\u001b[0m\u001b[0m\n\u001b[0m",
            "\u001b[0;31mNameError\u001b[0m: name 'X_train' is not defined"
          ]
        }
      ],
      "source": [
        "X_train.head(10)"
      ]
    },
    {
      "cell_type": "code",
      "execution_count": null,
      "metadata": {
        "id": "3Yw62IhTmFu-",
        "outputId": "f90b1670-62a9-40a7-8949-e9897a9b025e"
      },
      "outputs": [
        {
          "name": "stdout",
          "output_type": "stream",
          "text": [
            "(5634, 39) (1409, 39)\n"
          ]
        }
      ],
      "source": [
        "print(X_train.shape, X_test.shape)"
      ]
    },
    {
      "cell_type": "code",
      "execution_count": null,
      "metadata": {
        "id": "47KfbddcmFu-",
        "outputId": "9dd97912-a11a-4a7a-e0a3-113a13ba036c"
      },
      "outputs": [
        {
          "name": "stdout",
          "output_type": "stream",
          "text": [
            "(5634,) (1409,)\n"
          ]
        }
      ],
      "source": [
        "print(y_train.shape, y_test.shape)"
      ]
    },
    {
      "cell_type": "markdown",
      "metadata": {
        "id": "LaCrCouj867P"
      },
      "source": [
        "### Defining Error Metrics"
      ]
    },
    {
      "cell_type": "code",
      "execution_count": null,
      "metadata": {
        "id": "YFuxswpImFu_"
      },
      "outputs": [],
      "source": [
        "def get_CR_CM(train_actual,train_predicted,test_actual,test_predicted):\n",
        "    print('''\n",
        "             ========================================\n",
        "               CLASSIFICATION REPORT FOR TRAIN DATA\n",
        "             ========================================\n",
        "        ''')\n",
        "    print(classification_report(train_actual, train_predicted, digits=4))\n",
        "\n",
        "    print('''\n",
        "             =========================================\n",
        "               CLASSIFICATION REPORT FOR TEST DATA\n",
        "             =========================================\n",
        "            ''')\n",
        "    print(classification_report(test_actual, test_predicted, digits=4))\n",
        "\n",
        "    print('''\n",
        " ========================================\n",
        "   Confusion Matrix FOR TRAIN DATA\n",
        " ========================================\n",
        "            ''')\n",
        "    print(confusion_matrix(train_actual, train_predicted))\n",
        "\n",
        "    print('''\n",
        " =========================================\n",
        "   Confusion matrix FOR TEST DATA\n",
        " =========================================\n",
        "            ''')\n",
        "    print(confusion_matrix(test_actual, test_predicted))\n",
        ""
      ]
    },
    {
      "cell_type": "code",
      "execution_count": null,
      "metadata": {
        "id": "kHAHjMKwmFu_"
      },
      "outputs": [],
      "source": [
        "def get_ACCURACY_RECALL(train_actual,train_predicted,test_actual,test_predicted):\n",
        "    print('''\n",
        " ========================================\n",
        "           ACCURACY FOR TRAIN DATA\n",
        " ========================================\n",
        "        ''')\n",
        "    print(\"         \",accuracy_score(train_actual, train_predicted))\n",
        "\n",
        "    print('''\n",
        " =========================================\n",
        "           ACCURACY FOR TEST DATA\n",
        " =========================================\n",
        "            ''')\n",
        "    print(\"         \",accuracy_score(test_actual, test_predicted))\n",
        "\n",
        "    print('''\n",
        " ========================================\n",
        "           RECALL FOR TRAIN DATA\n",
        " ========================================\n",
        "            ''')\n",
        "    print(\"         \",recall_score(train_actual, train_predicted))\n",
        "\n",
        "    print('''\n",
        " =========================================\n",
        "           RECALL FOR TEST DATA\n",
        " =========================================\n",
        "            ''')\n",
        "    print(\"         \",recall_score(test_actual, test_predicted))\n",
        ""
      ]
    },
    {
      "cell_type": "code",
      "execution_count": null,
      "metadata": {
        "id": "U_dqts9lmFu_"
      },
      "outputs": [],
      "source": [
        "scores = pd.DataFrame(columns=['Model','Train_Accuracy','Train_Recall','Train_Precision','Train_F1_Score','Test_Accuracy','Test_Recall','Test_Precision','Test_F1_Score'])\n",
        "\n",
        "def get_metrics(train_actual,train_predicted,test_actual,test_predicted,model_description,dataframe):\n",
        "    train_accuracy = accuracy_score(train_actual,train_predicted)\n",
        "    train_recall   = recall_score(train_actual,train_predicted)\n",
        "    train_precision= precision_score(train_actual,train_predicted)\n",
        "    train_f1score  = f1_score(train_actual,train_predicted)\n",
        "    test_accuracy = accuracy_score(test_actual,test_predicted)\n",
        "    test_recall   = recall_score(test_actual,test_predicted)\n",
        "    test_precision= precision_score(test_actual,test_predicted)\n",
        "    test_f1score  = f1_score(test_actual,test_predicted)\n",
        "    dataframe = dataframe.append(pd.Series([model_description, train_accuracy,train_recall,train_precision,train_f1score,\n",
        "                                            test_accuracy,test_recall,test_precision,test_f1score],\n",
        "                                           index=scores.columns ), ignore_index=True)\n",
        "    return(dataframe)"
      ]
    },
    {
      "cell_type": "markdown",
      "metadata": {
        "id": "g7veyeK5mFu_"
      },
      "source": [
        "## Building the ANN Model"
      ]
    },
    {
      "cell_type": "markdown",
      "metadata": {
        "id": "ABhujpVymFu_"
      },
      "source": [
        "### Convert dataframe to numpy array to feed into Neural Networks"
      ]
    },
    {
      "cell_type": "code",
      "execution_count": null,
      "metadata": {
        "id": "vAyJwwoUmFu_"
      },
      "outputs": [],
      "source": [
        "X_train = X_train.values\n",
        "y_train = y_train.values\n",
        "X_test = X_test.values\n",
        "y_test = y_test.values"
      ]
    },
    {
      "cell_type": "code",
      "execution_count": null,
      "metadata": {
        "id": "fY1cHuhOmFvA",
        "outputId": "0aca1cfe-f3a6-493d-ad91-37cb612fd38b"
      },
      "outputs": [
        {
          "name": "stdout",
          "output_type": "stream",
          "text": [
            "<class 'numpy.ndarray'>\n",
            "<class 'numpy.ndarray'>\n"
          ]
        }
      ],
      "source": [
        "print(type(X_train))\n",
        "print(type(X_test))"
      ]
    },
    {
      "cell_type": "code",
      "execution_count": null,
      "metadata": {
        "id": "yUM_COHEmFvA",
        "outputId": "ed541b18-bab5-427d-bee6-ef4cf4ed9e11"
      },
      "outputs": [
        {
          "data": {
            "text/plain": [
              "(5634, 39)"
            ]
          },
          "execution_count": 37,
          "metadata": {},
          "output_type": "execute_result"
        }
      ],
      "source": [
        "X_train.shape"
      ]
    },
    {
      "cell_type": "code",
      "execution_count": null,
      "metadata": {
        "id": "dj9g7BJWmFvA",
        "outputId": "6b6a8ede-7504-4ef9-f21f-fdb3eaa50f0e"
      },
      "outputs": [
        {
          "name": "stdout",
          "output_type": "stream",
          "text": [
            "39\n"
          ]
        }
      ],
      "source": [
        "# Taking input_shape\n",
        "input_shape = X_train.shape[1]\n",
        "print(input_shape)"
      ]
    },
    {
      "cell_type": "markdown",
      "metadata": {
        "id": "pJPYnK26mFvA"
      },
      "source": [
        "# Model 1 (1 hidden layer)"
      ]
    },
    {
      "cell_type": "code",
      "execution_count": null,
      "metadata": {
        "id": "5Ov6_je0mFvA"
      },
      "outputs": [],
      "source": [
        "seed = 7\n",
        "np.random.seed(seed)\n",
        "tf.random.set_seed(seed)"
      ]
    },
    {
      "cell_type": "code",
      "execution_count": null,
      "metadata": {
        "id": "3KTdJIFpmFvA"
      },
      "outputs": [],
      "source": [
        "model = Sequential()\n",
        "model.add(Dense(32, input_dim=input_shape, kernel_initializer='glorot_normal', activation='relu'))\n",
        "model.add(Dense(1, activation='sigmoid',kernel_initializer='glorot_normal'))"
      ]
    },
    {
      "cell_type": "code",
      "execution_count": null,
      "metadata": {
        "id": "mO-F2jKgmFvA",
        "outputId": "e097ed74-4d20-43ff-891b-9fda679ae7ad"
      },
      "outputs": [
        {
          "name": "stdout",
          "output_type": "stream",
          "text": [
            "Model: \"sequential\"\n",
            "_________________________________________________________________\n",
            "Layer (type)                 Output Shape              Param #   \n",
            "=================================================================\n",
            "dense (Dense)                (None, 32)                1280      \n",
            "_________________________________________________________________\n",
            "dense_1 (Dense)              (None, 1)                 33        \n",
            "=================================================================\n",
            "Total params: 1,313\n",
            "Trainable params: 1,313\n",
            "Non-trainable params: 0\n",
            "_________________________________________________________________\n"
          ]
        }
      ],
      "source": [
        "model.summary()"
      ]
    },
    {
      "cell_type": "code",
      "execution_count": null,
      "metadata": {
        "id": "cTXwP2pNmFvB"
      },
      "outputs": [],
      "source": [
        "model.compile(loss='binary_crossentropy',\n",
        "              optimizer='adam',\n",
        "              metrics=['accuracy'])"
      ]
    },
    {
      "cell_type": "markdown",
      "metadata": {
        "id": "emv_220LmFvB"
      },
      "source": [
        "#### Callbacks - Early Stopping"
      ]
    },
    {
      "cell_type": "code",
      "execution_count": null,
      "metadata": {
        "id": "MLzjWx-RmFvB"
      },
      "outputs": [],
      "source": [
        "early_stopping = EarlyStopping(monitor='val_loss', patience=5, mode='min', verbose=1, min_delta=0.001)"
      ]
    },
    {
      "cell_type": "code",
      "execution_count": null,
      "metadata": {
        "id": "hOALMudEmFvB"
      },
      "outputs": [],
      "source": [
        "callbacks=[early_stopping]"
      ]
    },
    {
      "cell_type": "code",
      "execution_count": null,
      "metadata": {
        "id": "C0YTKi7_mFvB",
        "outputId": "ebcc6f9a-3677-4a99-fbf4-9dae67337ec3"
      },
      "outputs": [
        {
          "name": "stdout",
          "output_type": "stream",
          "text": [
            "Train on 4507 samples, validate on 1127 samples\n",
            "Epoch 1/100\n",
            "4507/4507 [==============================] - 1s 175us/sample - loss: 0.5267 - accuracy: 0.7404 - val_loss: 0.4350 - val_accuracy: 0.7959\n",
            "Epoch 2/100\n",
            "4507/4507 [==============================] - 0s 48us/sample - loss: 0.4407 - accuracy: 0.7903 - val_loss: 0.4163 - val_accuracy: 0.8083\n",
            "Epoch 3/100\n",
            "4507/4507 [==============================] - 0s 36us/sample - loss: 0.4295 - accuracy: 0.7970 - val_loss: 0.4099 - val_accuracy: 0.8083\n",
            "Epoch 4/100\n",
            "4507/4507 [==============================] - 0s 36us/sample - loss: 0.4249 - accuracy: 0.8014 - val_loss: 0.4090 - val_accuracy: 0.8128\n",
            "Epoch 5/100\n",
            "4507/4507 [==============================] - 0s 42us/sample - loss: 0.4227 - accuracy: 0.8010 - val_loss: 0.4067 - val_accuracy: 0.8137\n",
            "Epoch 6/100\n",
            "4507/4507 [==============================] - 0s 49us/sample - loss: 0.4211 - accuracy: 0.8025 - val_loss: 0.4037 - val_accuracy: 0.8128\n",
            "Epoch 7/100\n",
            "4507/4507 [==============================] - 0s 48us/sample - loss: 0.4192 - accuracy: 0.8008 - val_loss: 0.4019 - val_accuracy: 0.8146\n",
            "Epoch 8/100\n",
            "4507/4507 [==============================] - 0s 51us/sample - loss: 0.4185 - accuracy: 0.8039 - val_loss: 0.4021 - val_accuracy: 0.8137\n",
            "Epoch 9/100\n",
            "4507/4507 [==============================] - 0s 46us/sample - loss: 0.4176 - accuracy: 0.8054 - val_loss: 0.4021 - val_accuracy: 0.8119\n",
            "Epoch 10/100\n",
            "4507/4507 [==============================] - 0s 47us/sample - loss: 0.4161 - accuracy: 0.8056 - val_loss: 0.4009 - val_accuracy: 0.8119\n",
            "Epoch 11/100\n",
            "4507/4507 [==============================] - 0s 46us/sample - loss: 0.4157 - accuracy: 0.8050 - val_loss: 0.4015 - val_accuracy: 0.8137\n",
            "Epoch 12/100\n",
            "4507/4507 [==============================] - 0s 44us/sample - loss: 0.4153 - accuracy: 0.8070 - val_loss: 0.4010 - val_accuracy: 0.8128\n",
            "Epoch 00012: early stopping\n"
          ]
        },
        {
          "data": {
            "text/plain": [
              "<tensorflow.python.keras.callbacks.History at 0x7f2b13941990>"
            ]
          },
          "execution_count": 45,
          "metadata": {},
          "output_type": "execute_result"
        }
      ],
      "source": [
        "model.fit(X_train, y_train,epochs=100,batch_size=64,validation_split=0.2,callbacks=callbacks)"
      ]
    },
    {
      "cell_type": "code",
      "execution_count": null,
      "metadata": {
        "id": "Fz_z48pxmFvB"
      },
      "outputs": [],
      "source": [
        "train_pred_1=model.predict_classes(X_train)\n",
        "test_pred_1=model.predict_classes(X_test)"
      ]
    },
    {
      "cell_type": "code",
      "execution_count": null,
      "metadata": {
        "id": "1jwIxoNVmFvB",
        "outputId": "69c3de88-20ec-4d31-8ad2-c6cf6bec15db"
      },
      "outputs": [
        {
          "name": "stdout",
          "output_type": "stream",
          "text": [
            "\n",
            "             ========================================\n",
            "               CLASSIFICATION REPORT FOR TRAIN DATA\n",
            "             ========================================\n",
            "        \n",
            "              precision    recall  f1-score   support\n",
            "\n",
            "           0     0.8420    0.9092    0.8743      4139\n",
            "           1     0.6773    0.5278    0.5932      1495\n",
            "\n",
            "    accuracy                         0.8080      5634\n",
            "   macro avg     0.7596    0.7185    0.7338      5634\n",
            "weighted avg     0.7983    0.8080    0.7997      5634\n",
            "\n",
            "\n",
            "             =========================================\n",
            "               CLASSIFICATION REPORT FOR TEST DATA\n",
            "             =========================================\n",
            "            \n",
            "              precision    recall  f1-score   support\n",
            "\n",
            "           0     0.8430    0.9082    0.8744      1035\n",
            "           1     0.6769    0.5321    0.5958       374\n",
            "\n",
            "    accuracy                         0.8084      1409\n",
            "   macro avg     0.7600    0.7201    0.7351      1409\n",
            "weighted avg     0.7989    0.8084    0.8005      1409\n",
            "\n",
            "\n",
            " ========================================\n",
            "   Confusion Matrix FOR TRAIN DATA\n",
            " ========================================\n",
            "            \n",
            "[[3763  376]\n",
            " [ 706  789]]\n",
            "\n",
            " =========================================\n",
            "   Confusion matrix FOR TEST DATA\n",
            " =========================================\n",
            "            \n",
            "[[940  95]\n",
            " [175 199]]\n"
          ]
        }
      ],
      "source": [
        "get_CR_CM(y_train, train_pred_1, y_test, test_pred_1)"
      ]
    },
    {
      "cell_type": "code",
      "execution_count": null,
      "metadata": {
        "id": "2nhQHvTTmFvC",
        "outputId": "c44186c6-0ff1-4776-c4da-89ce51f57fd3"
      },
      "outputs": [
        {
          "name": "stdout",
          "output_type": "stream",
          "text": [
            "\n",
            " ========================================\n",
            "           ACCURACY FOR TRAIN DATA\n",
            " ========================================\n",
            "        \n",
            "          0.8079517216897408\n",
            "\n",
            " =========================================\n",
            "           ACCURACY FOR TEST DATA\n",
            " =========================================\n",
            "            \n",
            "          0.808374733853797\n",
            "\n",
            " ========================================\n",
            "           RECALL FOR TRAIN DATA\n",
            " ========================================\n",
            "            \n",
            "          0.5277591973244147\n",
            "\n",
            " =========================================\n",
            "           RECALL FOR TEST DATA\n",
            " =========================================\n",
            "            \n",
            "          0.5320855614973262\n"
          ]
        }
      ],
      "source": [
        "get_ACCURACY_RECALL(y_train, train_pred_1, y_test, test_pred_1)"
      ]
    },
    {
      "cell_type": "code",
      "execution_count": null,
      "metadata": {
        "id": "i30eQ1CkmFvC",
        "outputId": "7c1507f5-fae5-4ba1-fa8e-33d5391b0f66"
      },
      "outputs": [
        {
          "data": {
            "text/html": [
              "<div>\n",
              "<style scoped>\n",
              "    .dataframe tbody tr th:only-of-type {\n",
              "        vertical-align: middle;\n",
              "    }\n",
              "\n",
              "    .dataframe tbody tr th {\n",
              "        vertical-align: top;\n",
              "    }\n",
              "\n",
              "    .dataframe thead th {\n",
              "        text-align: right;\n",
              "    }\n",
              "</style>\n",
              "<table border=\"1\" class=\"dataframe\">\n",
              "  <thead>\n",
              "    <tr style=\"text-align: right;\">\n",
              "      <th></th>\n",
              "      <th>Model</th>\n",
              "      <th>Train_Accuracy</th>\n",
              "      <th>Train_Recall</th>\n",
              "      <th>Train_Precision</th>\n",
              "      <th>Train_F1_Score</th>\n",
              "      <th>Test_Accuracy</th>\n",
              "      <th>Test_Recall</th>\n",
              "      <th>Test_Precision</th>\n",
              "      <th>Test_F1_Score</th>\n",
              "    </tr>\n",
              "  </thead>\n",
              "  <tbody>\n",
              "    <tr>\n",
              "      <th>0</th>\n",
              "      <td>1 layer model</td>\n",
              "      <td>0.807952</td>\n",
              "      <td>0.527759</td>\n",
              "      <td>0.677253</td>\n",
              "      <td>0.593233</td>\n",
              "      <td>0.808375</td>\n",
              "      <td>0.532086</td>\n",
              "      <td>0.676871</td>\n",
              "      <td>0.595808</td>\n",
              "    </tr>\n",
              "  </tbody>\n",
              "</table>\n",
              "</div>"
            ],
            "text/plain": [
              "           Model  Train_Accuracy  Train_Recall  Train_Precision  \\\n",
              "0  1 layer model        0.807952      0.527759         0.677253   \n",
              "\n",
              "   Train_F1_Score  Test_Accuracy  Test_Recall  Test_Precision  Test_F1_Score  \n",
              "0        0.593233       0.808375     0.532086        0.676871       0.595808  "
            ]
          },
          "execution_count": 49,
          "metadata": {},
          "output_type": "execute_result"
        }
      ],
      "source": [
        "scores = get_metrics(y_train,train_pred_1,y_test,test_pred_1,\"1 layer model\",scores)\n",
        "scores"
      ]
    },
    {
      "cell_type": "markdown",
      "metadata": {
        "id": "P23eLhCymFvC"
      },
      "source": [
        "# Model 2 - Experiment 1 (2 hidden layers)"
      ]
    },
    {
      "cell_type": "code",
      "execution_count": null,
      "metadata": {
        "id": "jst0xlnAmFvC"
      },
      "outputs": [],
      "source": [
        "np.random.seed(seed)\n",
        "tf.random.set_seed(seed)"
      ]
    },
    {
      "cell_type": "code",
      "execution_count": null,
      "metadata": {
        "id": "omFkI5bqmFvC"
      },
      "outputs": [],
      "source": [
        "model = Sequential()\n",
        "model.add(Dense(16, input_dim=input_shape, kernel_initializer='glorot_normal', activation='relu'))\n",
        "model.add(Dense(12, kernel_initializer='glorot_normal', activation='relu'))\n",
        "model.add(Dense(1, activation='sigmoid',kernel_initializer='glorot_normal'))"
      ]
    },
    {
      "cell_type": "code",
      "execution_count": null,
      "metadata": {
        "id": "NicJossrmFvC",
        "outputId": "0f82e766-5812-449d-b3d5-a62d6cfa46a2"
      },
      "outputs": [
        {
          "name": "stdout",
          "output_type": "stream",
          "text": [
            "Model: \"sequential_1\"\n",
            "_________________________________________________________________\n",
            "Layer (type)                 Output Shape              Param #   \n",
            "=================================================================\n",
            "dense_2 (Dense)              (None, 16)                640       \n",
            "_________________________________________________________________\n",
            "dense_3 (Dense)              (None, 12)                204       \n",
            "_________________________________________________________________\n",
            "dense_4 (Dense)              (None, 1)                 13        \n",
            "=================================================================\n",
            "Total params: 857\n",
            "Trainable params: 857\n",
            "Non-trainable params: 0\n",
            "_________________________________________________________________\n"
          ]
        }
      ],
      "source": [
        "model.summary()"
      ]
    },
    {
      "cell_type": "code",
      "execution_count": null,
      "metadata": {
        "id": "YmdvszJBmFvD"
      },
      "outputs": [],
      "source": [
        "model.compile(loss='binary_crossentropy',\n",
        "              optimizer='adam',\n",
        "              metrics=['accuracy'])"
      ]
    },
    {
      "cell_type": "code",
      "execution_count": null,
      "metadata": {
        "id": "viqaLIl8mFvD",
        "outputId": "f3acfd4d-1b0b-4bee-dbb0-fc57ada84381"
      },
      "outputs": [
        {
          "name": "stdout",
          "output_type": "stream",
          "text": [
            "Train on 4507 samples, validate on 1127 samples\n",
            "Epoch 1/50\n",
            "4507/4507 [==============================] - 1s 191us/sample - loss: 0.6756 - accuracy: 0.5680 - val_loss: 0.5188 - val_accuracy: 0.7533\n",
            "Epoch 2/50\n",
            "4507/4507 [==============================] - 0s 53us/sample - loss: 0.4934 - accuracy: 0.7524 - val_loss: 0.4425 - val_accuracy: 0.7950\n",
            "Epoch 3/50\n",
            "4507/4507 [==============================] - 0s 50us/sample - loss: 0.4463 - accuracy: 0.7888 - val_loss: 0.4235 - val_accuracy: 0.8021\n",
            "Epoch 4/50\n",
            "4507/4507 [==============================] - 0s 50us/sample - loss: 0.4354 - accuracy: 0.7948 - val_loss: 0.4187 - val_accuracy: 0.8092\n",
            "Epoch 5/50\n",
            "4507/4507 [==============================] - 0s 40us/sample - loss: 0.4305 - accuracy: 0.7954 - val_loss: 0.4175 - val_accuracy: 0.8092\n",
            "Epoch 6/50\n",
            "4507/4507 [==============================] - 0s 46us/sample - loss: 0.4277 - accuracy: 0.7954 - val_loss: 0.4118 - val_accuracy: 0.8057\n",
            "Epoch 7/50\n",
            "4507/4507 [==============================] - 0s 46us/sample - loss: 0.4249 - accuracy: 0.7950 - val_loss: 0.4110 - val_accuracy: 0.8092\n",
            "Epoch 8/50\n",
            "4507/4507 [==============================] - 0s 47us/sample - loss: 0.4235 - accuracy: 0.7970 - val_loss: 0.4115 - val_accuracy: 0.8092\n",
            "Epoch 9/50\n",
            "4507/4507 [==============================] - 0s 46us/sample - loss: 0.4224 - accuracy: 0.7972 - val_loss: 0.4108 - val_accuracy: 0.8110\n",
            "Epoch 10/50\n",
            "4507/4507 [==============================] - 0s 47us/sample - loss: 0.4207 - accuracy: 0.7990 - val_loss: 0.4093 - val_accuracy: 0.8075\n",
            "Epoch 11/50\n",
            "4507/4507 [==============================] - 0s 47us/sample - loss: 0.4199 - accuracy: 0.7994 - val_loss: 0.4107 - val_accuracy: 0.8083\n",
            "Epoch 12/50\n",
            "4507/4507 [==============================] - 0s 49us/sample - loss: 0.4190 - accuracy: 0.8008 - val_loss: 0.4103 - val_accuracy: 0.8075\n",
            "Epoch 13/50\n",
            "4507/4507 [==============================] - 0s 43us/sample - loss: 0.4188 - accuracy: 0.8005 - val_loss: 0.4101 - val_accuracy: 0.8075\n",
            "Epoch 14/50\n",
            "4507/4507 [==============================] - 0s 52us/sample - loss: 0.4176 - accuracy: 0.8028 - val_loss: 0.4153 - val_accuracy: 0.8048\n",
            "Epoch 15/50\n",
            "4507/4507 [==============================] - 0s 47us/sample - loss: 0.4167 - accuracy: 0.8043 - val_loss: 0.4170 - val_accuracy: 0.8057\n",
            "Epoch 00015: early stopping\n"
          ]
        },
        {
          "data": {
            "text/plain": [
              "<tensorflow.python.keras.callbacks.History at 0x7f2b10083990>"
            ]
          },
          "execution_count": 54,
          "metadata": {},
          "output_type": "execute_result"
        }
      ],
      "source": [
        "model.fit(X_train, y_train, epochs=50, batch_size=64,validation_split=0.2,callbacks=callbacks)"
      ]
    },
    {
      "cell_type": "code",
      "execution_count": null,
      "metadata": {
        "id": "2toowlkkmFvD"
      },
      "outputs": [],
      "source": [
        "train_pred_2=model.predict_classes(X_train)\n",
        "test_pred_2=model.predict_classes(X_test)"
      ]
    },
    {
      "cell_type": "code",
      "execution_count": null,
      "metadata": {
        "scrolled": true,
        "id": "nM6c32HKmFvD",
        "outputId": "95cc9d0d-1020-491f-9769-9db2e1bed9c9"
      },
      "outputs": [
        {
          "name": "stdout",
          "output_type": "stream",
          "text": [
            "\n",
            "             ========================================\n",
            "               CLASSIFICATION REPORT FOR TRAIN DATA\n",
            "             ========================================\n",
            "        \n",
            "              precision    recall  f1-score   support\n",
            "\n",
            "           0     0.8549    0.8770    0.8658      4139\n",
            "           1     0.6333    0.5880    0.6098      1495\n",
            "\n",
            "    accuracy                         0.8003      5634\n",
            "   macro avg     0.7441    0.7325    0.7378      5634\n",
            "weighted avg     0.7961    0.8003    0.7979      5634\n",
            "\n",
            "\n",
            "             =========================================\n",
            "               CLASSIFICATION REPORT FOR TEST DATA\n",
            "             =========================================\n",
            "            \n",
            "              precision    recall  f1-score   support\n",
            "\n",
            "           0     0.8588    0.8754    0.8670      1035\n",
            "           1     0.6356    0.6016    0.6181       374\n",
            "\n",
            "    accuracy                         0.8027      1409\n",
            "   macro avg     0.7472    0.7385    0.7426      1409\n",
            "weighted avg     0.7995    0.8027    0.8009      1409\n",
            "\n",
            "\n",
            " ========================================\n",
            "   Confusion Matrix FOR TRAIN DATA\n",
            " ========================================\n",
            "            \n",
            "[[3630  509]\n",
            " [ 616  879]]\n",
            "\n",
            " =========================================\n",
            "   Confusion matrix FOR TEST DATA\n",
            " =========================================\n",
            "            \n",
            "[[906 129]\n",
            " [149 225]]\n"
          ]
        }
      ],
      "source": [
        "get_CR_CM(y_train, train_pred_2, y_test, test_pred_2)"
      ]
    },
    {
      "cell_type": "code",
      "execution_count": null,
      "metadata": {
        "id": "suidYDX9mFvD",
        "outputId": "3abf852b-3e84-41c9-ac84-966918195b4c"
      },
      "outputs": [
        {
          "name": "stdout",
          "output_type": "stream",
          "text": [
            "\n",
            " ========================================\n",
            "           ACCURACY FOR TRAIN DATA\n",
            " ========================================\n",
            "        \n",
            "          0.8003194888178914\n",
            "\n",
            " =========================================\n",
            "           ACCURACY FOR TEST DATA\n",
            " =========================================\n",
            "            \n",
            "          0.8026969481902059\n",
            "\n",
            " ========================================\n",
            "           RECALL FOR TRAIN DATA\n",
            " ========================================\n",
            "            \n",
            "          0.5879598662207358\n",
            "\n",
            " =========================================\n",
            "           RECALL FOR TEST DATA\n",
            " =========================================\n",
            "            \n",
            "          0.6016042780748663\n"
          ]
        }
      ],
      "source": [
        "get_ACCURACY_RECALL(y_train, train_pred_2, y_test, test_pred_2)"
      ]
    },
    {
      "cell_type": "code",
      "execution_count": null,
      "metadata": {
        "id": "o5iU7CZvmFvD",
        "outputId": "5cc508b3-9221-410e-f274-0b8a052c9972"
      },
      "outputs": [
        {
          "data": {
            "text/html": [
              "<div>\n",
              "<style scoped>\n",
              "    .dataframe tbody tr th:only-of-type {\n",
              "        vertical-align: middle;\n",
              "    }\n",
              "\n",
              "    .dataframe tbody tr th {\n",
              "        vertical-align: top;\n",
              "    }\n",
              "\n",
              "    .dataframe thead th {\n",
              "        text-align: right;\n",
              "    }\n",
              "</style>\n",
              "<table border=\"1\" class=\"dataframe\">\n",
              "  <thead>\n",
              "    <tr style=\"text-align: right;\">\n",
              "      <th></th>\n",
              "      <th>Model</th>\n",
              "      <th>Train_Accuracy</th>\n",
              "      <th>Train_Recall</th>\n",
              "      <th>Train_Precision</th>\n",
              "      <th>Train_F1_Score</th>\n",
              "      <th>Test_Accuracy</th>\n",
              "      <th>Test_Recall</th>\n",
              "      <th>Test_Precision</th>\n",
              "      <th>Test_F1_Score</th>\n",
              "    </tr>\n",
              "  </thead>\n",
              "  <tbody>\n",
              "    <tr>\n",
              "      <th>0</th>\n",
              "      <td>1 layer model</td>\n",
              "      <td>0.807952</td>\n",
              "      <td>0.527759</td>\n",
              "      <td>0.677253</td>\n",
              "      <td>0.593233</td>\n",
              "      <td>0.808375</td>\n",
              "      <td>0.532086</td>\n",
              "      <td>0.676871</td>\n",
              "      <td>0.595808</td>\n",
              "    </tr>\n",
              "    <tr>\n",
              "      <th>1</th>\n",
              "      <td>2 layer model - experiment 1</td>\n",
              "      <td>0.800319</td>\n",
              "      <td>0.587960</td>\n",
              "      <td>0.633285</td>\n",
              "      <td>0.609781</td>\n",
              "      <td>0.802697</td>\n",
              "      <td>0.601604</td>\n",
              "      <td>0.635593</td>\n",
              "      <td>0.618132</td>\n",
              "    </tr>\n",
              "  </tbody>\n",
              "</table>\n",
              "</div>"
            ],
            "text/plain": [
              "                          Model  Train_Accuracy  Train_Recall  \\\n",
              "0                 1 layer model        0.807952      0.527759   \n",
              "1  2 layer model - experiment 1        0.800319      0.587960   \n",
              "\n",
              "   Train_Precision  Train_F1_Score  Test_Accuracy  Test_Recall  \\\n",
              "0         0.677253        0.593233       0.808375     0.532086   \n",
              "1         0.633285        0.609781       0.802697     0.601604   \n",
              "\n",
              "   Test_Precision  Test_F1_Score  \n",
              "0        0.676871       0.595808  \n",
              "1        0.635593       0.618132  "
            ]
          },
          "execution_count": 58,
          "metadata": {},
          "output_type": "execute_result"
        }
      ],
      "source": [
        "scores = get_metrics(y_train,train_pred_2,y_test,test_pred_2,\"2 layer model - experiment 1\",scores)\n",
        "scores"
      ]
    },
    {
      "cell_type": "markdown",
      "metadata": {
        "id": "C1xFES1QmFvD"
      },
      "source": [
        "# Model 2 - Experiment 2 (2 hidden layers with different number of neurons)"
      ]
    },
    {
      "cell_type": "code",
      "execution_count": null,
      "metadata": {
        "id": "cwizcbb8mFvE"
      },
      "outputs": [],
      "source": [
        "np.random.seed(seed)\n",
        "tf.random.set_seed(seed)"
      ]
    },
    {
      "cell_type": "code",
      "execution_count": null,
      "metadata": {
        "id": "1WMb4Rr2mFvE"
      },
      "outputs": [],
      "source": [
        "model = Sequential()\n",
        "model.add(Dense(128, input_dim=input_shape, kernel_initializer='glorot_normal', activation='relu'))\n",
        "model.add(Dense(64, kernel_initializer='glorot_normal', activation='relu'))\n",
        "model.add(Dense(1, activation='sigmoid',kernel_initializer='glorot_normal'))"
      ]
    },
    {
      "cell_type": "code",
      "execution_count": null,
      "metadata": {
        "id": "2ApMjlZFmFvE",
        "outputId": "c49f98d3-dc57-46ef-ecec-d09dfb05e293"
      },
      "outputs": [
        {
          "name": "stdout",
          "output_type": "stream",
          "text": [
            "Model: \"sequential_2\"\n",
            "_________________________________________________________________\n",
            "Layer (type)                 Output Shape              Param #   \n",
            "=================================================================\n",
            "dense_5 (Dense)              (None, 128)               5120      \n",
            "_________________________________________________________________\n",
            "dense_6 (Dense)              (None, 64)                8256      \n",
            "_________________________________________________________________\n",
            "dense_7 (Dense)              (None, 1)                 65        \n",
            "=================================================================\n",
            "Total params: 13,441\n",
            "Trainable params: 13,441\n",
            "Non-trainable params: 0\n",
            "_________________________________________________________________\n"
          ]
        }
      ],
      "source": [
        "model.summary()"
      ]
    },
    {
      "cell_type": "code",
      "execution_count": null,
      "metadata": {
        "id": "nGo5zynNmFvF"
      },
      "outputs": [],
      "source": [
        "model.compile(loss='binary_crossentropy',\n",
        "              optimizer='adam',\n",
        "              metrics=['accuracy'])"
      ]
    },
    {
      "cell_type": "code",
      "execution_count": null,
      "metadata": {
        "id": "kB1RFtkSmFvF",
        "outputId": "9b4a35fb-b18b-4264-98c4-b4370463488a"
      },
      "outputs": [
        {
          "name": "stdout",
          "output_type": "stream",
          "text": [
            "Train on 4507 samples, validate on 1127 samples\n",
            "Epoch 1/50\n",
            "4507/4507 [==============================] - 1s 159us/sample - loss: 0.4737 - accuracy: 0.7737 - val_loss: 0.4191 - val_accuracy: 0.8021\n",
            "Epoch 2/50\n",
            "4507/4507 [==============================] - 0s 38us/sample - loss: 0.4257 - accuracy: 0.7999 - val_loss: 0.4148 - val_accuracy: 0.8146\n",
            "Epoch 3/50\n",
            "4507/4507 [==============================] - 0s 34us/sample - loss: 0.4187 - accuracy: 0.7983 - val_loss: 0.4062 - val_accuracy: 0.8119\n",
            "Epoch 4/50\n",
            "4507/4507 [==============================] - 0s 45us/sample - loss: 0.4169 - accuracy: 0.8008 - val_loss: 0.4190 - val_accuracy: 0.8092\n",
            "Epoch 5/50\n",
            "4507/4507 [==============================] - 0s 47us/sample - loss: 0.4138 - accuracy: 0.8028 - val_loss: 0.4108 - val_accuracy: 0.8110\n",
            "Epoch 6/50\n",
            "4507/4507 [==============================] - 0s 47us/sample - loss: 0.4089 - accuracy: 0.8094 - val_loss: 0.4153 - val_accuracy: 0.8110\n",
            "Epoch 7/50\n",
            "4507/4507 [==============================] - 0s 39us/sample - loss: 0.4059 - accuracy: 0.8034 - val_loss: 0.4075 - val_accuracy: 0.8137\n",
            "Epoch 8/50\n",
            "4507/4507 [==============================] - 0s 47us/sample - loss: 0.4039 - accuracy: 0.8090 - val_loss: 0.4042 - val_accuracy: 0.8083\n",
            "Epoch 9/50\n",
            "4507/4507 [==============================] - 0s 55us/sample - loss: 0.4008 - accuracy: 0.8070 - val_loss: 0.4047 - val_accuracy: 0.8092\n",
            "Epoch 10/50\n",
            "4507/4507 [==============================] - 0s 44us/sample - loss: 0.3949 - accuracy: 0.8152 - val_loss: 0.4043 - val_accuracy: 0.8092\n",
            "Epoch 11/50\n",
            "4507/4507 [==============================] - 0s 45us/sample - loss: 0.3920 - accuracy: 0.8158 - val_loss: 0.4119 - val_accuracy: 0.8083\n",
            "Epoch 12/50\n",
            "4507/4507 [==============================] - 0s 36us/sample - loss: 0.3913 - accuracy: 0.8114 - val_loss: 0.4178 - val_accuracy: 0.8066\n",
            "Epoch 13/50\n",
            "4507/4507 [==============================] - 0s 41us/sample - loss: 0.3867 - accuracy: 0.8167 - val_loss: 0.4113 - val_accuracy: 0.8092\n",
            "Epoch 00013: early stopping\n"
          ]
        },
        {
          "data": {
            "text/plain": [
              "<tensorflow.python.keras.callbacks.History at 0x7f2b086eb6d0>"
            ]
          },
          "execution_count": 63,
          "metadata": {},
          "output_type": "execute_result"
        }
      ],
      "source": [
        "model.fit(X_train, y_train, epochs=50, batch_size=64,validation_split=0.2,callbacks=callbacks)"
      ]
    },
    {
      "cell_type": "code",
      "execution_count": null,
      "metadata": {
        "id": "LrZHZfvVmFvF"
      },
      "outputs": [],
      "source": [
        "train_pred_2=model.predict_classes(X_train)\n",
        "test_pred_2=model.predict_classes(X_test)"
      ]
    },
    {
      "cell_type": "code",
      "execution_count": null,
      "metadata": {
        "id": "tA0HjtlbmFvF",
        "outputId": "16319881-b41a-4c96-9929-46c1a4491635"
      },
      "outputs": [
        {
          "name": "stdout",
          "output_type": "stream",
          "text": [
            "\n",
            "             ========================================\n",
            "               CLASSIFICATION REPORT FOR TRAIN DATA\n",
            "             ========================================\n",
            "        \n",
            "              precision    recall  f1-score   support\n",
            "\n",
            "           0     0.8428    0.9239    0.8815      4139\n",
            "           1     0.7129    0.5231    0.6034      1495\n",
            "\n",
            "    accuracy                         0.8175      5634\n",
            "   macro avg     0.7779    0.7235    0.7425      5634\n",
            "weighted avg     0.8084    0.8175    0.8077      5634\n",
            "\n",
            "\n",
            "             =========================================\n",
            "               CLASSIFICATION REPORT FOR TEST DATA\n",
            "             =========================================\n",
            "            \n",
            "              precision    recall  f1-score   support\n",
            "\n",
            "           0     0.8298    0.9092    0.8677      1035\n",
            "           1     0.6582    0.4840    0.5578       374\n",
            "\n",
            "    accuracy                         0.7963      1409\n",
            "   macro avg     0.7440    0.6966    0.7127      1409\n",
            "weighted avg     0.7843    0.7963    0.7854      1409\n",
            "\n",
            "\n",
            " ========================================\n",
            "   Confusion Matrix FOR TRAIN DATA\n",
            " ========================================\n",
            "            \n",
            "[[3824  315]\n",
            " [ 713  782]]\n",
            "\n",
            " =========================================\n",
            "   Confusion matrix FOR TEST DATA\n",
            " =========================================\n",
            "            \n",
            "[[941  94]\n",
            " [193 181]]\n"
          ]
        }
      ],
      "source": [
        "get_CR_CM(y_train, train_pred_2, y_test, test_pred_2)"
      ]
    },
    {
      "cell_type": "code",
      "execution_count": null,
      "metadata": {
        "id": "WFe2xu3BmFvF",
        "outputId": "264aea11-43a1-47a5-92a2-a99c7ef989d2"
      },
      "outputs": [
        {
          "name": "stdout",
          "output_type": "stream",
          "text": [
            "\n",
            " ========================================\n",
            "           ACCURACY FOR TRAIN DATA\n",
            " ========================================\n",
            "        \n",
            "          0.8175363862264821\n",
            "\n",
            " =========================================\n",
            "           ACCURACY FOR TEST DATA\n",
            " =========================================\n",
            "            \n",
            "          0.7963094393186657\n",
            "\n",
            " ========================================\n",
            "           RECALL FOR TRAIN DATA\n",
            " ========================================\n",
            "            \n",
            "          0.5230769230769231\n",
            "\n",
            " =========================================\n",
            "           RECALL FOR TEST DATA\n",
            " =========================================\n",
            "            \n",
            "          0.4839572192513369\n"
          ]
        }
      ],
      "source": [
        "get_ACCURACY_RECALL(y_train, train_pred_2, y_test, test_pred_2)"
      ]
    },
    {
      "cell_type": "code",
      "execution_count": null,
      "metadata": {
        "id": "PGy08QEJmFvF",
        "outputId": "81b00ea6-3f7c-4815-e9ad-1f372c30a727"
      },
      "outputs": [
        {
          "data": {
            "text/html": [
              "<div>\n",
              "<style scoped>\n",
              "    .dataframe tbody tr th:only-of-type {\n",
              "        vertical-align: middle;\n",
              "    }\n",
              "\n",
              "    .dataframe tbody tr th {\n",
              "        vertical-align: top;\n",
              "    }\n",
              "\n",
              "    .dataframe thead th {\n",
              "        text-align: right;\n",
              "    }\n",
              "</style>\n",
              "<table border=\"1\" class=\"dataframe\">\n",
              "  <thead>\n",
              "    <tr style=\"text-align: right;\">\n",
              "      <th></th>\n",
              "      <th>Model</th>\n",
              "      <th>Train_Accuracy</th>\n",
              "      <th>Train_Recall</th>\n",
              "      <th>Train_Precision</th>\n",
              "      <th>Train_F1_Score</th>\n",
              "      <th>Test_Accuracy</th>\n",
              "      <th>Test_Recall</th>\n",
              "      <th>Test_Precision</th>\n",
              "      <th>Test_F1_Score</th>\n",
              "    </tr>\n",
              "  </thead>\n",
              "  <tbody>\n",
              "    <tr>\n",
              "      <th>0</th>\n",
              "      <td>1 layer model</td>\n",
              "      <td>0.807952</td>\n",
              "      <td>0.527759</td>\n",
              "      <td>0.677253</td>\n",
              "      <td>0.593233</td>\n",
              "      <td>0.808375</td>\n",
              "      <td>0.532086</td>\n",
              "      <td>0.676871</td>\n",
              "      <td>0.595808</td>\n",
              "    </tr>\n",
              "    <tr>\n",
              "      <th>1</th>\n",
              "      <td>2 layer model - experiment 1</td>\n",
              "      <td>0.800319</td>\n",
              "      <td>0.587960</td>\n",
              "      <td>0.633285</td>\n",
              "      <td>0.609781</td>\n",
              "      <td>0.802697</td>\n",
              "      <td>0.601604</td>\n",
              "      <td>0.635593</td>\n",
              "      <td>0.618132</td>\n",
              "    </tr>\n",
              "    <tr>\n",
              "      <th>2</th>\n",
              "      <td>2 layer model - experiment 2</td>\n",
              "      <td>0.817536</td>\n",
              "      <td>0.523077</td>\n",
              "      <td>0.712853</td>\n",
              "      <td>0.603395</td>\n",
              "      <td>0.796309</td>\n",
              "      <td>0.483957</td>\n",
              "      <td>0.658182</td>\n",
              "      <td>0.557781</td>\n",
              "    </tr>\n",
              "  </tbody>\n",
              "</table>\n",
              "</div>"
            ],
            "text/plain": [
              "                          Model  Train_Accuracy  Train_Recall  \\\n",
              "0                 1 layer model        0.807952      0.527759   \n",
              "1  2 layer model - experiment 1        0.800319      0.587960   \n",
              "2  2 layer model - experiment 2        0.817536      0.523077   \n",
              "\n",
              "   Train_Precision  Train_F1_Score  Test_Accuracy  Test_Recall  \\\n",
              "0         0.677253        0.593233       0.808375     0.532086   \n",
              "1         0.633285        0.609781       0.802697     0.601604   \n",
              "2         0.712853        0.603395       0.796309     0.483957   \n",
              "\n",
              "   Test_Precision  Test_F1_Score  \n",
              "0        0.676871       0.595808  \n",
              "1        0.635593       0.618132  \n",
              "2        0.658182       0.557781  "
            ]
          },
          "execution_count": 67,
          "metadata": {},
          "output_type": "execute_result"
        }
      ],
      "source": [
        "scores = get_metrics(y_train,train_pred_2,y_test,test_pred_2,\"2 layer model - experiment 2\",scores)\n",
        "scores"
      ]
    },
    {
      "cell_type": "markdown",
      "metadata": {
        "id": "Fhhlt3rImFvF"
      },
      "source": [
        "# Model 3 (2 hidden layers with Dropout)"
      ]
    },
    {
      "cell_type": "code",
      "execution_count": null,
      "metadata": {
        "id": "hipU6JblmFvG"
      },
      "outputs": [],
      "source": [
        "np.random.seed(seed)\n",
        "tf.random.set_seed(seed)"
      ]
    },
    {
      "cell_type": "code",
      "execution_count": null,
      "metadata": {
        "id": "5nL1SiP-mFvG"
      },
      "outputs": [],
      "source": [
        "model = Sequential()\n",
        "model.add(Dense(128, input_dim=input_shape, kernel_initializer='glorot_normal', activation='relu'))\n",
        "model.add(Dropout(0.5))\n",
        "model.add(Dense(64, kernel_initializer='glorot_normal', activation='relu'))\n",
        "model.add(Dropout(0.5))\n",
        "model.add(Dense(1, activation='sigmoid',kernel_initializer='glorot_normal'))"
      ]
    },
    {
      "cell_type": "code",
      "execution_count": null,
      "metadata": {
        "id": "zV-HTW7ImFvG",
        "outputId": "1a8cfceb-2918-4ba8-bdbf-6fa5a43b8378"
      },
      "outputs": [
        {
          "name": "stdout",
          "output_type": "stream",
          "text": [
            "Model: \"sequential_3\"\n",
            "_________________________________________________________________\n",
            "Layer (type)                 Output Shape              Param #   \n",
            "=================================================================\n",
            "dense_8 (Dense)              (None, 128)               5120      \n",
            "_________________________________________________________________\n",
            "dropout (Dropout)            (None, 128)               0         \n",
            "_________________________________________________________________\n",
            "dense_9 (Dense)              (None, 64)                8256      \n",
            "_________________________________________________________________\n",
            "dropout_1 (Dropout)          (None, 64)                0         \n",
            "_________________________________________________________________\n",
            "dense_10 (Dense)             (None, 1)                 65        \n",
            "=================================================================\n",
            "Total params: 13,441\n",
            "Trainable params: 13,441\n",
            "Non-trainable params: 0\n",
            "_________________________________________________________________\n"
          ]
        }
      ],
      "source": [
        "model.summary()"
      ]
    },
    {
      "cell_type": "code",
      "execution_count": null,
      "metadata": {
        "id": "lhSuOocQmFvG"
      },
      "outputs": [],
      "source": [
        "model.compile(loss='binary_crossentropy',\n",
        "              optimizer='adam',\n",
        "              metrics=['accuracy'])"
      ]
    },
    {
      "cell_type": "code",
      "execution_count": null,
      "metadata": {
        "id": "dBvxABcumFvG",
        "outputId": "910e2f32-4c7a-4222-90d7-a05a636404fa"
      },
      "outputs": [
        {
          "name": "stdout",
          "output_type": "stream",
          "text": [
            "Train on 4507 samples, validate on 1127 samples\n",
            "Epoch 1/50\n",
            "4507/4507 [==============================] - 1s 164us/sample - loss: 0.5332 - accuracy: 0.7269 - val_loss: 0.4219 - val_accuracy: 0.7950\n",
            "Epoch 2/50\n",
            "4507/4507 [==============================] - 0s 41us/sample - loss: 0.4701 - accuracy: 0.7690 - val_loss: 0.4174 - val_accuracy: 0.8075\n",
            "Epoch 3/50\n",
            "4507/4507 [==============================] - 0s 51us/sample - loss: 0.4517 - accuracy: 0.7806 - val_loss: 0.4189 - val_accuracy: 0.8066\n",
            "Epoch 4/50\n",
            "4507/4507 [==============================] - 0s 51us/sample - loss: 0.4474 - accuracy: 0.7923 - val_loss: 0.4127 - val_accuracy: 0.8101\n",
            "Epoch 5/50\n",
            "4507/4507 [==============================] - 0s 42us/sample - loss: 0.4415 - accuracy: 0.7861 - val_loss: 0.4162 - val_accuracy: 0.8137\n",
            "Epoch 6/50\n",
            "4507/4507 [==============================] - 0s 44us/sample - loss: 0.4393 - accuracy: 0.7910 - val_loss: 0.4112 - val_accuracy: 0.8110\n",
            "Epoch 7/50\n",
            "4507/4507 [==============================] - 0s 46us/sample - loss: 0.4430 - accuracy: 0.7897 - val_loss: 0.4100 - val_accuracy: 0.8101\n",
            "Epoch 8/50\n",
            "4507/4507 [==============================] - 0s 51us/sample - loss: 0.4322 - accuracy: 0.7988 - val_loss: 0.4116 - val_accuracy: 0.8190\n",
            "Epoch 9/50\n",
            "4507/4507 [==============================] - 0s 63us/sample - loss: 0.4366 - accuracy: 0.7903 - val_loss: 0.4096 - val_accuracy: 0.8128\n",
            "Epoch 10/50\n",
            "4507/4507 [==============================] - 0s 65us/sample - loss: 0.4287 - accuracy: 0.7983 - val_loss: 0.4067 - val_accuracy: 0.8101\n",
            "Epoch 11/50\n",
            "4507/4507 [==============================] - 0s 53us/sample - loss: 0.4328 - accuracy: 0.7948 - val_loss: 0.4102 - val_accuracy: 0.8154\n",
            "Epoch 12/50\n",
            "4507/4507 [==============================] - 0s 65us/sample - loss: 0.4287 - accuracy: 0.7934 - val_loss: 0.4082 - val_accuracy: 0.8146\n",
            "Epoch 13/50\n",
            "4507/4507 [==============================] - 0s 56us/sample - loss: 0.4318 - accuracy: 0.7974 - val_loss: 0.4090 - val_accuracy: 0.8119\n",
            "Epoch 14/50\n",
            "4507/4507 [==============================] - 0s 47us/sample - loss: 0.4266 - accuracy: 0.7937 - val_loss: 0.4130 - val_accuracy: 0.8128\n",
            "Epoch 15/50\n",
            "4507/4507 [==============================] - 0s 47us/sample - loss: 0.4230 - accuracy: 0.7999 - val_loss: 0.4120 - val_accuracy: 0.8137\n",
            "Epoch 00015: early stopping\n"
          ]
        },
        {
          "data": {
            "text/plain": [
              "<tensorflow.python.keras.callbacks.History at 0x7f2b0847ed90>"
            ]
          },
          "execution_count": 72,
          "metadata": {},
          "output_type": "execute_result"
        }
      ],
      "source": [
        "model.fit(X_train, y_train,\n",
        "              epochs=50,\n",
        "          batch_size=64,validation_split=0.2,callbacks=callbacks)"
      ]
    },
    {
      "cell_type": "code",
      "execution_count": null,
      "metadata": {
        "id": "x5ykmeYOmFvG"
      },
      "outputs": [],
      "source": [
        "train_pred_3=model.predict_classes(X_train)\n",
        "test_pred_3=model.predict_classes(X_test)"
      ]
    },
    {
      "cell_type": "code",
      "execution_count": null,
      "metadata": {
        "id": "P2ojwvMVmFvG",
        "outputId": "0ec62df6-6400-4af0-9d80-2dd2b1a893f1"
      },
      "outputs": [
        {
          "name": "stdout",
          "output_type": "stream",
          "text": [
            "\n",
            "             ========================================\n",
            "               CLASSIFICATION REPORT FOR TRAIN DATA\n",
            "             ========================================\n",
            "        \n",
            "              precision    recall  f1-score   support\n",
            "\n",
            "           0     0.8469    0.9034    0.8742      4139\n",
            "           1     0.6719    0.5478    0.6035      1495\n",
            "\n",
            "    accuracy                         0.8090      5634\n",
            "   macro avg     0.7594    0.7256    0.7389      5634\n",
            "weighted avg     0.8004    0.8090    0.8024      5634\n",
            "\n",
            "\n",
            "             =========================================\n",
            "               CLASSIFICATION REPORT FOR TEST DATA\n",
            "             =========================================\n",
            "            \n",
            "              precision    recall  f1-score   support\n",
            "\n",
            "           0     0.8345    0.8966    0.8645      1035\n",
            "           1     0.6397    0.5080    0.5663       374\n",
            "\n",
            "    accuracy                         0.7935      1409\n",
            "   macro avg     0.7371    0.7023    0.7154      1409\n",
            "weighted avg     0.7828    0.7935    0.7853      1409\n",
            "\n",
            "\n",
            " ========================================\n",
            "   Confusion Matrix FOR TRAIN DATA\n",
            " ========================================\n",
            "            \n",
            "[[3739  400]\n",
            " [ 676  819]]\n",
            "\n",
            " =========================================\n",
            "   Confusion matrix FOR TEST DATA\n",
            " =========================================\n",
            "            \n",
            "[[928 107]\n",
            " [184 190]]\n"
          ]
        }
      ],
      "source": [
        "get_CR_CM(y_train, train_pred_3, y_test, test_pred_3)"
      ]
    },
    {
      "cell_type": "code",
      "execution_count": null,
      "metadata": {
        "id": "HzFH_k8KmFvH",
        "outputId": "a1a38c97-19c9-48d2-e1fd-2d71b4b82ec0"
      },
      "outputs": [
        {
          "name": "stdout",
          "output_type": "stream",
          "text": [
            "\n",
            " ========================================\n",
            "           ACCURACY FOR TRAIN DATA\n",
            " ========================================\n",
            "        \n",
            "          0.8090166844160455\n",
            "\n",
            " =========================================\n",
            "           ACCURACY FOR TEST DATA\n",
            " =========================================\n",
            "            \n",
            "          0.7934705464868701\n",
            "\n",
            " ========================================\n",
            "           RECALL FOR TRAIN DATA\n",
            " ========================================\n",
            "            \n",
            "          0.5478260869565217\n",
            "\n",
            " =========================================\n",
            "           RECALL FOR TEST DATA\n",
            " =========================================\n",
            "            \n",
            "          0.5080213903743316\n"
          ]
        }
      ],
      "source": [
        "get_ACCURACY_RECALL(y_train, train_pred_3, y_test, test_pred_3)"
      ]
    },
    {
      "cell_type": "code",
      "execution_count": null,
      "metadata": {
        "id": "joTi6QBgmFvH",
        "outputId": "e8d6ba14-a65e-4dd0-bb36-4c14989a217b"
      },
      "outputs": [
        {
          "data": {
            "text/html": [
              "<div>\n",
              "<style scoped>\n",
              "    .dataframe tbody tr th:only-of-type {\n",
              "        vertical-align: middle;\n",
              "    }\n",
              "\n",
              "    .dataframe tbody tr th {\n",
              "        vertical-align: top;\n",
              "    }\n",
              "\n",
              "    .dataframe thead th {\n",
              "        text-align: right;\n",
              "    }\n",
              "</style>\n",
              "<table border=\"1\" class=\"dataframe\">\n",
              "  <thead>\n",
              "    <tr style=\"text-align: right;\">\n",
              "      <th></th>\n",
              "      <th>Model</th>\n",
              "      <th>Train_Accuracy</th>\n",
              "      <th>Train_Recall</th>\n",
              "      <th>Train_Precision</th>\n",
              "      <th>Train_F1_Score</th>\n",
              "      <th>Test_Accuracy</th>\n",
              "      <th>Test_Recall</th>\n",
              "      <th>Test_Precision</th>\n",
              "      <th>Test_F1_Score</th>\n",
              "    </tr>\n",
              "  </thead>\n",
              "  <tbody>\n",
              "    <tr>\n",
              "      <th>0</th>\n",
              "      <td>1 layer model</td>\n",
              "      <td>0.807952</td>\n",
              "      <td>0.527759</td>\n",
              "      <td>0.677253</td>\n",
              "      <td>0.593233</td>\n",
              "      <td>0.808375</td>\n",
              "      <td>0.532086</td>\n",
              "      <td>0.676871</td>\n",
              "      <td>0.595808</td>\n",
              "    </tr>\n",
              "    <tr>\n",
              "      <th>1</th>\n",
              "      <td>2 layer model - experiment 1</td>\n",
              "      <td>0.800319</td>\n",
              "      <td>0.587960</td>\n",
              "      <td>0.633285</td>\n",
              "      <td>0.609781</td>\n",
              "      <td>0.802697</td>\n",
              "      <td>0.601604</td>\n",
              "      <td>0.635593</td>\n",
              "      <td>0.618132</td>\n",
              "    </tr>\n",
              "    <tr>\n",
              "      <th>2</th>\n",
              "      <td>2 layer model - experiment 2</td>\n",
              "      <td>0.817536</td>\n",
              "      <td>0.523077</td>\n",
              "      <td>0.712853</td>\n",
              "      <td>0.603395</td>\n",
              "      <td>0.796309</td>\n",
              "      <td>0.483957</td>\n",
              "      <td>0.658182</td>\n",
              "      <td>0.557781</td>\n",
              "    </tr>\n",
              "    <tr>\n",
              "      <th>3</th>\n",
              "      <td>2 layer model with dropout</td>\n",
              "      <td>0.809017</td>\n",
              "      <td>0.547826</td>\n",
              "      <td>0.671862</td>\n",
              "      <td>0.603537</td>\n",
              "      <td>0.793471</td>\n",
              "      <td>0.508021</td>\n",
              "      <td>0.639731</td>\n",
              "      <td>0.566319</td>\n",
              "    </tr>\n",
              "  </tbody>\n",
              "</table>\n",
              "</div>"
            ],
            "text/plain": [
              "                          Model  Train_Accuracy  Train_Recall  \\\n",
              "0                 1 layer model        0.807952      0.527759   \n",
              "1  2 layer model - experiment 1        0.800319      0.587960   \n",
              "2  2 layer model - experiment 2        0.817536      0.523077   \n",
              "3    2 layer model with dropout        0.809017      0.547826   \n",
              "\n",
              "   Train_Precision  Train_F1_Score  Test_Accuracy  Test_Recall  \\\n",
              "0         0.677253        0.593233       0.808375     0.532086   \n",
              "1         0.633285        0.609781       0.802697     0.601604   \n",
              "2         0.712853        0.603395       0.796309     0.483957   \n",
              "3         0.671862        0.603537       0.793471     0.508021   \n",
              "\n",
              "   Test_Precision  Test_F1_Score  \n",
              "0        0.676871       0.595808  \n",
              "1        0.635593       0.618132  \n",
              "2        0.658182       0.557781  \n",
              "3        0.639731       0.566319  "
            ]
          },
          "execution_count": 76,
          "metadata": {},
          "output_type": "execute_result"
        }
      ],
      "source": [
        "scores = get_metrics(y_train,train_pred_3,y_test,test_pred_3,\"2 layer model with dropout\",scores)\n",
        "scores"
      ]
    },
    {
      "cell_type": "markdown",
      "metadata": {
        "id": "C2N09TUHmFvH"
      },
      "source": [
        "# Model 4 (2 hidden layers with l2 regularizer)"
      ]
    },
    {
      "cell_type": "code",
      "execution_count": null,
      "metadata": {
        "id": "oeuTxTtVmFvH"
      },
      "outputs": [],
      "source": [
        "np.random.seed(seed)\n",
        "tf.random.set_seed(seed)"
      ]
    },
    {
      "cell_type": "code",
      "execution_count": null,
      "metadata": {
        "scrolled": true,
        "id": "pFnIH6DvmFvH"
      },
      "outputs": [],
      "source": [
        "model = Sequential()\n",
        "model.add(Dense(64, input_dim=input_shape, kernel_initializer='glorot_normal', activation='relu',kernel_regularizer=l2(1e-03)))\n",
        "model.add(Dropout(0.5))\n",
        "model.add(Dense(32, kernel_initializer='glorot_normal', activation='relu'))\n",
        "model.add(Dropout(0.5))\n",
        "model.add(Dense(1, activation='sigmoid',kernel_initializer='glorot_normal'))"
      ]
    },
    {
      "cell_type": "code",
      "execution_count": null,
      "metadata": {
        "id": "2ms9m3WamFvI",
        "outputId": "2607dc2b-8272-4030-a501-7698651027b7"
      },
      "outputs": [
        {
          "name": "stdout",
          "output_type": "stream",
          "text": [
            "Model: \"sequential_4\"\n",
            "_________________________________________________________________\n",
            "Layer (type)                 Output Shape              Param #   \n",
            "=================================================================\n",
            "dense_11 (Dense)             (None, 64)                2560      \n",
            "_________________________________________________________________\n",
            "dropout_2 (Dropout)          (None, 64)                0         \n",
            "_________________________________________________________________\n",
            "dense_12 (Dense)             (None, 32)                2080      \n",
            "_________________________________________________________________\n",
            "dropout_3 (Dropout)          (None, 32)                0         \n",
            "_________________________________________________________________\n",
            "dense_13 (Dense)             (None, 1)                 33        \n",
            "=================================================================\n",
            "Total params: 4,673\n",
            "Trainable params: 4,673\n",
            "Non-trainable params: 0\n",
            "_________________________________________________________________\n"
          ]
        }
      ],
      "source": [
        "model.summary()"
      ]
    },
    {
      "cell_type": "code",
      "execution_count": null,
      "metadata": {
        "id": "UuS7VEGEmFvI"
      },
      "outputs": [],
      "source": [
        "model.compile(loss='binary_crossentropy',\n",
        "              optimizer='adam',\n",
        "              metrics=['accuracy'])"
      ]
    },
    {
      "cell_type": "code",
      "execution_count": null,
      "metadata": {
        "id": "Kvu6_ICmmFvI",
        "outputId": "9a78cfea-81d5-49e1-ddbc-f00e1b2cc306"
      },
      "outputs": [
        {
          "name": "stdout",
          "output_type": "stream",
          "text": [
            "Train on 4507 samples, validate on 1127 samples\n",
            "Epoch 1/50\n",
            "4507/4507 [==============================] - 1s 171us/sample - loss: 0.6794 - accuracy: 0.6619 - val_loss: 0.5112 - val_accuracy: 0.7764\n",
            "Epoch 2/50\n",
            "4507/4507 [==============================] - 0s 52us/sample - loss: 0.5456 - accuracy: 0.7544 - val_loss: 0.4691 - val_accuracy: 0.8004\n",
            "Epoch 3/50\n",
            "4507/4507 [==============================] - 0s 61us/sample - loss: 0.5193 - accuracy: 0.7752 - val_loss: 0.4618 - val_accuracy: 0.8101\n",
            "Epoch 4/50\n",
            "4507/4507 [==============================] - 0s 51us/sample - loss: 0.5090 - accuracy: 0.7770 - val_loss: 0.4560 - val_accuracy: 0.8128\n",
            "Epoch 5/50\n",
            "4507/4507 [==============================] - 0s 49us/sample - loss: 0.4969 - accuracy: 0.7828 - val_loss: 0.4525 - val_accuracy: 0.8128\n",
            "Epoch 6/50\n",
            "4507/4507 [==============================] - 0s 42us/sample - loss: 0.4837 - accuracy: 0.7874 - val_loss: 0.4492 - val_accuracy: 0.8128\n",
            "Epoch 7/50\n",
            "4507/4507 [==============================] - 0s 42us/sample - loss: 0.4856 - accuracy: 0.7879 - val_loss: 0.4442 - val_accuracy: 0.8137\n",
            "Epoch 8/50\n",
            "4507/4507 [==============================] - 0s 47us/sample - loss: 0.4777 - accuracy: 0.7870 - val_loss: 0.4428 - val_accuracy: 0.8146\n",
            "Epoch 9/50\n",
            "4507/4507 [==============================] - 0s 41us/sample - loss: 0.4777 - accuracy: 0.7905 - val_loss: 0.4394 - val_accuracy: 0.8092\n",
            "Epoch 10/50\n",
            "4507/4507 [==============================] - 0s 52us/sample - loss: 0.4713 - accuracy: 0.7912 - val_loss: 0.4377 - val_accuracy: 0.8146\n",
            "Epoch 11/50\n",
            "4507/4507 [==============================] - 0s 37us/sample - loss: 0.4767 - accuracy: 0.7930 - val_loss: 0.4386 - val_accuracy: 0.8172\n",
            "Epoch 12/50\n",
            "4507/4507 [==============================] - 0s 33us/sample - loss: 0.4675 - accuracy: 0.7903 - val_loss: 0.4351 - val_accuracy: 0.8172\n",
            "Epoch 13/50\n",
            "4507/4507 [==============================] - 0s 34us/sample - loss: 0.4709 - accuracy: 0.7950 - val_loss: 0.4355 - val_accuracy: 0.8110\n",
            "Epoch 14/50\n",
            "4507/4507 [==============================] - 0s 35us/sample - loss: 0.4664 - accuracy: 0.8023 - val_loss: 0.4333 - val_accuracy: 0.8137\n",
            "Epoch 15/50\n",
            "4507/4507 [==============================] - 0s 36us/sample - loss: 0.4613 - accuracy: 0.7943 - val_loss: 0.4302 - val_accuracy: 0.8163\n",
            "Epoch 16/50\n",
            "4507/4507 [==============================] - 0s 38us/sample - loss: 0.4566 - accuracy: 0.8010 - val_loss: 0.4320 - val_accuracy: 0.8163\n",
            "Epoch 17/50\n",
            "4507/4507 [==============================] - 0s 40us/sample - loss: 0.4588 - accuracy: 0.8003 - val_loss: 0.4264 - val_accuracy: 0.8146\n",
            "Epoch 18/50\n",
            "4507/4507 [==============================] - 0s 47us/sample - loss: 0.4557 - accuracy: 0.7963 - val_loss: 0.4274 - val_accuracy: 0.8154\n",
            "Epoch 19/50\n",
            "4507/4507 [==============================] - 0s 40us/sample - loss: 0.4573 - accuracy: 0.7963 - val_loss: 0.4272 - val_accuracy: 0.8083\n",
            "Epoch 20/50\n",
            "4507/4507 [==============================] - 0s 40us/sample - loss: 0.4536 - accuracy: 0.8016 - val_loss: 0.4255 - val_accuracy: 0.8146\n",
            "Epoch 21/50\n",
            "4507/4507 [==============================] - 0s 46us/sample - loss: 0.4470 - accuracy: 0.7990 - val_loss: 0.4224 - val_accuracy: 0.8146\n",
            "Epoch 22/50\n",
            "4507/4507 [==============================] - 0s 41us/sample - loss: 0.4531 - accuracy: 0.8001 - val_loss: 0.4257 - val_accuracy: 0.8181\n",
            "Epoch 23/50\n",
            "4507/4507 [==============================] - 0s 41us/sample - loss: 0.4419 - accuracy: 0.7994 - val_loss: 0.4230 - val_accuracy: 0.8146\n",
            "Epoch 24/50\n",
            "4507/4507 [==============================] - 0s 45us/sample - loss: 0.4473 - accuracy: 0.7961 - val_loss: 0.4208 - val_accuracy: 0.8181\n",
            "Epoch 25/50\n",
            "4507/4507 [==============================] - 0s 49us/sample - loss: 0.4424 - accuracy: 0.8036 - val_loss: 0.4184 - val_accuracy: 0.8154\n",
            "Epoch 26/50\n",
            "4507/4507 [==============================] - 0s 45us/sample - loss: 0.4431 - accuracy: 0.8050 - val_loss: 0.4240 - val_accuracy: 0.8137\n",
            "Epoch 27/50\n",
            "4507/4507 [==============================] - 0s 39us/sample - loss: 0.4486 - accuracy: 0.7928 - val_loss: 0.4219 - val_accuracy: 0.8154\n",
            "Epoch 28/50\n",
            "4507/4507 [==============================] - 0s 40us/sample - loss: 0.4346 - accuracy: 0.8041 - val_loss: 0.4198 - val_accuracy: 0.8146\n",
            "Epoch 29/50\n",
            "4507/4507 [==============================] - 0s 36us/sample - loss: 0.4406 - accuracy: 0.7979 - val_loss: 0.4207 - val_accuracy: 0.8181\n",
            "Epoch 30/50\n",
            "4507/4507 [==============================] - 0s 42us/sample - loss: 0.4448 - accuracy: 0.8008 - val_loss: 0.4180 - val_accuracy: 0.8163\n",
            "Epoch 00030: early stopping\n"
          ]
        },
        {
          "data": {
            "text/plain": [
              "<tensorflow.python.keras.callbacks.History at 0x7f2b08248850>"
            ]
          },
          "execution_count": 81,
          "metadata": {},
          "output_type": "execute_result"
        }
      ],
      "source": [
        "model.fit(X_train, y_train,\n",
        "              epochs=50,\n",
        "          batch_size=64,validation_split=0.2,callbacks=callbacks)"
      ]
    },
    {
      "cell_type": "code",
      "execution_count": null,
      "metadata": {
        "id": "KmrK51HHmFvI"
      },
      "outputs": [],
      "source": [
        "train_pred_5=model.predict_classes(X_train)\n",
        "test_pred_5=model.predict_classes(X_test)"
      ]
    },
    {
      "cell_type": "code",
      "execution_count": null,
      "metadata": {
        "id": "Q4j-xBtSmFvI",
        "outputId": "910a651b-edd2-4603-c1e1-66a99a03c1e7"
      },
      "outputs": [
        {
          "name": "stdout",
          "output_type": "stream",
          "text": [
            "\n",
            "             ========================================\n",
            "               CLASSIFICATION REPORT FOR TRAIN DATA\n",
            "             ========================================\n",
            "        \n",
            "              precision    recall  f1-score   support\n",
            "\n",
            "           0     0.8359    0.9229    0.8773      4139\n",
            "           1     0.7002    0.4983    0.5823      1495\n",
            "\n",
            "    accuracy                         0.8103      5634\n",
            "   macro avg     0.7680    0.7106    0.7298      5634\n",
            "weighted avg     0.7999    0.8103    0.7990      5634\n",
            "\n",
            "\n",
            "             =========================================\n",
            "               CLASSIFICATION REPORT FOR TEST DATA\n",
            "             =========================================\n",
            "            \n",
            "              precision    recall  f1-score   support\n",
            "\n",
            "           0     0.8293    0.9198    0.8722      1035\n",
            "           1     0.6820    0.4759    0.5606       374\n",
            "\n",
            "    accuracy                         0.8020      1409\n",
            "   macro avg     0.7556    0.6979    0.7164      1409\n",
            "weighted avg     0.7902    0.8020    0.7895      1409\n",
            "\n",
            "\n",
            " ========================================\n",
            "   Confusion Matrix FOR TRAIN DATA\n",
            " ========================================\n",
            "            \n",
            "[[3820  319]\n",
            " [ 750  745]]\n",
            "\n",
            " =========================================\n",
            "   Confusion matrix FOR TEST DATA\n",
            " =========================================\n",
            "            \n",
            "[[952  83]\n",
            " [196 178]]\n"
          ]
        }
      ],
      "source": [
        "get_CR_CM(y_train, train_pred_5, y_test, test_pred_5)"
      ]
    },
    {
      "cell_type": "code",
      "execution_count": null,
      "metadata": {
        "scrolled": false,
        "id": "k13o3a97mFvI",
        "outputId": "5534398d-1d4c-4feb-a964-bd4b2084c26c"
      },
      "outputs": [
        {
          "name": "stdout",
          "output_type": "stream",
          "text": [
            "\n",
            " ========================================\n",
            "           ACCURACY FOR TRAIN DATA\n",
            " ========================================\n",
            "        \n",
            "          0.8102591409300675\n",
            "\n",
            " =========================================\n",
            "           ACCURACY FOR TEST DATA\n",
            " =========================================\n",
            "            \n",
            "          0.8019872249822569\n",
            "\n",
            " ========================================\n",
            "           RECALL FOR TRAIN DATA\n",
            " ========================================\n",
            "            \n",
            "          0.4983277591973244\n",
            "\n",
            " =========================================\n",
            "           RECALL FOR TEST DATA\n",
            " =========================================\n",
            "            \n",
            "          0.47593582887700536\n"
          ]
        }
      ],
      "source": [
        "get_ACCURACY_RECALL(y_train, train_pred_5, y_test, test_pred_5)"
      ]
    },
    {
      "cell_type": "code",
      "execution_count": null,
      "metadata": {
        "id": "n2ASFJDlmFvJ",
        "outputId": "7461921c-0aea-467d-92b5-03f994501764"
      },
      "outputs": [
        {
          "data": {
            "text/html": [
              "<div>\n",
              "<style scoped>\n",
              "    .dataframe tbody tr th:only-of-type {\n",
              "        vertical-align: middle;\n",
              "    }\n",
              "\n",
              "    .dataframe tbody tr th {\n",
              "        vertical-align: top;\n",
              "    }\n",
              "\n",
              "    .dataframe thead th {\n",
              "        text-align: right;\n",
              "    }\n",
              "</style>\n",
              "<table border=\"1\" class=\"dataframe\">\n",
              "  <thead>\n",
              "    <tr style=\"text-align: right;\">\n",
              "      <th></th>\n",
              "      <th>Model</th>\n",
              "      <th>Train_Accuracy</th>\n",
              "      <th>Train_Recall</th>\n",
              "      <th>Train_Precision</th>\n",
              "      <th>Train_F1_Score</th>\n",
              "      <th>Test_Accuracy</th>\n",
              "      <th>Test_Recall</th>\n",
              "      <th>Test_Precision</th>\n",
              "      <th>Test_F1_Score</th>\n",
              "    </tr>\n",
              "  </thead>\n",
              "  <tbody>\n",
              "    <tr>\n",
              "      <th>0</th>\n",
              "      <td>1 layer model</td>\n",
              "      <td>0.807952</td>\n",
              "      <td>0.527759</td>\n",
              "      <td>0.677253</td>\n",
              "      <td>0.593233</td>\n",
              "      <td>0.808375</td>\n",
              "      <td>0.532086</td>\n",
              "      <td>0.676871</td>\n",
              "      <td>0.595808</td>\n",
              "    </tr>\n",
              "    <tr>\n",
              "      <th>1</th>\n",
              "      <td>2 layer model - experiment 1</td>\n",
              "      <td>0.800319</td>\n",
              "      <td>0.587960</td>\n",
              "      <td>0.633285</td>\n",
              "      <td>0.609781</td>\n",
              "      <td>0.802697</td>\n",
              "      <td>0.601604</td>\n",
              "      <td>0.635593</td>\n",
              "      <td>0.618132</td>\n",
              "    </tr>\n",
              "    <tr>\n",
              "      <th>2</th>\n",
              "      <td>2 layer model - experiment 2</td>\n",
              "      <td>0.817536</td>\n",
              "      <td>0.523077</td>\n",
              "      <td>0.712853</td>\n",
              "      <td>0.603395</td>\n",
              "      <td>0.796309</td>\n",
              "      <td>0.483957</td>\n",
              "      <td>0.658182</td>\n",
              "      <td>0.557781</td>\n",
              "    </tr>\n",
              "    <tr>\n",
              "      <th>3</th>\n",
              "      <td>2 layer model with dropout</td>\n",
              "      <td>0.809017</td>\n",
              "      <td>0.547826</td>\n",
              "      <td>0.671862</td>\n",
              "      <td>0.603537</td>\n",
              "      <td>0.793471</td>\n",
              "      <td>0.508021</td>\n",
              "      <td>0.639731</td>\n",
              "      <td>0.566319</td>\n",
              "    </tr>\n",
              "    <tr>\n",
              "      <th>4</th>\n",
              "      <td>2 layer model with dropout with L2 regularizer</td>\n",
              "      <td>0.810259</td>\n",
              "      <td>0.498328</td>\n",
              "      <td>0.700188</td>\n",
              "      <td>0.582259</td>\n",
              "      <td>0.801987</td>\n",
              "      <td>0.475936</td>\n",
              "      <td>0.681992</td>\n",
              "      <td>0.560630</td>\n",
              "    </tr>\n",
              "  </tbody>\n",
              "</table>\n",
              "</div>"
            ],
            "text/plain": [
              "                                            Model  Train_Accuracy  \\\n",
              "0                                   1 layer model        0.807952   \n",
              "1                    2 layer model - experiment 1        0.800319   \n",
              "2                    2 layer model - experiment 2        0.817536   \n",
              "3                      2 layer model with dropout        0.809017   \n",
              "4  2 layer model with dropout with L2 regularizer        0.810259   \n",
              "\n",
              "   Train_Recall  Train_Precision  Train_F1_Score  Test_Accuracy  Test_Recall  \\\n",
              "0      0.527759         0.677253        0.593233       0.808375     0.532086   \n",
              "1      0.587960         0.633285        0.609781       0.802697     0.601604   \n",
              "2      0.523077         0.712853        0.603395       0.796309     0.483957   \n",
              "3      0.547826         0.671862        0.603537       0.793471     0.508021   \n",
              "4      0.498328         0.700188        0.582259       0.801987     0.475936   \n",
              "\n",
              "   Test_Precision  Test_F1_Score  \n",
              "0        0.676871       0.595808  \n",
              "1        0.635593       0.618132  \n",
              "2        0.658182       0.557781  \n",
              "3        0.639731       0.566319  \n",
              "4        0.681992       0.560630  "
            ]
          },
          "execution_count": 85,
          "metadata": {},
          "output_type": "execute_result"
        }
      ],
      "source": [
        "scores = get_metrics(y_train,train_pred_5,y_test,test_pred_5,\"2 layer model with dropout with L2 regularizer\",scores)\n",
        "scores"
      ]
    },
    {
      "cell_type": "markdown",
      "metadata": {
        "id": "SUe5iwxWmFvJ"
      },
      "source": [
        "# Model 5 (2 hidden layers with l2 regularizer and class_weight)"
      ]
    },
    {
      "cell_type": "code",
      "execution_count": null,
      "metadata": {
        "id": "crM1hSp7mFvJ"
      },
      "outputs": [],
      "source": [
        "np.random.seed(seed)\n",
        "tf.random.set_seed(seed)"
      ]
    },
    {
      "cell_type": "code",
      "execution_count": null,
      "metadata": {
        "id": "nrzBNLEZmFvJ"
      },
      "outputs": [],
      "source": [
        "model = Sequential()\n",
        "model.add(Dense(128, input_dim=input_shape, kernel_initializer='glorot_normal', activation='relu',kernel_regularizer=l2(1e-03)))\n",
        "model.add(Dropout(0.5))\n",
        "model.add(Dense(64, kernel_initializer='glorot_normal', activation='relu',kernel_regularizer=l2(1e-03)))\n",
        "model.add(Dropout(0.5))\n",
        "model.add(Dense(1, activation='sigmoid',kernel_initializer='glorot_normal'))"
      ]
    },
    {
      "cell_type": "code",
      "execution_count": null,
      "metadata": {
        "id": "Z48Lrk49mFvJ",
        "outputId": "dfea1c0e-8fba-433d-955a-553ddce7b8eb"
      },
      "outputs": [
        {
          "name": "stdout",
          "output_type": "stream",
          "text": [
            "Model: \"sequential_5\"\n",
            "_________________________________________________________________\n",
            "Layer (type)                 Output Shape              Param #   \n",
            "=================================================================\n",
            "dense_14 (Dense)             (None, 128)               5120      \n",
            "_________________________________________________________________\n",
            "dropout_4 (Dropout)          (None, 128)               0         \n",
            "_________________________________________________________________\n",
            "dense_15 (Dense)             (None, 64)                8256      \n",
            "_________________________________________________________________\n",
            "dropout_5 (Dropout)          (None, 64)                0         \n",
            "_________________________________________________________________\n",
            "dense_16 (Dense)             (None, 1)                 65        \n",
            "=================================================================\n",
            "Total params: 13,441\n",
            "Trainable params: 13,441\n",
            "Non-trainable params: 0\n",
            "_________________________________________________________________\n"
          ]
        }
      ],
      "source": [
        "model.summary()"
      ]
    },
    {
      "cell_type": "code",
      "execution_count": null,
      "metadata": {
        "id": "h9qAqylYmFvJ"
      },
      "outputs": [],
      "source": [
        "model.compile(loss='binary_crossentropy',\n",
        "              optimizer='adam',\n",
        "              metrics=['accuracy'])"
      ]
    },
    {
      "cell_type": "code",
      "execution_count": null,
      "metadata": {
        "id": "9OuYyMZYmFvJ",
        "outputId": "60ffec7b-c210-44f7-ba10-c43d974ded3c"
      },
      "outputs": [
        {
          "name": "stdout",
          "output_type": "stream",
          "text": [
            "WARNING:tensorflow:sample_weight modes were coerced from\n",
            "  ...\n",
            "    to  \n",
            "  ['...']\n",
            "WARNING:tensorflow:sample_weight modes were coerced from\n",
            "  ...\n",
            "    to  \n",
            "  ['...']\n",
            "Train on 4507 samples, validate on 1127 samples\n",
            "Epoch 1/50\n",
            "4507/4507 [==============================] - 1s 245us/sample - loss: 0.3589 - accuracy: 0.6414 - val_loss: 0.2993 - val_accuracy: 0.7649\n",
            "Epoch 2/50\n",
            "4507/4507 [==============================] - 0s 55us/sample - loss: 0.3076 - accuracy: 0.7096 - val_loss: 0.2750 - val_accuracy: 0.7303\n",
            "Epoch 3/50\n",
            "4507/4507 [==============================] - 0s 66us/sample - loss: 0.2823 - accuracy: 0.7249 - val_loss: 0.2600 - val_accuracy: 0.7063\n",
            "Epoch 4/50\n",
            "4507/4507 [==============================] - 0s 59us/sample - loss: 0.2652 - accuracy: 0.7218 - val_loss: 0.2460 - val_accuracy: 0.7223\n",
            "Epoch 5/50\n",
            "4507/4507 [==============================] - 0s 51us/sample - loss: 0.2527 - accuracy: 0.7264 - val_loss: 0.2379 - val_accuracy: 0.7063\n",
            "Epoch 6/50\n",
            "4507/4507 [==============================] - 0s 45us/sample - loss: 0.2426 - accuracy: 0.7247 - val_loss: 0.2280 - val_accuracy: 0.7267\n",
            "Epoch 7/50\n",
            "4507/4507 [==============================] - 0s 53us/sample - loss: 0.2381 - accuracy: 0.7244 - val_loss: 0.2221 - val_accuracy: 0.7453\n",
            "Epoch 8/50\n",
            "4507/4507 [==============================] - 0s 52us/sample - loss: 0.2284 - accuracy: 0.7224 - val_loss: 0.2171 - val_accuracy: 0.7400\n",
            "Epoch 9/50\n",
            "4507/4507 [==============================] - 0s 66us/sample - loss: 0.2257 - accuracy: 0.7302 - val_loss: 0.2134 - val_accuracy: 0.7303\n",
            "Epoch 10/50\n",
            "4507/4507 [==============================] - 0s 51us/sample - loss: 0.2198 - accuracy: 0.7302 - val_loss: 0.2084 - val_accuracy: 0.7498\n",
            "Epoch 11/50\n",
            "4507/4507 [==============================] - 0s 46us/sample - loss: 0.2183 - accuracy: 0.7362 - val_loss: 0.2078 - val_accuracy: 0.7187\n",
            "Epoch 12/50\n",
            "4507/4507 [==============================] - 0s 46us/sample - loss: 0.2138 - accuracy: 0.7320 - val_loss: 0.2041 - val_accuracy: 0.7249\n",
            "Epoch 13/50\n",
            "4507/4507 [==============================] - 0s 59us/sample - loss: 0.2117 - accuracy: 0.7315 - val_loss: 0.2008 - val_accuracy: 0.7507\n",
            "Epoch 14/50\n",
            "4507/4507 [==============================] - 0s 56us/sample - loss: 0.2080 - accuracy: 0.7286 - val_loss: 0.2029 - val_accuracy: 0.7045\n",
            "Epoch 15/50\n",
            "4507/4507 [==============================] - 0s 47us/sample - loss: 0.2070 - accuracy: 0.7293 - val_loss: 0.2006 - val_accuracy: 0.7036\n",
            "Epoch 16/50\n",
            "4507/4507 [==============================] - 0s 49us/sample - loss: 0.2045 - accuracy: 0.7362 - val_loss: 0.2055 - val_accuracy: 0.6823\n",
            "Epoch 17/50\n",
            "4507/4507 [==============================] - 0s 46us/sample - loss: 0.2037 - accuracy: 0.7369 - val_loss: 0.1952 - val_accuracy: 0.7587\n",
            "Epoch 18/50\n",
            "4507/4507 [==============================] - 0s 45us/sample - loss: 0.2046 - accuracy: 0.7309 - val_loss: 0.1954 - val_accuracy: 0.7471\n",
            "Epoch 19/50\n",
            "4507/4507 [==============================] - 0s 47us/sample - loss: 0.2034 - accuracy: 0.7331 - val_loss: 0.1938 - val_accuracy: 0.7720\n",
            "Epoch 20/50\n",
            "4507/4507 [==============================] - 0s 43us/sample - loss: 0.2023 - accuracy: 0.7331 - val_loss: 0.1937 - val_accuracy: 0.7445\n",
            "Epoch 21/50\n",
            "4507/4507 [==============================] - 0s 39us/sample - loss: 0.2021 - accuracy: 0.7295 - val_loss: 0.1943 - val_accuracy: 0.7232\n",
            "Epoch 22/50\n",
            "4507/4507 [==============================] - 0s 37us/sample - loss: 0.2026 - accuracy: 0.7362 - val_loss: 0.1953 - val_accuracy: 0.7072\n",
            "Epoch 23/50\n",
            "4507/4507 [==============================] - 0s 55us/sample - loss: 0.2000 - accuracy: 0.7377 - val_loss: 0.1923 - val_accuracy: 0.7498\n",
            "Epoch 24/50\n",
            "4507/4507 [==============================] - 0s 53us/sample - loss: 0.1982 - accuracy: 0.7362 - val_loss: 0.1919 - val_accuracy: 0.7391\n",
            "Epoch 25/50\n",
            "4507/4507 [==============================] - 0s 46us/sample - loss: 0.1994 - accuracy: 0.7273 - val_loss: 0.1909 - val_accuracy: 0.7560\n",
            "Epoch 26/50\n",
            "4507/4507 [==============================] - 0s 43us/sample - loss: 0.1986 - accuracy: 0.7331 - val_loss: 0.1932 - val_accuracy: 0.7143\n",
            "Epoch 27/50\n",
            "4507/4507 [==============================] - 0s 48us/sample - loss: 0.1993 - accuracy: 0.7315 - val_loss: 0.1952 - val_accuracy: 0.7036\n",
            "Epoch 28/50\n",
            "4507/4507 [==============================] - 0s 52us/sample - loss: 0.1977 - accuracy: 0.7300 - val_loss: 0.1949 - val_accuracy: 0.6806\n",
            "Epoch 29/50\n",
            "4507/4507 [==============================] - 0s 45us/sample - loss: 0.1975 - accuracy: 0.7298 - val_loss: 0.1945 - val_accuracy: 0.7178\n",
            "Epoch 30/50\n",
            "4507/4507 [==============================] - 0s 43us/sample - loss: 0.1981 - accuracy: 0.7340 - val_loss: 0.1918 - val_accuracy: 0.7178\n",
            "Epoch 00030: early stopping\n"
          ]
        },
        {
          "data": {
            "text/plain": [
              "<tensorflow.python.keras.callbacks.History at 0x7f2ae8fa17d0>"
            ]
          },
          "execution_count": 90,
          "metadata": {},
          "output_type": "execute_result"
        }
      ],
      "source": [
        "model.fit(X_train, y_train,\n",
        "              epochs=50,\n",
        "          batch_size=64, class_weight={0:0.25, 1:0.75},validation_split=0.2, callbacks=callbacks)"
      ]
    },
    {
      "cell_type": "code",
      "execution_count": null,
      "metadata": {
        "id": "_rT0Ohd5mFvK"
      },
      "outputs": [],
      "source": [
        "train_pred_4=model.predict_classes(X_train)\n",
        "test_pred_4=model.predict_classes(X_test)"
      ]
    },
    {
      "cell_type": "code",
      "execution_count": null,
      "metadata": {
        "id": "MdWQbxATmFvK",
        "outputId": "bc43dd42-c5a1-4595-f5e1-3417684819af"
      },
      "outputs": [
        {
          "name": "stdout",
          "output_type": "stream",
          "text": [
            "\n",
            "             ========================================\n",
            "               CLASSIFICATION REPORT FOR TRAIN DATA\n",
            "             ========================================\n",
            "        \n",
            "              precision    recall  f1-score   support\n",
            "\n",
            "           0     0.9271    0.6878    0.7897      4139\n",
            "           1     0.4959    0.8502    0.6264      1495\n",
            "\n",
            "    accuracy                         0.7309      5634\n",
            "   macro avg     0.7115    0.7690    0.7081      5634\n",
            "weighted avg     0.8127    0.7309    0.7464      5634\n",
            "\n",
            "\n",
            "             =========================================\n",
            "               CLASSIFICATION REPORT FOR TEST DATA\n",
            "             =========================================\n",
            "            \n",
            "              precision    recall  f1-score   support\n",
            "\n",
            "           0     0.9216    0.6928    0.7910      1035\n",
            "           1     0.4960    0.8369    0.6229       374\n",
            "\n",
            "    accuracy                         0.7310      1409\n",
            "   macro avg     0.7088    0.7648    0.7069      1409\n",
            "weighted avg     0.8086    0.7310    0.7463      1409\n",
            "\n",
            "\n",
            " ========================================\n",
            "   Confusion Matrix FOR TRAIN DATA\n",
            " ========================================\n",
            "            \n",
            "[[2847 1292]\n",
            " [ 224 1271]]\n",
            "\n",
            " =========================================\n",
            "   Confusion matrix FOR TEST DATA\n",
            " =========================================\n",
            "            \n",
            "[[717 318]\n",
            " [ 61 313]]\n"
          ]
        }
      ],
      "source": [
        "get_CR_CM(y_train, train_pred_4, y_test, test_pred_4)"
      ]
    },
    {
      "cell_type": "code",
      "execution_count": null,
      "metadata": {
        "scrolled": false,
        "id": "rkacqvHSmFvK",
        "outputId": "41b8f6a1-1d2d-4e10-8ac8-e4d9589a8a2a"
      },
      "outputs": [
        {
          "name": "stdout",
          "output_type": "stream",
          "text": [
            "\n",
            " ========================================\n",
            "           ACCURACY FOR TRAIN DATA\n",
            " ========================================\n",
            "        \n",
            "          0.7309194178203763\n",
            "\n",
            " =========================================\n",
            "           ACCURACY FOR TEST DATA\n",
            " =========================================\n",
            "            \n",
            "          0.7310149041873669\n",
            "\n",
            " ========================================\n",
            "           RECALL FOR TRAIN DATA\n",
            " ========================================\n",
            "            \n",
            "          0.8501672240802676\n",
            "\n",
            " =========================================\n",
            "           RECALL FOR TEST DATA\n",
            " =========================================\n",
            "            \n",
            "          0.8368983957219251\n"
          ]
        }
      ],
      "source": [
        "get_ACCURACY_RECALL(y_train, train_pred_4, y_test, test_pred_4)"
      ]
    },
    {
      "cell_type": "code",
      "execution_count": null,
      "metadata": {
        "id": "NxqKG9A1mFvK",
        "outputId": "66db902d-5a9b-4b13-99b6-0aebc8e2bf09"
      },
      "outputs": [
        {
          "data": {
            "text/html": [
              "<div>\n",
              "<style scoped>\n",
              "    .dataframe tbody tr th:only-of-type {\n",
              "        vertical-align: middle;\n",
              "    }\n",
              "\n",
              "    .dataframe tbody tr th {\n",
              "        vertical-align: top;\n",
              "    }\n",
              "\n",
              "    .dataframe thead th {\n",
              "        text-align: right;\n",
              "    }\n",
              "</style>\n",
              "<table border=\"1\" class=\"dataframe\">\n",
              "  <thead>\n",
              "    <tr style=\"text-align: right;\">\n",
              "      <th></th>\n",
              "      <th>Model</th>\n",
              "      <th>Train_Accuracy</th>\n",
              "      <th>Train_Recall</th>\n",
              "      <th>Train_Precision</th>\n",
              "      <th>Train_F1_Score</th>\n",
              "      <th>Test_Accuracy</th>\n",
              "      <th>Test_Recall</th>\n",
              "      <th>Test_Precision</th>\n",
              "      <th>Test_F1_Score</th>\n",
              "    </tr>\n",
              "  </thead>\n",
              "  <tbody>\n",
              "    <tr>\n",
              "      <th>0</th>\n",
              "      <td>1 layer model</td>\n",
              "      <td>0.807952</td>\n",
              "      <td>0.527759</td>\n",
              "      <td>0.677253</td>\n",
              "      <td>0.593233</td>\n",
              "      <td>0.808375</td>\n",
              "      <td>0.532086</td>\n",
              "      <td>0.676871</td>\n",
              "      <td>0.595808</td>\n",
              "    </tr>\n",
              "    <tr>\n",
              "      <th>1</th>\n",
              "      <td>2 layer model - experiment 1</td>\n",
              "      <td>0.800319</td>\n",
              "      <td>0.587960</td>\n",
              "      <td>0.633285</td>\n",
              "      <td>0.609781</td>\n",
              "      <td>0.802697</td>\n",
              "      <td>0.601604</td>\n",
              "      <td>0.635593</td>\n",
              "      <td>0.618132</td>\n",
              "    </tr>\n",
              "    <tr>\n",
              "      <th>2</th>\n",
              "      <td>2 layer model - experiment 2</td>\n",
              "      <td>0.817536</td>\n",
              "      <td>0.523077</td>\n",
              "      <td>0.712853</td>\n",
              "      <td>0.603395</td>\n",
              "      <td>0.796309</td>\n",
              "      <td>0.483957</td>\n",
              "      <td>0.658182</td>\n",
              "      <td>0.557781</td>\n",
              "    </tr>\n",
              "    <tr>\n",
              "      <th>3</th>\n",
              "      <td>2 layer model with dropout</td>\n",
              "      <td>0.809017</td>\n",
              "      <td>0.547826</td>\n",
              "      <td>0.671862</td>\n",
              "      <td>0.603537</td>\n",
              "      <td>0.793471</td>\n",
              "      <td>0.508021</td>\n",
              "      <td>0.639731</td>\n",
              "      <td>0.566319</td>\n",
              "    </tr>\n",
              "    <tr>\n",
              "      <th>4</th>\n",
              "      <td>2 layer model with dropout with L2 regularizer</td>\n",
              "      <td>0.810259</td>\n",
              "      <td>0.498328</td>\n",
              "      <td>0.700188</td>\n",
              "      <td>0.582259</td>\n",
              "      <td>0.801987</td>\n",
              "      <td>0.475936</td>\n",
              "      <td>0.681992</td>\n",
              "      <td>0.560630</td>\n",
              "    </tr>\n",
              "    <tr>\n",
              "      <th>5</th>\n",
              "      <td>2 layer model with dropout and class weight</td>\n",
              "      <td>0.730919</td>\n",
              "      <td>0.850167</td>\n",
              "      <td>0.495903</td>\n",
              "      <td>0.626417</td>\n",
              "      <td>0.731015</td>\n",
              "      <td>0.836898</td>\n",
              "      <td>0.496038</td>\n",
              "      <td>0.622886</td>\n",
              "    </tr>\n",
              "  </tbody>\n",
              "</table>\n",
              "</div>"
            ],
            "text/plain": [
              "                                            Model  Train_Accuracy  \\\n",
              "0                                   1 layer model        0.807952   \n",
              "1                    2 layer model - experiment 1        0.800319   \n",
              "2                    2 layer model - experiment 2        0.817536   \n",
              "3                      2 layer model with dropout        0.809017   \n",
              "4  2 layer model with dropout with L2 regularizer        0.810259   \n",
              "5     2 layer model with dropout and class weight        0.730919   \n",
              "\n",
              "   Train_Recall  Train_Precision  Train_F1_Score  Test_Accuracy  Test_Recall  \\\n",
              "0      0.527759         0.677253        0.593233       0.808375     0.532086   \n",
              "1      0.587960         0.633285        0.609781       0.802697     0.601604   \n",
              "2      0.523077         0.712853        0.603395       0.796309     0.483957   \n",
              "3      0.547826         0.671862        0.603537       0.793471     0.508021   \n",
              "4      0.498328         0.700188        0.582259       0.801987     0.475936   \n",
              "5      0.850167         0.495903        0.626417       0.731015     0.836898   \n",
              "\n",
              "   Test_Precision  Test_F1_Score  \n",
              "0        0.676871       0.595808  \n",
              "1        0.635593       0.618132  \n",
              "2        0.658182       0.557781  \n",
              "3        0.639731       0.566319  \n",
              "4        0.681992       0.560630  \n",
              "5        0.496038       0.622886  "
            ]
          },
          "execution_count": 94,
          "metadata": {},
          "output_type": "execute_result"
        }
      ],
      "source": [
        "scores = get_metrics(y_train,train_pred_4,y_test,test_pred_4,\"2 layer model with dropout and class weight\",scores)\n",
        "scores"
      ]
    },
    {
      "cell_type": "markdown",
      "metadata": {
        "id": "h7TEW2S8mFvK"
      },
      "source": [
        "# Model 6 (2 hidden layers with l1 regularizer)"
      ]
    },
    {
      "cell_type": "code",
      "execution_count": null,
      "metadata": {
        "id": "Y3IMyKzPmFvK"
      },
      "outputs": [],
      "source": [
        "np.random.seed(seed)\n",
        "tf.random.set_seed(seed)"
      ]
    },
    {
      "cell_type": "code",
      "execution_count": null,
      "metadata": {
        "id": "2vrNzBjKmFvK"
      },
      "outputs": [],
      "source": [
        "model = Sequential()\n",
        "model.add(Dense(128, input_dim=input_shape, kernel_initializer='glorot_normal', activation='relu',kernel_regularizer=l1(0.01)))\n",
        "model.add(Dropout(0.5))\n",
        "model.add(Dense(64, kernel_initializer='glorot_normal', activation='relu'))\n",
        "model.add(Dropout(0.5))\n",
        "model.add(Dense(1, activation='sigmoid',kernel_initializer='glorot_normal'))\n"
      ]
    },
    {
      "cell_type": "code",
      "execution_count": null,
      "metadata": {
        "id": "76leb-t4mFvL"
      },
      "outputs": [],
      "source": [
        "model.compile(loss='binary_crossentropy',\n",
        "              optimizer='adam',\n",
        "              metrics=['accuracy'])"
      ]
    },
    {
      "cell_type": "code",
      "execution_count": null,
      "metadata": {
        "id": "oBHuJvyAmFvL"
      },
      "outputs": [],
      "source": [
        "warnings.filterwarnings(\"ignore\")"
      ]
    },
    {
      "cell_type": "code",
      "execution_count": null,
      "metadata": {
        "id": "6ziC0ZtvmFvL",
        "outputId": "377b84e0-bae0-4c3b-9969-4c3abf1cf781"
      },
      "outputs": [
        {
          "name": "stdout",
          "output_type": "stream",
          "text": [
            "WARNING:tensorflow:sample_weight modes were coerced from\n",
            "  ...\n",
            "    to  \n",
            "  ['...']\n",
            "WARNING:tensorflow:sample_weight modes were coerced from\n",
            "  ...\n",
            "    to  \n",
            "  ['...']\n",
            "Train on 4507 samples, validate on 1127 samples\n",
            "Epoch 1/50\n",
            "4507/4507 [==============================] - 1s 268us/sample - loss: 3.3004 - accuracy: 0.5982 - val_loss: 2.0575 - val_accuracy: 0.7196\n",
            "Epoch 2/50\n",
            "4507/4507 [==============================] - 0s 47us/sample - loss: 1.3462 - accuracy: 0.6900 - val_loss: 0.7629 - val_accuracy: 0.7098\n",
            "Epoch 3/50\n",
            "4507/4507 [==============================] - 0s 42us/sample - loss: 0.5067 - accuracy: 0.7058 - val_loss: 0.3112 - val_accuracy: 0.7773\n",
            "Epoch 4/50\n",
            "4507/4507 [==============================] - 0s 45us/sample - loss: 0.2745 - accuracy: 0.7113 - val_loss: 0.2469 - val_accuracy: 0.6433\n",
            "Epoch 5/50\n",
            "4507/4507 [==============================] - 0s 47us/sample - loss: 0.2514 - accuracy: 0.6985 - val_loss: 0.2391 - val_accuracy: 0.6575\n",
            "Epoch 6/50\n",
            "4507/4507 [==============================] - 0s 51us/sample - loss: 0.2502 - accuracy: 0.6940 - val_loss: 0.2313 - val_accuracy: 0.7249\n",
            "Epoch 7/50\n",
            "4507/4507 [==============================] - 0s 49us/sample - loss: 0.2488 - accuracy: 0.7005 - val_loss: 0.2374 - val_accuracy: 0.6806\n",
            "Epoch 8/50\n",
            "4507/4507 [==============================] - 0s 48us/sample - loss: 0.2479 - accuracy: 0.7025 - val_loss: 0.2345 - val_accuracy: 0.6797\n",
            "Epoch 9/50\n",
            "4507/4507 [==============================] - 0s 46us/sample - loss: 0.2448 - accuracy: 0.6994 - val_loss: 0.2350 - val_accuracy: 0.6744\n",
            "Epoch 10/50\n",
            "4507/4507 [==============================] - 0s 46us/sample - loss: 0.2432 - accuracy: 0.6929 - val_loss: 0.2291 - val_accuracy: 0.7746\n",
            "Epoch 11/50\n",
            "4507/4507 [==============================] - 0s 49us/sample - loss: 0.2466 - accuracy: 0.6965 - val_loss: 0.2335 - val_accuracy: 0.6415\n",
            "Epoch 12/50\n",
            "4507/4507 [==============================] - 0s 50us/sample - loss: 0.2427 - accuracy: 0.6985 - val_loss: 0.2339 - val_accuracy: 0.6504\n",
            "Epoch 13/50\n",
            "4507/4507 [==============================] - 0s 52us/sample - loss: 0.2385 - accuracy: 0.7034 - val_loss: 0.2277 - val_accuracy: 0.6673\n",
            "Epoch 14/50\n",
            "4507/4507 [==============================] - 0s 48us/sample - loss: 0.2401 - accuracy: 0.7020 - val_loss: 0.2261 - val_accuracy: 0.7933\n",
            "Epoch 15/50\n",
            "4507/4507 [==============================] - 0s 55us/sample - loss: 0.2400 - accuracy: 0.7060 - val_loss: 0.2220 - val_accuracy: 0.7542\n",
            "Epoch 16/50\n",
            "4507/4507 [==============================] - 0s 54us/sample - loss: 0.2395 - accuracy: 0.7049 - val_loss: 0.2243 - val_accuracy: 0.7036\n",
            "Epoch 17/50\n",
            "4507/4507 [==============================] - 0s 54us/sample - loss: 0.2386 - accuracy: 0.7053 - val_loss: 0.2271 - val_accuracy: 0.6610\n",
            "Epoch 18/50\n",
            "4507/4507 [==============================] - 0s 45us/sample - loss: 0.2408 - accuracy: 0.6949 - val_loss: 0.2298 - val_accuracy: 0.6735\n",
            "Epoch 19/50\n",
            "4507/4507 [==============================] - 0s 44us/sample - loss: 0.2364 - accuracy: 0.7102 - val_loss: 0.2290 - val_accuracy: 0.6761\n",
            "Epoch 20/50\n",
            "4507/4507 [==============================] - 0s 49us/sample - loss: 0.2356 - accuracy: 0.7065 - val_loss: 0.2253 - val_accuracy: 0.6708\n",
            "Epoch 00020: early stopping\n"
          ]
        },
        {
          "data": {
            "text/plain": [
              "<tensorflow.python.keras.callbacks.History at 0x7f2ae8d48090>"
            ]
          },
          "execution_count": 99,
          "metadata": {},
          "output_type": "execute_result"
        }
      ],
      "source": [
        "model.fit(X_train, y_train,\n",
        "              epochs=50,\n",
        "          batch_size=64, class_weight={0:0.25, 1:0.75},validation_split=0.2,callbacks=callbacks)"
      ]
    },
    {
      "cell_type": "code",
      "execution_count": null,
      "metadata": {
        "id": "jAV-HfO8mFvL"
      },
      "outputs": [],
      "source": [
        "train_pred_6=model.predict_classes(X_train)\n",
        "test_pred_6=model.predict_classes(X_test)"
      ]
    },
    {
      "cell_type": "code",
      "execution_count": null,
      "metadata": {
        "id": "JApY09DZmFvL",
        "outputId": "b36f3f1a-307f-4c0c-b725-aba7e73c5a00"
      },
      "outputs": [
        {
          "name": "stdout",
          "output_type": "stream",
          "text": [
            "\n",
            "             ========================================\n",
            "               CLASSIFICATION REPORT FOR TRAIN DATA\n",
            "             ========================================\n",
            "        \n",
            "              precision    recall  f1-score   support\n",
            "\n",
            "           0     0.9360    0.6219    0.7473      4139\n",
            "           1     0.4574    0.8823    0.6024      1495\n",
            "\n",
            "    accuracy                         0.6910      5634\n",
            "   macro avg     0.6967    0.7521    0.6748      5634\n",
            "weighted avg     0.8090    0.6910    0.7088      5634\n",
            "\n",
            "\n",
            "             =========================================\n",
            "               CLASSIFICATION REPORT FOR TEST DATA\n",
            "             =========================================\n",
            "            \n",
            "              precision    recall  f1-score   support\n",
            "\n",
            "           0     0.9422    0.6145    0.7439      1035\n",
            "           1     0.4564    0.8957    0.6047       374\n",
            "\n",
            "    accuracy                         0.6891      1409\n",
            "   macro avg     0.6993    0.7551    0.6743      1409\n",
            "weighted avg     0.8133    0.6891    0.7069      1409\n",
            "\n",
            "\n",
            " ========================================\n",
            "   Confusion Matrix FOR TRAIN DATA\n",
            " ========================================\n",
            "            \n",
            "[[2574 1565]\n",
            " [ 176 1319]]\n",
            "\n",
            " =========================================\n",
            "   Confusion matrix FOR TEST DATA\n",
            " =========================================\n",
            "            \n",
            "[[636 399]\n",
            " [ 39 335]]\n"
          ]
        }
      ],
      "source": [
        "get_CR_CM(y_train, train_pred_6, y_test, test_pred_6)"
      ]
    },
    {
      "cell_type": "code",
      "execution_count": null,
      "metadata": {
        "scrolled": false,
        "id": "_ypRKydZmFvL",
        "outputId": "49c2b4ae-8b1b-4c7e-b164-802f5f25b825"
      },
      "outputs": [
        {
          "name": "stdout",
          "output_type": "stream",
          "text": [
            "\n",
            " ========================================\n",
            "           ACCURACY FOR TRAIN DATA\n",
            " ========================================\n",
            "        \n",
            "          0.6909833155839545\n",
            "\n",
            " =========================================\n",
            "           ACCURACY FOR TEST DATA\n",
            " =========================================\n",
            "            \n",
            "          0.6891412349183819\n",
            "\n",
            " ========================================\n",
            "           RECALL FOR TRAIN DATA\n",
            " ========================================\n",
            "            \n",
            "          0.8822742474916387\n",
            "\n",
            " =========================================\n",
            "           RECALL FOR TEST DATA\n",
            " =========================================\n",
            "            \n",
            "          0.8957219251336899\n"
          ]
        }
      ],
      "source": [
        "get_ACCURACY_RECALL(y_train, train_pred_6, y_test, test_pred_6)"
      ]
    },
    {
      "cell_type": "code",
      "execution_count": null,
      "metadata": {
        "id": "Qk-rGE90mFvL",
        "outputId": "558928f0-3ef9-465f-e382-c33eeed0ae3c"
      },
      "outputs": [
        {
          "data": {
            "text/html": [
              "<div>\n",
              "<style scoped>\n",
              "    .dataframe tbody tr th:only-of-type {\n",
              "        vertical-align: middle;\n",
              "    }\n",
              "\n",
              "    .dataframe tbody tr th {\n",
              "        vertical-align: top;\n",
              "    }\n",
              "\n",
              "    .dataframe thead th {\n",
              "        text-align: right;\n",
              "    }\n",
              "</style>\n",
              "<table border=\"1\" class=\"dataframe\">\n",
              "  <thead>\n",
              "    <tr style=\"text-align: right;\">\n",
              "      <th></th>\n",
              "      <th>Model</th>\n",
              "      <th>Train_Accuracy</th>\n",
              "      <th>Train_Recall</th>\n",
              "      <th>Train_Precision</th>\n",
              "      <th>Train_F1_Score</th>\n",
              "      <th>Test_Accuracy</th>\n",
              "      <th>Test_Recall</th>\n",
              "      <th>Test_Precision</th>\n",
              "      <th>Test_F1_Score</th>\n",
              "    </tr>\n",
              "  </thead>\n",
              "  <tbody>\n",
              "    <tr>\n",
              "      <th>0</th>\n",
              "      <td>1 layer model</td>\n",
              "      <td>0.807952</td>\n",
              "      <td>0.527759</td>\n",
              "      <td>0.677253</td>\n",
              "      <td>0.593233</td>\n",
              "      <td>0.808375</td>\n",
              "      <td>0.532086</td>\n",
              "      <td>0.676871</td>\n",
              "      <td>0.595808</td>\n",
              "    </tr>\n",
              "    <tr>\n",
              "      <th>1</th>\n",
              "      <td>2 layer model - experiment 1</td>\n",
              "      <td>0.800319</td>\n",
              "      <td>0.587960</td>\n",
              "      <td>0.633285</td>\n",
              "      <td>0.609781</td>\n",
              "      <td>0.802697</td>\n",
              "      <td>0.601604</td>\n",
              "      <td>0.635593</td>\n",
              "      <td>0.618132</td>\n",
              "    </tr>\n",
              "    <tr>\n",
              "      <th>2</th>\n",
              "      <td>2 layer model - experiment 2</td>\n",
              "      <td>0.817536</td>\n",
              "      <td>0.523077</td>\n",
              "      <td>0.712853</td>\n",
              "      <td>0.603395</td>\n",
              "      <td>0.796309</td>\n",
              "      <td>0.483957</td>\n",
              "      <td>0.658182</td>\n",
              "      <td>0.557781</td>\n",
              "    </tr>\n",
              "    <tr>\n",
              "      <th>3</th>\n",
              "      <td>2 layer model with dropout</td>\n",
              "      <td>0.809017</td>\n",
              "      <td>0.547826</td>\n",
              "      <td>0.671862</td>\n",
              "      <td>0.603537</td>\n",
              "      <td>0.793471</td>\n",
              "      <td>0.508021</td>\n",
              "      <td>0.639731</td>\n",
              "      <td>0.566319</td>\n",
              "    </tr>\n",
              "    <tr>\n",
              "      <th>4</th>\n",
              "      <td>2 layer model with dropout with L2 regularizer</td>\n",
              "      <td>0.810259</td>\n",
              "      <td>0.498328</td>\n",
              "      <td>0.700188</td>\n",
              "      <td>0.582259</td>\n",
              "      <td>0.801987</td>\n",
              "      <td>0.475936</td>\n",
              "      <td>0.681992</td>\n",
              "      <td>0.560630</td>\n",
              "    </tr>\n",
              "    <tr>\n",
              "      <th>5</th>\n",
              "      <td>2 layer model with dropout and class weight</td>\n",
              "      <td>0.730919</td>\n",
              "      <td>0.850167</td>\n",
              "      <td>0.495903</td>\n",
              "      <td>0.626417</td>\n",
              "      <td>0.731015</td>\n",
              "      <td>0.836898</td>\n",
              "      <td>0.496038</td>\n",
              "      <td>0.622886</td>\n",
              "    </tr>\n",
              "    <tr>\n",
              "      <th>6</th>\n",
              "      <td>2 layer model with dropout with L1 regularizer</td>\n",
              "      <td>0.690983</td>\n",
              "      <td>0.882274</td>\n",
              "      <td>0.457351</td>\n",
              "      <td>0.602421</td>\n",
              "      <td>0.689141</td>\n",
              "      <td>0.895722</td>\n",
              "      <td>0.456403</td>\n",
              "      <td>0.604693</td>\n",
              "    </tr>\n",
              "  </tbody>\n",
              "</table>\n",
              "</div>"
            ],
            "text/plain": [
              "                                            Model  Train_Accuracy  \\\n",
              "0                                   1 layer model        0.807952   \n",
              "1                    2 layer model - experiment 1        0.800319   \n",
              "2                    2 layer model - experiment 2        0.817536   \n",
              "3                      2 layer model with dropout        0.809017   \n",
              "4  2 layer model with dropout with L2 regularizer        0.810259   \n",
              "5     2 layer model with dropout and class weight        0.730919   \n",
              "6  2 layer model with dropout with L1 regularizer        0.690983   \n",
              "\n",
              "   Train_Recall  Train_Precision  Train_F1_Score  Test_Accuracy  Test_Recall  \\\n",
              "0      0.527759         0.677253        0.593233       0.808375     0.532086   \n",
              "1      0.587960         0.633285        0.609781       0.802697     0.601604   \n",
              "2      0.523077         0.712853        0.603395       0.796309     0.483957   \n",
              "3      0.547826         0.671862        0.603537       0.793471     0.508021   \n",
              "4      0.498328         0.700188        0.582259       0.801987     0.475936   \n",
              "5      0.850167         0.495903        0.626417       0.731015     0.836898   \n",
              "6      0.882274         0.457351        0.602421       0.689141     0.895722   \n",
              "\n",
              "   Test_Precision  Test_F1_Score  \n",
              "0        0.676871       0.595808  \n",
              "1        0.635593       0.618132  \n",
              "2        0.658182       0.557781  \n",
              "3        0.639731       0.566319  \n",
              "4        0.681992       0.560630  \n",
              "5        0.496038       0.622886  \n",
              "6        0.456403       0.604693  "
            ]
          },
          "execution_count": 103,
          "metadata": {},
          "output_type": "execute_result"
        }
      ],
      "source": [
        "scores = get_metrics(y_train,train_pred_6,y_test,test_pred_6,\"2 layer model with dropout with L1 regularizer\",scores)\n",
        "scores"
      ]
    },
    {
      "cell_type": "markdown",
      "metadata": {
        "id": "Y23q3G7fmFvM"
      },
      "source": [
        "# Model 7"
      ]
    },
    {
      "cell_type": "markdown",
      "metadata": {
        "id": "QFXhuZtRmFvM"
      },
      "source": [
        "## MLP using features from AutoEncoders"
      ]
    },
    {
      "cell_type": "code",
      "execution_count": null,
      "metadata": {
        "id": "LZFGvNZFmFvM"
      },
      "outputs": [],
      "source": [
        "encoding_dim  = 16 #8,12, 16, 20\n",
        "# this is our input placeholder\n",
        "input_data = Input(shape=(input_shape,))\n",
        "\n",
        "# \"encoded\" is the encoded representation of the input\n",
        "encoded = Dense(encoding_dim, activation='relu')(input_data)\n",
        "\n",
        "# \"decoded\" is the lossy reconstruction of the input\n",
        "decoded = Dense(input_shape, activation='sigmoid')(encoded)\n",
        "\n",
        "# this model maps an input to its reconstruction\n",
        "autoencoder = Model(inputs=input_data, outputs=decoded)"
      ]
    },
    {
      "cell_type": "code",
      "execution_count": null,
      "metadata": {
        "id": "BBn-GCSamFvM"
      },
      "outputs": [],
      "source": [
        "autoencoder.compile(optimizer='adam', loss='mse')"
      ]
    },
    {
      "cell_type": "code",
      "execution_count": null,
      "metadata": {
        "scrolled": true,
        "id": "ugjdOKKtmFvM",
        "outputId": "c6f764da-603a-44fa-e2fa-63188cd71d69"
      },
      "outputs": [
        {
          "name": "stdout",
          "output_type": "stream",
          "text": [
            "Train on 5634 samples, validate on 1409 samples\n",
            "Epoch 1/50\n",
            "5634/5634 [==============================] - 1s 90us/sample - loss: 0.2980 - val_loss: 0.2478\n",
            "Epoch 2/50\n",
            "5634/5634 [==============================] - 0s 39us/sample - loss: 0.2154 - val_loss: 0.1902\n",
            "Epoch 3/50\n",
            "5634/5634 [==============================] - 0s 41us/sample - loss: 0.1728 - val_loss: 0.1574\n",
            "Epoch 4/50\n",
            "5634/5634 [==============================] - 0s 31us/sample - loss: 0.1446 - val_loss: 0.1336\n",
            "Epoch 5/50\n",
            "5634/5634 [==============================] - 0s 26us/sample - loss: 0.1235 - val_loss: 0.1149\n",
            "Epoch 6/50\n",
            "5634/5634 [==============================] - 0s 40us/sample - loss: 0.1072 - val_loss: 0.1008\n",
            "Epoch 7/50\n",
            "5634/5634 [==============================] - 0s 47us/sample - loss: 0.0946 - val_loss: 0.0894\n",
            "Epoch 8/50\n",
            "5634/5634 [==============================] - 0s 46us/sample - loss: 0.0843 - val_loss: 0.0802\n",
            "Epoch 9/50\n",
            "5634/5634 [==============================] - 0s 46us/sample - loss: 0.0761 - val_loss: 0.0729\n",
            "Epoch 10/50\n",
            "5634/5634 [==============================] - 0s 49us/sample - loss: 0.0697 - val_loss: 0.0674\n",
            "Epoch 11/50\n",
            "5634/5634 [==============================] - 0s 48us/sample - loss: 0.0649 - val_loss: 0.0630\n",
            "Epoch 12/50\n",
            "5634/5634 [==============================] - 0s 48us/sample - loss: 0.0612 - val_loss: 0.0598\n",
            "Epoch 13/50\n",
            "5634/5634 [==============================] - 0s 46us/sample - loss: 0.0584 - val_loss: 0.0573\n",
            "Epoch 14/50\n",
            "5634/5634 [==============================] - 0s 44us/sample - loss: 0.0562 - val_loss: 0.0554\n",
            "Epoch 15/50\n",
            "5634/5634 [==============================] - 0s 48us/sample - loss: 0.0544 - val_loss: 0.0537\n",
            "Epoch 16/50\n",
            "5634/5634 [==============================] - 0s 48us/sample - loss: 0.0529 - val_loss: 0.0524\n",
            "Epoch 17/50\n",
            "5634/5634 [==============================] - 0s 48us/sample - loss: 0.0518 - val_loss: 0.0513\n",
            "Epoch 18/50\n",
            "5634/5634 [==============================] - 0s 51us/sample - loss: 0.0508 - val_loss: 0.0503\n",
            "Epoch 19/50\n",
            "5634/5634 [==============================] - 0s 47us/sample - loss: 0.0497 - val_loss: 0.0494\n",
            "Epoch 20/50\n",
            "5634/5634 [==============================] - 0s 50us/sample - loss: 0.0489 - val_loss: 0.0487\n",
            "Epoch 21/50\n",
            "5634/5634 [==============================] - 0s 48us/sample - loss: 0.0481 - val_loss: 0.0479\n",
            "Epoch 22/50\n",
            "5634/5634 [==============================] - 0s 50us/sample - loss: 0.0475 - val_loss: 0.0473\n",
            "Epoch 23/50\n",
            "5634/5634 [==============================] - 0s 46us/sample - loss: 0.0469 - val_loss: 0.0467\n",
            "Epoch 24/50\n",
            "5634/5634 [==============================] - 0s 50us/sample - loss: 0.0464 - val_loss: 0.0462\n",
            "Epoch 25/50\n",
            "5634/5634 [==============================] - 0s 47us/sample - loss: 0.0459 - val_loss: 0.0457\n",
            "Epoch 26/50\n",
            "5634/5634 [==============================] - 0s 51us/sample - loss: 0.0455 - val_loss: 0.0454\n",
            "Epoch 27/50\n",
            "5634/5634 [==============================] - 0s 52us/sample - loss: 0.0451 - val_loss: 0.0450\n",
            "Epoch 28/50\n",
            "5634/5634 [==============================] - 0s 52us/sample - loss: 0.0448 - val_loss: 0.0447\n",
            "Epoch 29/50\n",
            "5634/5634 [==============================] - 0s 54us/sample - loss: 0.0445 - val_loss: 0.0445\n",
            "Epoch 30/50\n",
            "5634/5634 [==============================] - 0s 52us/sample - loss: 0.0443 - val_loss: 0.0442\n",
            "Epoch 31/50\n",
            "5634/5634 [==============================] - 0s 55us/sample - loss: 0.0441 - val_loss: 0.0440\n",
            "Epoch 32/50\n",
            "5634/5634 [==============================] - 0s 56us/sample - loss: 0.0439 - val_loss: 0.0438\n",
            "Epoch 33/50\n",
            "5634/5634 [==============================] - 0s 51us/sample - loss: 0.0437 - val_loss: 0.0436\n",
            "Epoch 34/50\n",
            "5634/5634 [==============================] - 0s 52us/sample - loss: 0.0435 - val_loss: 0.0434\n",
            "Epoch 35/50\n",
            "5634/5634 [==============================] - 0s 46us/sample - loss: 0.0434 - val_loss: 0.0433\n",
            "Epoch 36/50\n",
            "5634/5634 [==============================] - 0s 42us/sample - loss: 0.0432 - val_loss: 0.0431\n",
            "Epoch 00036: early stopping\n"
          ]
        },
        {
          "data": {
            "text/plain": [
              "<tensorflow.python.keras.callbacks.History at 0x7f2b084f8f90>"
            ]
          },
          "execution_count": 106,
          "metadata": {},
          "output_type": "execute_result"
        }
      ],
      "source": [
        "autoencoder.fit(X_train, X_train,\n",
        "                epochs=50,\n",
        "                batch_size=64,\n",
        "                shuffle=True,\n",
        "                validation_data=(X_test, X_test), callbacks=callbacks)"
      ]
    },
    {
      "cell_type": "code",
      "execution_count": null,
      "metadata": {
        "id": "s3CdRKKAmFvM"
      },
      "outputs": [],
      "source": [
        "# this model maps an input to its encoded representation\n",
        "encoder = Model(inputs=input_data, outputs=encoded)"
      ]
    },
    {
      "cell_type": "code",
      "execution_count": null,
      "metadata": {
        "id": "_c7I3OtpmFvM"
      },
      "outputs": [],
      "source": [
        "x_train_encoded = encoder.predict(X_train)\n",
        "x_test_encoded = encoder.predict(X_test)"
      ]
    },
    {
      "cell_type": "code",
      "execution_count": null,
      "metadata": {
        "id": "5Yn-PAXcmFvN",
        "outputId": "02897951-b1ed-4d1b-e820-d97ee69d4324"
      },
      "outputs": [
        {
          "data": {
            "text/plain": [
              "(5634, 16)"
            ]
          },
          "execution_count": 109,
          "metadata": {},
          "output_type": "execute_result"
        }
      ],
      "source": [
        "x_train_encoded.shape"
      ]
    },
    {
      "cell_type": "code",
      "execution_count": null,
      "metadata": {
        "id": "5nnpzXrVmFvN"
      },
      "outputs": [],
      "source": [
        "model = Sequential()\n",
        "\n",
        "model.add(Dense(64, input_dim = encoding_dim, kernel_initializer='glorot_normal', activation='relu'))\n",
        "model.add(Dense(32, activation='relu'))\n",
        "model.add(Dense(1, kernel_initializer='glorot_normal', activation='sigmoid'))"
      ]
    },
    {
      "cell_type": "code",
      "execution_count": null,
      "metadata": {
        "id": "M7v_9RVCmFvN",
        "outputId": "3622bc14-af58-445a-d6a3-6211a7c2573b"
      },
      "outputs": [
        {
          "name": "stdout",
          "output_type": "stream",
          "text": [
            "Model: \"sequential_7\"\n",
            "_________________________________________________________________\n",
            "Layer (type)                 Output Shape              Param #   \n",
            "=================================================================\n",
            "dense_22 (Dense)             (None, 64)                1088      \n",
            "_________________________________________________________________\n",
            "dense_23 (Dense)             (None, 32)                2080      \n",
            "_________________________________________________________________\n",
            "dense_24 (Dense)             (None, 1)                 33        \n",
            "=================================================================\n",
            "Total params: 3,201\n",
            "Trainable params: 3,201\n",
            "Non-trainable params: 0\n",
            "_________________________________________________________________\n"
          ]
        }
      ],
      "source": [
        "model.summary()"
      ]
    },
    {
      "cell_type": "code",
      "execution_count": null,
      "metadata": {
        "id": "xCz6AGtAmFvN"
      },
      "outputs": [],
      "source": [
        "model.compile(loss='binary_crossentropy',\n",
        "              optimizer='Adam',\n",
        "              metrics=['accuracy'])"
      ]
    },
    {
      "cell_type": "code",
      "execution_count": null,
      "metadata": {
        "scrolled": true,
        "id": "0-7qvSammFvO",
        "outputId": "63896004-7022-4159-84a9-14c8bfa78b0a"
      },
      "outputs": [
        {
          "name": "stdout",
          "output_type": "stream",
          "text": [
            "Train on 4507 samples, validate on 1127 samples\n",
            "Epoch 1/50\n",
            "4507/4507 [==============================] - 1s 158us/sample - loss: 0.5139 - accuracy: 0.7477 - val_loss: 0.4266 - val_accuracy: 0.8039\n",
            "Epoch 2/50\n",
            "4507/4507 [==============================] - 0s 38us/sample - loss: 0.4427 - accuracy: 0.7841 - val_loss: 0.4223 - val_accuracy: 0.7986\n",
            "Epoch 3/50\n",
            "4507/4507 [==============================] - 0s 50us/sample - loss: 0.4329 - accuracy: 0.7881 - val_loss: 0.4184 - val_accuracy: 0.7977\n",
            "Epoch 4/50\n",
            "4507/4507 [==============================] - 0s 45us/sample - loss: 0.4330 - accuracy: 0.7890 - val_loss: 0.4465 - val_accuracy: 0.7924\n",
            "Epoch 5/50\n",
            "4507/4507 [==============================] - 0s 49us/sample - loss: 0.4272 - accuracy: 0.7959 - val_loss: 0.4219 - val_accuracy: 0.8075\n",
            "Epoch 6/50\n",
            "4507/4507 [==============================] - 0s 41us/sample - loss: 0.4272 - accuracy: 0.7941 - val_loss: 0.4148 - val_accuracy: 0.8110\n",
            "Epoch 7/50\n",
            "4507/4507 [==============================] - 0s 48us/sample - loss: 0.4226 - accuracy: 0.7985 - val_loss: 0.4177 - val_accuracy: 0.8092\n",
            "Epoch 8/50\n",
            "4507/4507 [==============================] - 0s 36us/sample - loss: 0.4231 - accuracy: 0.7988 - val_loss: 0.4149 - val_accuracy: 0.8092\n",
            "Epoch 9/50\n",
            "4507/4507 [==============================] - 0s 37us/sample - loss: 0.4255 - accuracy: 0.7983 - val_loss: 0.4126 - val_accuracy: 0.8110\n",
            "Epoch 10/50\n",
            "4507/4507 [==============================] - 0s 40us/sample - loss: 0.4181 - accuracy: 0.8043 - val_loss: 0.4120 - val_accuracy: 0.8030\n",
            "Epoch 11/50\n",
            "4507/4507 [==============================] - 0s 41us/sample - loss: 0.4200 - accuracy: 0.7985 - val_loss: 0.4114 - val_accuracy: 0.8083\n",
            "Epoch 12/50\n",
            "4507/4507 [==============================] - 0s 37us/sample - loss: 0.4162 - accuracy: 0.8085 - val_loss: 0.4279 - val_accuracy: 0.8039\n",
            "Epoch 13/50\n",
            "4507/4507 [==============================] - 0s 39us/sample - loss: 0.4169 - accuracy: 0.8032 - val_loss: 0.4208 - val_accuracy: 0.8083\n",
            "Epoch 14/50\n",
            "4507/4507 [==============================] - 0s 34us/sample - loss: 0.4171 - accuracy: 0.8036 - val_loss: 0.4156 - val_accuracy: 0.8048\n",
            "Epoch 15/50\n",
            "4507/4507 [==============================] - 0s 43us/sample - loss: 0.4152 - accuracy: 0.8059 - val_loss: 0.4117 - val_accuracy: 0.8092\n",
            "Epoch 16/50\n",
            "4507/4507 [==============================] - 0s 37us/sample - loss: 0.4157 - accuracy: 0.8014 - val_loss: 0.4206 - val_accuracy: 0.8057\n",
            "Epoch 00016: early stopping\n"
          ]
        },
        {
          "data": {
            "text/plain": [
              "<tensorflow.python.keras.callbacks.History at 0x7f2ae8b766d0>"
            ]
          },
          "execution_count": 113,
          "metadata": {},
          "output_type": "execute_result"
        }
      ],
      "source": [
        "model.fit(x_train_encoded, y_train, batch_size=64, epochs=50,validation_split=0.2,callbacks=callbacks)"
      ]
    },
    {
      "cell_type": "code",
      "execution_count": null,
      "metadata": {
        "id": "IFiunveNmFvO"
      },
      "outputs": [],
      "source": [
        "train_pred_7=model.predict_classes(x_train_encoded)\n",
        "test_pred_7=model.predict_classes(x_test_encoded)"
      ]
    },
    {
      "cell_type": "code",
      "execution_count": null,
      "metadata": {
        "id": "jwwd4yf5mFvO",
        "outputId": "7baca8b9-5f51-498d-a4a8-3f5926f84fcc"
      },
      "outputs": [
        {
          "name": "stdout",
          "output_type": "stream",
          "text": [
            "\n",
            "             ========================================\n",
            "               CLASSIFICATION REPORT FOR TRAIN DATA\n",
            "             ========================================\n",
            "        \n",
            "              precision    recall  f1-score   support\n",
            "\n",
            "           0     0.8583    0.8780    0.8680      4139\n",
            "           1     0.6393    0.5987    0.6183      1495\n",
            "\n",
            "    accuracy                         0.8039      5634\n",
            "   macro avg     0.7488    0.7383    0.7432      5634\n",
            "weighted avg     0.8002    0.8039    0.8018      5634\n",
            "\n",
            "\n",
            "             =========================================\n",
            "               CLASSIFICATION REPORT FOR TEST DATA\n",
            "             =========================================\n",
            "            \n",
            "              precision    recall  f1-score   support\n",
            "\n",
            "           0     0.8500    0.8705    0.8601      1035\n",
            "           1     0.6160    0.5749    0.5947       374\n",
            "\n",
            "    accuracy                         0.7921      1409\n",
            "   macro avg     0.7330    0.7227    0.7274      1409\n",
            "weighted avg     0.7879    0.7921    0.7897      1409\n",
            "\n",
            "\n",
            " ========================================\n",
            "   Confusion Matrix FOR TRAIN DATA\n",
            " ========================================\n",
            "            \n",
            "[[3634  505]\n",
            " [ 600  895]]\n",
            "\n",
            " =========================================\n",
            "   Confusion matrix FOR TEST DATA\n",
            " =========================================\n",
            "            \n",
            "[[901 134]\n",
            " [159 215]]\n"
          ]
        }
      ],
      "source": [
        "get_CR_CM(y_train, train_pred_7, y_test, test_pred_7)"
      ]
    },
    {
      "cell_type": "code",
      "execution_count": null,
      "metadata": {
        "id": "foiGrqklmFvO",
        "outputId": "deb6940e-1360-4b33-8661-cb85efc90aad"
      },
      "outputs": [
        {
          "name": "stdout",
          "output_type": "stream",
          "text": [
            "\n",
            " ========================================\n",
            "           ACCURACY FOR TRAIN DATA\n",
            " ========================================\n",
            "        \n",
            "          0.80386936457224\n",
            "\n",
            " =========================================\n",
            "           ACCURACY FOR TEST DATA\n",
            " =========================================\n",
            "            \n",
            "          0.7920511000709723\n",
            "\n",
            " ========================================\n",
            "           RECALL FOR TRAIN DATA\n",
            " ========================================\n",
            "            \n",
            "          0.5986622073578596\n",
            "\n",
            " =========================================\n",
            "           RECALL FOR TEST DATA\n",
            " =========================================\n",
            "            \n",
            "          0.5748663101604278\n"
          ]
        }
      ],
      "source": [
        "get_ACCURACY_RECALL(y_train, train_pred_7, y_test, test_pred_7)"
      ]
    },
    {
      "cell_type": "code",
      "execution_count": null,
      "metadata": {
        "id": "PzZqWw-cmFvO",
        "outputId": "bf95d67c-5ae7-4c78-c667-09cca2ae2576"
      },
      "outputs": [
        {
          "data": {
            "text/html": [
              "<div>\n",
              "<style scoped>\n",
              "    .dataframe tbody tr th:only-of-type {\n",
              "        vertical-align: middle;\n",
              "    }\n",
              "\n",
              "    .dataframe tbody tr th {\n",
              "        vertical-align: top;\n",
              "    }\n",
              "\n",
              "    .dataframe thead th {\n",
              "        text-align: right;\n",
              "    }\n",
              "</style>\n",
              "<table border=\"1\" class=\"dataframe\">\n",
              "  <thead>\n",
              "    <tr style=\"text-align: right;\">\n",
              "      <th></th>\n",
              "      <th>Model</th>\n",
              "      <th>Train_Accuracy</th>\n",
              "      <th>Train_Recall</th>\n",
              "      <th>Train_Precision</th>\n",
              "      <th>Train_F1_Score</th>\n",
              "      <th>Test_Accuracy</th>\n",
              "      <th>Test_Recall</th>\n",
              "      <th>Test_Precision</th>\n",
              "      <th>Test_F1_Score</th>\n",
              "    </tr>\n",
              "  </thead>\n",
              "  <tbody>\n",
              "    <tr>\n",
              "      <th>0</th>\n",
              "      <td>1 layer model</td>\n",
              "      <td>0.807952</td>\n",
              "      <td>0.527759</td>\n",
              "      <td>0.677253</td>\n",
              "      <td>0.593233</td>\n",
              "      <td>0.808375</td>\n",
              "      <td>0.532086</td>\n",
              "      <td>0.676871</td>\n",
              "      <td>0.595808</td>\n",
              "    </tr>\n",
              "    <tr>\n",
              "      <th>1</th>\n",
              "      <td>2 layer model - experiment 1</td>\n",
              "      <td>0.800319</td>\n",
              "      <td>0.587960</td>\n",
              "      <td>0.633285</td>\n",
              "      <td>0.609781</td>\n",
              "      <td>0.802697</td>\n",
              "      <td>0.601604</td>\n",
              "      <td>0.635593</td>\n",
              "      <td>0.618132</td>\n",
              "    </tr>\n",
              "    <tr>\n",
              "      <th>2</th>\n",
              "      <td>2 layer model - experiment 2</td>\n",
              "      <td>0.817536</td>\n",
              "      <td>0.523077</td>\n",
              "      <td>0.712853</td>\n",
              "      <td>0.603395</td>\n",
              "      <td>0.796309</td>\n",
              "      <td>0.483957</td>\n",
              "      <td>0.658182</td>\n",
              "      <td>0.557781</td>\n",
              "    </tr>\n",
              "    <tr>\n",
              "      <th>3</th>\n",
              "      <td>2 layer model with dropout</td>\n",
              "      <td>0.809017</td>\n",
              "      <td>0.547826</td>\n",
              "      <td>0.671862</td>\n",
              "      <td>0.603537</td>\n",
              "      <td>0.793471</td>\n",
              "      <td>0.508021</td>\n",
              "      <td>0.639731</td>\n",
              "      <td>0.566319</td>\n",
              "    </tr>\n",
              "    <tr>\n",
              "      <th>4</th>\n",
              "      <td>2 layer model with dropout with L2 regularizer</td>\n",
              "      <td>0.810259</td>\n",
              "      <td>0.498328</td>\n",
              "      <td>0.700188</td>\n",
              "      <td>0.582259</td>\n",
              "      <td>0.801987</td>\n",
              "      <td>0.475936</td>\n",
              "      <td>0.681992</td>\n",
              "      <td>0.560630</td>\n",
              "    </tr>\n",
              "    <tr>\n",
              "      <th>5</th>\n",
              "      <td>2 layer model with dropout and class weight</td>\n",
              "      <td>0.730919</td>\n",
              "      <td>0.850167</td>\n",
              "      <td>0.495903</td>\n",
              "      <td>0.626417</td>\n",
              "      <td>0.731015</td>\n",
              "      <td>0.836898</td>\n",
              "      <td>0.496038</td>\n",
              "      <td>0.622886</td>\n",
              "    </tr>\n",
              "    <tr>\n",
              "      <th>6</th>\n",
              "      <td>2 layer model with dropout with L1 regularizer</td>\n",
              "      <td>0.690983</td>\n",
              "      <td>0.882274</td>\n",
              "      <td>0.457351</td>\n",
              "      <td>0.602421</td>\n",
              "      <td>0.689141</td>\n",
              "      <td>0.895722</td>\n",
              "      <td>0.456403</td>\n",
              "      <td>0.604693</td>\n",
              "    </tr>\n",
              "    <tr>\n",
              "      <th>7</th>\n",
              "      <td>autoencoder with 2 layer model</td>\n",
              "      <td>0.803869</td>\n",
              "      <td>0.598662</td>\n",
              "      <td>0.639286</td>\n",
              "      <td>0.618307</td>\n",
              "      <td>0.792051</td>\n",
              "      <td>0.574866</td>\n",
              "      <td>0.616046</td>\n",
              "      <td>0.594744</td>\n",
              "    </tr>\n",
              "  </tbody>\n",
              "</table>\n",
              "</div>"
            ],
            "text/plain": [
              "                                            Model  Train_Accuracy  \\\n",
              "0                                   1 layer model        0.807952   \n",
              "1                    2 layer model - experiment 1        0.800319   \n",
              "2                    2 layer model - experiment 2        0.817536   \n",
              "3                      2 layer model with dropout        0.809017   \n",
              "4  2 layer model with dropout with L2 regularizer        0.810259   \n",
              "5     2 layer model with dropout and class weight        0.730919   \n",
              "6  2 layer model with dropout with L1 regularizer        0.690983   \n",
              "7                  autoencoder with 2 layer model        0.803869   \n",
              "\n",
              "   Train_Recall  Train_Precision  Train_F1_Score  Test_Accuracy  Test_Recall  \\\n",
              "0      0.527759         0.677253        0.593233       0.808375     0.532086   \n",
              "1      0.587960         0.633285        0.609781       0.802697     0.601604   \n",
              "2      0.523077         0.712853        0.603395       0.796309     0.483957   \n",
              "3      0.547826         0.671862        0.603537       0.793471     0.508021   \n",
              "4      0.498328         0.700188        0.582259       0.801987     0.475936   \n",
              "5      0.850167         0.495903        0.626417       0.731015     0.836898   \n",
              "6      0.882274         0.457351        0.602421       0.689141     0.895722   \n",
              "7      0.598662         0.639286        0.618307       0.792051     0.574866   \n",
              "\n",
              "   Test_Precision  Test_F1_Score  \n",
              "0        0.676871       0.595808  \n",
              "1        0.635593       0.618132  \n",
              "2        0.658182       0.557781  \n",
              "3        0.639731       0.566319  \n",
              "4        0.681992       0.560630  \n",
              "5        0.496038       0.622886  \n",
              "6        0.456403       0.604693  \n",
              "7        0.616046       0.594744  "
            ]
          },
          "execution_count": 117,
          "metadata": {},
          "output_type": "execute_result"
        }
      ],
      "source": [
        "scores = get_metrics(y_train,train_pred_7,y_test,test_pred_7,\"autoencoder with 2 layer model\",scores)\n",
        "scores"
      ]
    },
    {
      "cell_type": "markdown",
      "metadata": {
        "id": "LL2y1dp8mFvP"
      },
      "source": [
        "# Autoencoders with class weight"
      ]
    },
    {
      "cell_type": "code",
      "execution_count": null,
      "metadata": {
        "id": "CwrNkZpHmFvP",
        "outputId": "6c9b4da8-1e1e-415c-ca03-02aede18aebb"
      },
      "outputs": [
        {
          "name": "stdout",
          "output_type": "stream",
          "text": [
            "Model: \"sequential_7\"\n",
            "_________________________________________________________________\n",
            "Layer (type)                 Output Shape              Param #   \n",
            "=================================================================\n",
            "dense_22 (Dense)             (None, 64)                1088      \n",
            "_________________________________________________________________\n",
            "dense_23 (Dense)             (None, 32)                2080      \n",
            "_________________________________________________________________\n",
            "dense_24 (Dense)             (None, 1)                 33        \n",
            "=================================================================\n",
            "Total params: 3,201\n",
            "Trainable params: 3,201\n",
            "Non-trainable params: 0\n",
            "_________________________________________________________________\n"
          ]
        }
      ],
      "source": [
        "model.summary()"
      ]
    },
    {
      "cell_type": "code",
      "execution_count": null,
      "metadata": {
        "scrolled": true,
        "id": "T3074DvFmFvP",
        "outputId": "51d4564c-771c-4996-e02a-8214f7f33dbb"
      },
      "outputs": [
        {
          "name": "stdout",
          "output_type": "stream",
          "text": [
            "WARNING:tensorflow:sample_weight modes were coerced from\n",
            "  ...\n",
            "    to  \n",
            "  ['...']\n",
            "WARNING:tensorflow:sample_weight modes were coerced from\n",
            "  ...\n",
            "    to  \n",
            "  ['...']\n",
            "Train on 4507 samples, validate on 1127 samples\n",
            "Epoch 1/50\n",
            "4507/4507 [==============================] - 1s 147us/sample - loss: 0.1855 - accuracy: 0.7406 - val_loss: 0.1914 - val_accuracy: 0.6797\n",
            "Epoch 2/50\n",
            "4507/4507 [==============================] - 0s 42us/sample - loss: 0.1801 - accuracy: 0.7402 - val_loss: 0.1881 - val_accuracy: 0.7178\n",
            "Epoch 3/50\n",
            "4507/4507 [==============================] - 0s 33us/sample - loss: 0.1796 - accuracy: 0.7393 - val_loss: 0.1880 - val_accuracy: 0.7143\n",
            "Epoch 4/50\n",
            "4507/4507 [==============================] - 0s 35us/sample - loss: 0.1795 - accuracy: 0.7446 - val_loss: 0.1887 - val_accuracy: 0.7010\n",
            "Epoch 5/50\n",
            "4507/4507 [==============================] - 0s 41us/sample - loss: 0.1793 - accuracy: 0.7373 - val_loss: 0.1893 - val_accuracy: 0.6921\n",
            "Epoch 6/50\n",
            "4507/4507 [==============================] - 0s 50us/sample - loss: 0.1788 - accuracy: 0.7386 - val_loss: 0.1901 - val_accuracy: 0.6939\n",
            "Epoch 7/50\n",
            "4507/4507 [==============================] - 0s 41us/sample - loss: 0.1783 - accuracy: 0.7437 - val_loss: 0.1890 - val_accuracy: 0.7205\n",
            "Epoch 00007: early stopping\n"
          ]
        },
        {
          "data": {
            "text/plain": [
              "<tensorflow.python.keras.callbacks.History at 0x7f2ae89ee8d0>"
            ]
          },
          "execution_count": 119,
          "metadata": {},
          "output_type": "execute_result"
        }
      ],
      "source": [
        "model.fit(x_train_encoded, y_train, batch_size=64, epochs=50, class_weight={0:0.25, 1:0.75},validation_split=0.2,callbacks=callbacks)"
      ]
    },
    {
      "cell_type": "code",
      "execution_count": null,
      "metadata": {
        "id": "iM-PrilnmFvS"
      },
      "outputs": [],
      "source": [
        "train_pred_8=model.predict_classes(x_train_encoded)\n",
        "test_pred_8=model.predict_classes(x_test_encoded)"
      ]
    },
    {
      "cell_type": "code",
      "execution_count": null,
      "metadata": {
        "id": "NgreCawlmFvS",
        "outputId": "5ed29ea2-87f9-40db-df67-4c10b2fe99d9"
      },
      "outputs": [
        {
          "name": "stdout",
          "output_type": "stream",
          "text": [
            "\n",
            "             ========================================\n",
            "               CLASSIFICATION REPORT FOR TRAIN DATA\n",
            "             ========================================\n",
            "        \n",
            "              precision    recall  f1-score   support\n",
            "\n",
            "           0     0.9259    0.6975    0.7956      4139\n",
            "           1     0.5024    0.8455    0.6303      1495\n",
            "\n",
            "    accuracy                         0.7368      5634\n",
            "   macro avg     0.7141    0.7715    0.7130      5634\n",
            "weighted avg     0.8135    0.7368    0.7518      5634\n",
            "\n",
            "\n",
            "             =========================================\n",
            "               CLASSIFICATION REPORT FOR TEST DATA\n",
            "             =========================================\n",
            "            \n",
            "              precision    recall  f1-score   support\n",
            "\n",
            "           0     0.9248    0.6889    0.7896      1035\n",
            "           1     0.4953    0.8449    0.6245       374\n",
            "\n",
            "    accuracy                         0.7303      1409\n",
            "   macro avg     0.7100    0.7669    0.7070      1409\n",
            "weighted avg     0.8108    0.7303    0.7458      1409\n",
            "\n",
            "\n",
            " ========================================\n",
            "   Confusion Matrix FOR TRAIN DATA\n",
            " ========================================\n",
            "            \n",
            "[[2887 1252]\n",
            " [ 231 1264]]\n",
            "\n",
            " =========================================\n",
            "   Confusion matrix FOR TEST DATA\n",
            " =========================================\n",
            "            \n",
            "[[713 322]\n",
            " [ 58 316]]\n"
          ]
        }
      ],
      "source": [
        "get_CR_CM(y_train, train_pred_8, y_test, test_pred_8)"
      ]
    },
    {
      "cell_type": "code",
      "execution_count": null,
      "metadata": {
        "id": "shkqPnq3mFvS",
        "outputId": "1b672172-c93c-40f3-d7bf-48235c8fb885"
      },
      "outputs": [
        {
          "name": "stdout",
          "output_type": "stream",
          "text": [
            "\n",
            " ========================================\n",
            "           ACCURACY FOR TRAIN DATA\n",
            " ========================================\n",
            "        \n",
            "          0.7367767128150515\n",
            "\n",
            " =========================================\n",
            "           ACCURACY FOR TEST DATA\n",
            " =========================================\n",
            "            \n",
            "          0.730305180979418\n",
            "\n",
            " ========================================\n",
            "           RECALL FOR TRAIN DATA\n",
            " ========================================\n",
            "            \n",
            "          0.8454849498327759\n",
            "\n",
            " =========================================\n",
            "           RECALL FOR TEST DATA\n",
            " =========================================\n",
            "            \n",
            "          0.8449197860962567\n"
          ]
        }
      ],
      "source": [
        "get_ACCURACY_RECALL(y_train, train_pred_8, y_test, test_pred_8)"
      ]
    },
    {
      "cell_type": "code",
      "execution_count": null,
      "metadata": {
        "id": "vRXFxa32mFvU",
        "outputId": "196efc6f-714c-4ee9-b868-d34118dc8b9c"
      },
      "outputs": [
        {
          "data": {
            "text/html": [
              "<div>\n",
              "<style scoped>\n",
              "    .dataframe tbody tr th:only-of-type {\n",
              "        vertical-align: middle;\n",
              "    }\n",
              "\n",
              "    .dataframe tbody tr th {\n",
              "        vertical-align: top;\n",
              "    }\n",
              "\n",
              "    .dataframe thead th {\n",
              "        text-align: right;\n",
              "    }\n",
              "</style>\n",
              "<table border=\"1\" class=\"dataframe\">\n",
              "  <thead>\n",
              "    <tr style=\"text-align: right;\">\n",
              "      <th></th>\n",
              "      <th>Model</th>\n",
              "      <th>Train_Accuracy</th>\n",
              "      <th>Train_Recall</th>\n",
              "      <th>Train_Precision</th>\n",
              "      <th>Train_F1_Score</th>\n",
              "      <th>Test_Accuracy</th>\n",
              "      <th>Test_Recall</th>\n",
              "      <th>Test_Precision</th>\n",
              "      <th>Test_F1_Score</th>\n",
              "    </tr>\n",
              "  </thead>\n",
              "  <tbody>\n",
              "    <tr>\n",
              "      <th>0</th>\n",
              "      <td>1 layer model</td>\n",
              "      <td>0.807952</td>\n",
              "      <td>0.527759</td>\n",
              "      <td>0.677253</td>\n",
              "      <td>0.593233</td>\n",
              "      <td>0.808375</td>\n",
              "      <td>0.532086</td>\n",
              "      <td>0.676871</td>\n",
              "      <td>0.595808</td>\n",
              "    </tr>\n",
              "    <tr>\n",
              "      <th>1</th>\n",
              "      <td>2 layer model - experiment 1</td>\n",
              "      <td>0.800319</td>\n",
              "      <td>0.587960</td>\n",
              "      <td>0.633285</td>\n",
              "      <td>0.609781</td>\n",
              "      <td>0.802697</td>\n",
              "      <td>0.601604</td>\n",
              "      <td>0.635593</td>\n",
              "      <td>0.618132</td>\n",
              "    </tr>\n",
              "    <tr>\n",
              "      <th>2</th>\n",
              "      <td>2 layer model - experiment 2</td>\n",
              "      <td>0.817536</td>\n",
              "      <td>0.523077</td>\n",
              "      <td>0.712853</td>\n",
              "      <td>0.603395</td>\n",
              "      <td>0.796309</td>\n",
              "      <td>0.483957</td>\n",
              "      <td>0.658182</td>\n",
              "      <td>0.557781</td>\n",
              "    </tr>\n",
              "    <tr>\n",
              "      <th>3</th>\n",
              "      <td>2 layer model with dropout</td>\n",
              "      <td>0.809017</td>\n",
              "      <td>0.547826</td>\n",
              "      <td>0.671862</td>\n",
              "      <td>0.603537</td>\n",
              "      <td>0.793471</td>\n",
              "      <td>0.508021</td>\n",
              "      <td>0.639731</td>\n",
              "      <td>0.566319</td>\n",
              "    </tr>\n",
              "    <tr>\n",
              "      <th>4</th>\n",
              "      <td>2 layer model with dropout with L2 regularizer</td>\n",
              "      <td>0.810259</td>\n",
              "      <td>0.498328</td>\n",
              "      <td>0.700188</td>\n",
              "      <td>0.582259</td>\n",
              "      <td>0.801987</td>\n",
              "      <td>0.475936</td>\n",
              "      <td>0.681992</td>\n",
              "      <td>0.560630</td>\n",
              "    </tr>\n",
              "    <tr>\n",
              "      <th>5</th>\n",
              "      <td>2 layer model with dropout and class weight</td>\n",
              "      <td>0.730919</td>\n",
              "      <td>0.850167</td>\n",
              "      <td>0.495903</td>\n",
              "      <td>0.626417</td>\n",
              "      <td>0.731015</td>\n",
              "      <td>0.836898</td>\n",
              "      <td>0.496038</td>\n",
              "      <td>0.622886</td>\n",
              "    </tr>\n",
              "    <tr>\n",
              "      <th>6</th>\n",
              "      <td>2 layer model with dropout with L1 regularizer</td>\n",
              "      <td>0.690983</td>\n",
              "      <td>0.882274</td>\n",
              "      <td>0.457351</td>\n",
              "      <td>0.602421</td>\n",
              "      <td>0.689141</td>\n",
              "      <td>0.895722</td>\n",
              "      <td>0.456403</td>\n",
              "      <td>0.604693</td>\n",
              "    </tr>\n",
              "    <tr>\n",
              "      <th>7</th>\n",
              "      <td>autoencoder with 2 layer model</td>\n",
              "      <td>0.803869</td>\n",
              "      <td>0.598662</td>\n",
              "      <td>0.639286</td>\n",
              "      <td>0.618307</td>\n",
              "      <td>0.792051</td>\n",
              "      <td>0.574866</td>\n",
              "      <td>0.616046</td>\n",
              "      <td>0.594744</td>\n",
              "    </tr>\n",
              "    <tr>\n",
              "      <th>8</th>\n",
              "      <td>autoencoder with 2 layer model and with class ...</td>\n",
              "      <td>0.736777</td>\n",
              "      <td>0.845485</td>\n",
              "      <td>0.502385</td>\n",
              "      <td>0.630267</td>\n",
              "      <td>0.730305</td>\n",
              "      <td>0.844920</td>\n",
              "      <td>0.495298</td>\n",
              "      <td>0.624506</td>\n",
              "    </tr>\n",
              "  </tbody>\n",
              "</table>\n",
              "</div>"
            ],
            "text/plain": [
              "                                               Model  Train_Accuracy  \\\n",
              "0                                      1 layer model        0.807952   \n",
              "1                       2 layer model - experiment 1        0.800319   \n",
              "2                       2 layer model - experiment 2        0.817536   \n",
              "3                         2 layer model with dropout        0.809017   \n",
              "4     2 layer model with dropout with L2 regularizer        0.810259   \n",
              "5        2 layer model with dropout and class weight        0.730919   \n",
              "6     2 layer model with dropout with L1 regularizer        0.690983   \n",
              "7                     autoencoder with 2 layer model        0.803869   \n",
              "8  autoencoder with 2 layer model and with class ...        0.736777   \n",
              "\n",
              "   Train_Recall  Train_Precision  Train_F1_Score  Test_Accuracy  Test_Recall  \\\n",
              "0      0.527759         0.677253        0.593233       0.808375     0.532086   \n",
              "1      0.587960         0.633285        0.609781       0.802697     0.601604   \n",
              "2      0.523077         0.712853        0.603395       0.796309     0.483957   \n",
              "3      0.547826         0.671862        0.603537       0.793471     0.508021   \n",
              "4      0.498328         0.700188        0.582259       0.801987     0.475936   \n",
              "5      0.850167         0.495903        0.626417       0.731015     0.836898   \n",
              "6      0.882274         0.457351        0.602421       0.689141     0.895722   \n",
              "7      0.598662         0.639286        0.618307       0.792051     0.574866   \n",
              "8      0.845485         0.502385        0.630267       0.730305     0.844920   \n",
              "\n",
              "   Test_Precision  Test_F1_Score  \n",
              "0        0.676871       0.595808  \n",
              "1        0.635593       0.618132  \n",
              "2        0.658182       0.557781  \n",
              "3        0.639731       0.566319  \n",
              "4        0.681992       0.560630  \n",
              "5        0.496038       0.622886  \n",
              "6        0.456403       0.604693  \n",
              "7        0.616046       0.594744  \n",
              "8        0.495298       0.624506  "
            ]
          },
          "execution_count": 123,
          "metadata": {},
          "output_type": "execute_result"
        }
      ],
      "source": [
        "scores = get_metrics(y_train,train_pred_8,y_test,test_pred_8,\"autoencoder with 2 layer model and with class weight\",scores)\n",
        "scores"
      ]
    }
  ],
  "metadata": {
    "anaconda-cloud": {},
    "kernelspec": {
      "display_name": "Python 3",
      "language": "python",
      "name": "python3"
    },
    "language_info": {
      "codemirror_mode": {
        "name": "ipython",
        "version": 3
      },
      "file_extension": ".py",
      "mimetype": "text/x-python",
      "name": "python",
      "nbconvert_exporter": "python",
      "pygments_lexer": "ipython3",
      "version": "3.7.6"
    },
    "colab": {
      "provenance": [],
      "collapsed_sections": [
        "QFXhuZtRmFvM"
      ]
    }
  },
  "nbformat": 4,
  "nbformat_minor": 0
}